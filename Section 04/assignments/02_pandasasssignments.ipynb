{
 "cells": [
  {
   "cell_type": "markdown",
   "metadata": {},
   "source": [
    "# Module: Pandas Assignments\n",
    "## Lesson: Pandas\n",
    "\n",
    "### Assignment 8: Pivot Tables\n",
    "\n",
    "1. Create a Pandas DataFrame with columns 'Date', 'Category', and 'Value'. Create a pivot table to compute the sum of 'Value' for each 'Category' by 'Date'.\n",
    "2. Create a Pandas DataFrame with columns 'Year', 'Quarter', and 'Revenue'. Create a pivot table to compute the mean 'Revenue' for each 'Quarter' by 'Year'.\n",
    "\n",
    "### Assignment 9: Applying Functions\n",
    "\n",
    "1. Create a Pandas DataFrame with 3 columns and 5 rows filled with random integers. Apply a function that doubles the values of the DataFrame.\n",
    "2. Create a Pandas DataFrame with 3 columns and 6 rows filled with random integers. Apply a lambda function to create a new column that is the sum of the existing columns.\n",
    "\n",
    "### Assignment 10: Working with Text Data\n",
    "\n",
    "1. Create a Pandas Series with 5 random text strings. Convert all the strings to uppercase.\n",
    "2. Create a Pandas Series with 5 random text strings. Extract the first three characters of each string.\n"
   ]
  },
  {
   "cell_type": "markdown",
   "id": "d846560d",
   "metadata": {},
   "source": [
    "### Assignment 1: DataFrame Creation and Indexing\n",
    "\n",
    "1. Create a Pandas DataFrame with 4 columns and 6 rows filled with random integers. Set the index to be the first column.\n",
    "2. Create a Pandas DataFrame with columns 'A', 'B', 'C' and index 'X', 'Y', 'Z'. Fill the DataFrame with random integers and access the element at row 'Y' and column 'B'."
   ]
  },
  {
   "cell_type": "code",
   "execution_count": 6,
   "id": "f57413e7",
   "metadata": {},
   "outputs": [
    {
     "name": "stdout",
     "output_type": "stream",
     "text": [
      "Original Data Frame:\n",
      "     A   B   C   D\n",
      "0  43  73   9  29\n",
      "1  63  72  40  62\n",
      "2  82  59  13  10\n",
      "3  32  79  75  88\n",
      "4  77  89  41  66\n",
      "5   7  95  19   6\n",
      "\n",
      "Data frame with new index:\n",
      "      B   C   D\n",
      "A             \n",
      "43  73   9  29\n",
      "63  72  40  62\n",
      "82  59  13  10\n",
      "32  79  75  88\n",
      "77  89  41  66\n",
      "7   95  19   6\n"
     ]
    }
   ],
   "source": [
    "# 1.\n",
    "import pandas as pd\n",
    "import numpy as np\n",
    "\n",
    "df = pd.DataFrame(np.random.randint(1, 100, size=(6, 4)), columns=['A', 'B', 'C', 'D'])\n",
    "\n",
    "print(\"Original Data Frame:\\n\", df)\n",
    "\n",
    "print()\n",
    "\n",
    "# Set the index to be the first column\n",
    "df.set_index('A', inplace=True)\n",
    "print(\"Data frame with new index:\\n\", df)"
   ]
  },
  {
   "cell_type": "code",
   "execution_count": 7,
   "id": "84abc6a3",
   "metadata": {},
   "outputs": [
    {
     "name": "stdout",
     "output_type": "stream",
     "text": [
      "Original Dataframe:\n",
      "     X   Y   Z\n",
      "A   9   5  34\n",
      "B  23  36  40\n",
      "C  18  37  23\n"
     ]
    }
   ],
   "source": [
    "#2.\n",
    "df2 = pd.DataFrame(np.random.randint(1, 50, size=(3, 3)),columns=[\"X\", \"Y\", \"Z\"], index=['A', 'B', 'C'])\n",
    "\n",
    "print(\"Original Dataframe:\\n\", df2)"
   ]
  },
  {
   "cell_type": "markdown",
   "id": "89dab4ce",
   "metadata": {},
   "source": [
    "### Assignment 2: DataFrame Operations\n",
    "\n",
    "1. Create a Pandas DataFrame with 3 columns and 5 rows filled with random integers. Add a new column that is the product of the first two columns.\n",
    "2. Create a Pandas DataFrame with 3 columns and 4 rows filled with random integers. Compute the row-wise and column-wise sum."
   ]
  },
  {
   "cell_type": "code",
   "execution_count": 11,
   "id": "5ccd83c0",
   "metadata": {},
   "outputs": [
    {
     "name": "stdout",
     "output_type": "stream",
     "text": [
      "Original Data frame:\n",
      "     A  B  C\n",
      "0   1  6  3\n",
      "1   8  8  7\n",
      "2   5  9  8\n",
      "3   2  9  5\n",
      "4  15  5  8\n",
      "\n",
      "Modified Data frame:\n",
      "     A  B  C  A x B\n",
      "0   1  6  3      6\n",
      "1   8  8  7     64\n",
      "2   5  9  8     45\n",
      "3   2  9  5     18\n",
      "4  15  5  8     75\n"
     ]
    }
   ],
   "source": [
    "# 1.\n",
    "df = pd.DataFrame(np.random.randint(1, 16, size=(5, 3)), columns=['A', 'B', 'C'])\n",
    "print(\"Original Data frame:\\n\",df)\n",
    "\n",
    "print()\n",
    "\n",
    "df['A x B'] = df['A'] * df['B']\n",
    "print(\"Modified Data frame:\\n\", df)"
   ]
  },
  {
   "cell_type": "code",
   "execution_count": 15,
   "id": "164f1713",
   "metadata": {},
   "outputs": [
    {
     "name": "stdout",
     "output_type": "stream",
     "text": [
      "Original Dataframe:\n",
      "     0   1   2\n",
      "0  25   7   6\n",
      "1  41  10  43\n",
      "2  26  38  46\n",
      "3  31   4   2\n",
      "Row-wise sum:\n",
      "0    123\n",
      "1     59\n",
      "2     97\n",
      "dtype: int64\n",
      "Column-wise sum:\n",
      "0     38\n",
      "1     94\n",
      "2    110\n",
      "3     37\n",
      "dtype: int64\n"
     ]
    }
   ],
   "source": [
    "# 2.\n",
    "df2 = pd.DataFrame(np.random.randint(1, 50, size=(4, 3)))\n",
    "\n",
    "print(\"Original Dataframe:\\n\", df2)\n",
    "\n",
    "# compute the row wise and column wise sum\n",
    "row_sum = df2.sum(axis=0)\n",
    "col_sum = df2.sum(axis=1)\n",
    "\n",
    "print(\"Row-wise sum:\")\n",
    "print(row_sum)\n",
    "print(\"Column-wise sum:\")\n",
    "print(col_sum)"
   ]
  },
  {
   "cell_type": "markdown",
   "id": "2d2a1e5e",
   "metadata": {},
   "source": [
    "### Assignment 3: Data Cleaning\n",
    "\n",
    "1. Create a Pandas DataFrame with 3 columns and 5 rows filled with random integers. Introduce some NaN values. Fill the NaN values with the mean of the respective columns.\n",
    "2. Create a Pandas DataFrame with 4 columns and 6 rows filled with random integers. Introduce some NaN values. Drop the rows with any NaN values."
   ]
  },
  {
   "cell_type": "code",
   "execution_count": 19,
   "id": "d4bc0115",
   "metadata": {},
   "outputs": [
    {
     "name": "stdout",
     "output_type": "stream",
     "text": [
      "Original DataFrame:\n",
      "     A   B   C\n",
      "0   1  15   7\n",
      "1   2   9   5\n",
      "2   6   3   1\n",
      "3   9   3   2\n",
      "4  13   8  10\n",
      "\n",
      "Data Frame with NaN values:\n",
      "      A     B     C\n",
      "0  1.0  15.0   NaN\n",
      "1  2.0   NaN   5.0\n",
      "2  6.0   3.0   1.0\n",
      "3  9.0   3.0   2.0\n",
      "4  NaN   8.0  10.0\n",
      "\n",
      "Data Frame with NaN values filled:\n",
      "      A      B     C\n",
      "0  1.0  15.00   4.5\n",
      "1  2.0   7.25   5.0\n",
      "2  6.0   3.00   1.0\n",
      "3  9.0   3.00   2.0\n",
      "4  4.5   8.00  10.0\n"
     ]
    }
   ],
   "source": [
    "# 1.\n",
    "df = pd.DataFrame(np.random.randint(1, 16, size=(5, 3)), columns=['A', 'B', 'C'])\n",
    "\n",
    "print(\"Original DataFrame:\\n\", df)\n",
    "print()\n",
    "\n",
    "df.iloc[1,1] = np.nan\n",
    "df.iloc[0, 2] = np.nan\n",
    "df.iloc[4, 0] = np.nan\n",
    "\n",
    "print(\"Data Frame with NaN values:\\n\", df)\n",
    "\n",
    "print()\n",
    "\n",
    "df.fillna(df.mean(), inplace=True)\n",
    "print(\"Data Frame with NaN values filled:\\n\", df)"
   ]
  },
  {
   "cell_type": "code",
   "execution_count": 25,
   "id": "94c2b9ed",
   "metadata": {},
   "outputs": [
    {
     "name": "stdout",
     "output_type": "stream",
     "text": [
      "Original Data Frame:\n",
      "     A   B   C   D\n",
      "0  15  19  17  17\n",
      "1   9   3  19  12\n",
      "2  24  22   5   5\n",
      "3   7   9  24   7\n",
      "4   1  13  21   5\n",
      "5  19   3   9   5\n",
      "\n",
      "Data Frame with NaN values:\n",
      "       A   B     C     D\n",
      "0   NaN  19  17.0  17.0\n",
      "1   9.0   3  19.0  12.0\n",
      "2  24.0  22   NaN   5.0\n",
      "3   7.0   9  24.0   NaN\n",
      "4   1.0  13  21.0   5.0\n",
      "5  19.0   3   9.0   NaN\n",
      "\n",
      "Data with dropped NaN values:\n",
      "      A   B     C     D\n",
      "1  9.0   3  19.0  12.0\n",
      "4  1.0  13  21.0   5.0\n"
     ]
    }
   ],
   "source": [
    "# 2.\n",
    "df2 = pd.DataFrame(np.random.randint(1, 25, size=(6, 4)), columns=['A', 'B', 'C', 'D'])\n",
    "\n",
    "print(\"Original Data Frame:\\n\", df2)\n",
    "print()\n",
    "\n",
    "df2.iloc[2, 2] = np.nan\n",
    "df2.iloc[5, 3] = np.nan\n",
    "df2.iloc[3, 3] = np.nan\n",
    "df2.iloc[0, 0] = np.nan\n",
    "\n",
    "print(\"Data Frame with NaN values:\\n\", df2)\n",
    "print()\n",
    "\n",
    "df2.dropna(inplace=True)\n",
    "\n",
    "print(\"Data with dropped NaN values:\\n\", df2)"
   ]
  },
  {
   "cell_type": "markdown",
   "id": "5e2ccf79",
   "metadata": {},
   "source": [
    "### Assignment 4: Data Aggregation\n",
    "\n",
    "1. Create a Pandas DataFrame with 2 columns: 'Category' and 'Value'. Fill the 'Category' column with random categories ('A', 'B', 'C') and the 'Value' column with random integers. Group the DataFrame by 'Category' and compute the sum and mean of 'Value' for each category.\n",
    "2. Create a Pandas DataFrame with 3 columns: 'Product', 'Category', and 'Sales'. Fill the DataFrame with random data. Group the DataFrame by 'Category' and compute the total sales for each category."
   ]
  },
  {
   "cell_type": "code",
   "execution_count": 28,
   "id": "ce2f8ede",
   "metadata": {},
   "outputs": [
    {
     "name": "stdout",
     "output_type": "stream",
     "text": [
      "Original Dataframe:\n",
      "   Category  Values\n",
      "0        A      80\n",
      "1        B      23\n",
      "2        A      22\n",
      "3        C       8\n",
      "4        A      48\n",
      "5        B      64\n",
      "6        C       7\n",
      "7        A      79\n",
      "8        C      28\n",
      "9        A      34\n",
      "\n",
      "Grouped Data frame:\n",
      "           sum       mean\n",
      "Category                \n",
      "A         263  52.600000\n",
      "B          87  43.500000\n",
      "C          43  14.333333\n"
     ]
    }
   ],
   "source": [
    "df = pd.DataFrame({'Category': np.random.choice(['A','B','C'], size=10), 'Values':np.random.randint(1, 100, size=10)})\n",
    "\n",
    "print(\"Original Dataframe:\\n\",df)\n",
    "print()\n",
    "\n",
    "grouped = df.groupby('Category')['Values'].agg(['sum', 'mean'])\n",
    "print(\"Grouped Data frame:\\n\", grouped)"
   ]
  },
  {
   "cell_type": "code",
   "execution_count": 30,
   "id": "d74827ae",
   "metadata": {},
   "outputs": [
    {
     "name": "stdout",
     "output_type": "stream",
     "text": [
      "Original Dataframe:\n",
      "        Product     Category  Sales\n",
      "0  Acer Nitro5        Phone     41\n",
      "1      TP-link        Phone     72\n",
      "2    USB Cable        Phone     59\n",
      "3      TP-link       Laptop     70\n",
      "4     Boat 535  Accessories     60\n",
      "5       iPhone        Phone     44\n",
      "6       iPhone    Headphone     45\n",
      "7      TP-link       Router     52\n",
      "8     Boat 535       Router     38\n",
      "9    USB Cable        Phone     52\n",
      "\n",
      "Total Sales for each category:\n",
      " Category\n",
      "Accessories     60\n",
      "Headphone       45\n",
      "Laptop          70\n",
      "Phone          268\n",
      "Router          90\n",
      "Name: Sales, dtype: int32\n"
     ]
    }
   ],
   "source": [
    "# 2.\n",
    "df2 = pd.DataFrame({'Product': np.random.choice(['iPhone', 'Acer Nitro5', 'Boat 535', 'USB Cable', 'TP-link'], size=10), 'Category': np.random.choice(['Phone', 'Laptop', 'Headphone', 'Accessories', 'Router'], size=10), 'Sales':np.random.randint(25, 75, size=10)})\n",
    "\n",
    "print(\"Original Dataframe:\\n\", df2)\n",
    "print()\n",
    "\n",
    "grouped = df2.groupby('Category')['Sales'].sum()\n",
    "print(\"Total Sales for each category:\\n\",grouped)\n"
   ]
  },
  {
   "cell_type": "markdown",
   "id": "f7f0c820",
   "metadata": {},
   "source": [
    "### Assignment 5: Merging DataFrames\n",
    "\n",
    "1. Create two Pandas DataFrames with a common column. Merge the DataFrames using the common column.\n",
    "2. Create two Pandas DataFrames with different columns. Concatenate the DataFrames along the rows and along the columns."
   ]
  },
  {
   "cell_type": "code",
   "execution_count": 32,
   "id": "8d37524d",
   "metadata": {},
   "outputs": [
    {
     "name": "stdout",
     "output_type": "stream",
     "text": [
      "DataFrame 1:\n",
      "  Key  Value1\n",
      "0   A      98\n",
      "1   B      68\n",
      "2   C      75\n",
      "3   D      32\n",
      "DataFrame 2:\n",
      "  Key  Value2\n",
      "0   A      85\n",
      "1   B      45\n",
      "2   C      21\n",
      "3   E      96\n",
      "\n",
      "Merged DataFrame:\n",
      "  Key  Value1  Value2\n",
      "0   A      98      85\n",
      "1   B      68      45\n",
      "2   C      75      21\n"
     ]
    }
   ],
   "source": [
    "# 1.\n",
    "df1 = pd.DataFrame({'Key': ['A', 'B', 'C', 'D'], 'Value1': np.random.randint(1, 100, size=4)})\n",
    "\n",
    "df2 = pd.DataFrame({'Key': ['A', 'B', 'C', 'E'], 'Value2': np.random.randint(1, 100, size=4)})\n",
    "\n",
    "print(\"DataFrame 1:\")\n",
    "print(df1)\n",
    "print(\"DataFrame 2:\")\n",
    "print(df2)\n",
    "print()\n",
    "\n",
    "# Merge the dataframe using common column\n",
    "merged = pd.merge(df1, df2, on='Key')\n",
    "print(\"Merged DataFrame:\")\n",
    "print(merged)"
   ]
  },
  {
   "cell_type": "code",
   "execution_count": 38,
   "id": "79d20f4a",
   "metadata": {},
   "outputs": [
    {
     "name": "stdout",
     "output_type": "stream",
     "text": [
      "DataFrame 1:\n",
      "   C1  C2  C3\n",
      "0  36  53  44\n",
      "1  28  37  66\n",
      "2  42  66  51\n",
      "\n",
      "DataFrame 2:\n",
      "   C4  C5  C6\n",
      "0  54  20  52\n",
      "1  45  52  34\n",
      "2  61  38  23\n",
      "\n",
      "Concatenated DataFrame (rows):\n",
      "      C1    C2    C3    C4    C5    C6\n",
      "0  36.0  53.0  44.0   NaN   NaN   NaN\n",
      "1  28.0  37.0  66.0   NaN   NaN   NaN\n",
      "2  42.0  66.0  51.0   NaN   NaN   NaN\n",
      "0   NaN   NaN   NaN  54.0  20.0  52.0\n",
      "1   NaN   NaN   NaN  45.0  52.0  34.0\n",
      "2   NaN   NaN   NaN  61.0  38.0  23.0\n",
      "\n",
      "Concatenated DataFrame (rows):\n",
      "    C1  C2  C3  C4  C5  C6\n",
      "0  36  53  44  54  20  52\n",
      "1  28  37  66  45  52  34\n",
      "2  42  66  51  61  38  23\n"
     ]
    }
   ],
   "source": [
    "# 2.\n",
    "df3 = pd.DataFrame(np.random.randint(20, 69, size=(3, 3)), columns=['C1', 'C2', 'C3'])\n",
    "\n",
    "df4 = pd.DataFrame(np.random.randint(20, 69, size=(3, 3)), columns=['C4', 'C5', 'C6'])\n",
    "\n",
    "print(\"DataFrame 1:\")\n",
    "print(df3)\n",
    "print()\n",
    "print(\"DataFrame 2:\")\n",
    "print(df4)\n",
    "print()\n",
    "\n",
    "# Concat the data frames along the rows\n",
    "concat_row = pd.concat([df3, df4], axis=0)\n",
    "print(\"Concatenated DataFrame (rows):\\n\", concat_row)\n",
    "print()\n",
    "\n",
    "# Concat the data frames along the rows\n",
    "concat_col = pd.concat([df3, df4], axis=1)\n",
    "print(\"Concatenated DataFrame (rows):\\n\", concat_col)"
   ]
  },
  {
   "cell_type": "markdown",
   "id": "3e978d87",
   "metadata": {},
   "source": [
    "### Assignment 6: Time Series Analysis\n",
    "\n",
    "1. Create a Pandas DataFrame with a datetime index and one column filled with random integers. Resample the DataFrame to compute the monthly mean of the values.\n",
    "2. Create a Pandas DataFrame with a datetime index ranging from '2021-01-01' to '2021-12-31' and one column filled with random integers. Compute the rolling mean with a window of 7 days."
   ]
  },
  {
   "cell_type": "code",
   "execution_count": 42,
   "id": "f6cebd5d",
   "metadata": {},
   "outputs": [
    {
     "name": "stdout",
     "output_type": "stream",
     "text": [
      "Original Data frame:\n",
      "             data\n",
      "date            \n",
      "2022-01-01    43\n",
      "2022-01-02    28\n",
      "2022-01-03    42\n",
      "2022-01-04    82\n",
      "2022-01-05    53\n",
      "...          ...\n",
      "2022-12-27    80\n",
      "2022-12-28    49\n",
      "2022-12-29    62\n",
      "2022-12-30    81\n",
      "2022-12-31    76\n",
      "\n",
      "[365 rows x 1 columns]\n",
      "Monthly mean DataFrame:\n",
      "                 data\n",
      "date                 \n",
      "2022-01-31  52.903226\n",
      "2022-02-28  46.785714\n",
      "2022-03-31  45.354839\n",
      "2022-04-30  44.666667\n",
      "2022-05-31  47.225806\n",
      "2022-06-30  60.033333\n",
      "2022-07-31  54.967742\n",
      "2022-08-31  53.709677\n",
      "2022-09-30  51.733333\n",
      "2022-10-31  48.258065\n",
      "2022-11-30  41.766667\n",
      "2022-12-31  49.193548\n"
     ]
    }
   ],
   "source": [
    "# 1.\n",
    "date_rng = pd.date_range(start='2022-01-01', end='2022-12-31', freq='D')\n",
    "df = pd.DataFrame(date_rng, columns=['date'])\n",
    "df['data'] = np.random.randint(0, 100, size=(len(date_rng)))\n",
    "df.set_index('date', inplace=True)\n",
    "print(\"Original Data frame:\\n\",df)\n",
    "\n",
    "# Resample the data frame to compute the monthly mean of the values\n",
    "monthly_mean = df.resample('ME').mean()\n",
    "print(\"Monthly mean DataFrame:\")\n",
    "print(monthly_mean)"
   ]
  },
  {
   "cell_type": "code",
   "execution_count": 44,
   "id": "b3f7844f",
   "metadata": {},
   "outputs": [
    {
     "name": "stdout",
     "output_type": "stream",
     "text": [
      "Original DataFrame:\n",
      "            data\n",
      "Date            \n",
      "2021-01-01    29\n",
      "2021-01-02    85\n",
      "2021-01-03    12\n",
      "2021-01-04    71\n",
      "2021-01-05    20\n",
      "...          ...\n",
      "2022-12-27    35\n",
      "2022-12-28    74\n",
      "2022-12-29    19\n",
      "2022-12-30    16\n",
      "2022-12-31    26\n",
      "\n",
      "[730 rows x 1 columns]\n",
      "\n",
      "Rolling mean DataFrame:\n",
      "                 data\n",
      "Date                 \n",
      "2021-01-01        NaN\n",
      "2021-01-02        NaN\n",
      "2021-01-03        NaN\n",
      "2021-01-04        NaN\n",
      "2021-01-05        NaN\n",
      "...               ...\n",
      "2022-12-27  43.857143\n",
      "2022-12-28  46.571429\n",
      "2022-12-29  48.142857\n",
      "2022-12-30  50.285714\n",
      "2022-12-31  48.857143\n",
      "\n",
      "[730 rows x 1 columns]\n"
     ]
    }
   ],
   "source": [
    "# 2.\n",
    "date_rng2 = pd.date_range(start=\"2021-01-01\", end=\"2022-12-31\", freq='D')\n",
    "df = pd.DataFrame(date_rng2, columns=['Date'])\n",
    "df['data'] = np.random.randint(0, 100, size=(len(date_rng2)))\n",
    "df.set_index('Date', inplace=True)\n",
    "\n",
    "print(\"Original DataFrame:\")\n",
    "print(df)\n",
    "print()\n",
    "\n",
    "# Compute the rolling mean with a window of 7 days\n",
    "rolling_mean = df.rolling(window=7).mean()\n",
    "print(\"Rolling mean DataFrame:\")\n",
    "print(rolling_mean)"
   ]
  },
  {
   "cell_type": "markdown",
   "id": "89073fe5",
   "metadata": {},
   "source": [
    "### Assignment 7: MultiIndex DataFrame\n",
    "\n",
    "1. Create a Pandas DataFrame with a MultiIndex (hierarchical index). Perform some basic indexing and slicing operations on the MultiIndex DataFrame.\n",
    "2. Create a Pandas DataFrame with MultiIndex consisting of 'Category' and 'SubCategory'. Fill the DataFrame with random data and compute the sum of values for each 'Category' and 'SubCategory'."
   ]
  },
  {
   "cell_type": "code",
   "execution_count": 50,
   "id": "330faf77",
   "metadata": {},
   "outputs": [
    {
     "name": "stdout",
     "output_type": "stream",
     "text": [
      "MultiIndex DataFrame:\n",
      "                      Value1  Value2  Value3\n",
      "Category SubCategory                        \n",
      "A        one              13      77       2\n",
      "         two              18      44       9\n",
      "B        one              97       7      87\n",
      "         two              50      14      56\n",
      "Indexing at Category 'A':\n",
      "             Value1  Value2  Value3\n",
      "SubCategory                        \n",
      "one              13      77       2\n",
      "two              18      44       9\n",
      "\n",
      "Value1    50\n",
      "Value2    14\n",
      "Value3    56\n",
      "Name: (B, two), dtype: int32\n"
     ]
    }
   ],
   "source": [
    "# 1.\n",
    "arrays = [['A', 'A', 'B', 'B'], ['one', 'two', 'one', 'two']]\n",
    "index = pd.MultiIndex.from_arrays(arrays, names=('Category', 'SubCategory'))\n",
    "df = pd.DataFrame(np.random.randint(1, 100, size=(4, 3)), index=index, columns=['Value1', 'Value2', 'Value3'])\n",
    "print(\"MultiIndex DataFrame:\")\n",
    "print(df)\n",
    "\n",
    "# Basic indexing and slicing operations\n",
    "print(\"Indexing at Category 'A':\")\n",
    "print(df.loc['A'])\n",
    "print()\n",
    "# print(\"Slicing at Category 'B' and SubCategory 'two':\")\n",
    "print(df.loc[('B', 'two')])"
   ]
  },
  {
   "cell_type": "code",
   "execution_count": 53,
   "id": "418f1a97",
   "metadata": {},
   "outputs": [
    {
     "name": "stdout",
     "output_type": "stream",
     "text": [
      "MultiIndex DataFrame:\n",
      "                      Value1  Value2  Value3\n",
      "Category SubCategory                        \n",
      "A        one              80      98      87\n",
      "         two              92      51      74\n",
      "B        one              13      42      12\n",
      "         two              91      64      40\n",
      "C        one              90      17       9\n",
      "         two              91       8      80\n",
      "Sum of values:\n",
      "                       Value1  Value2  Value3\n",
      "Category SubCategory                        \n",
      "A        one              80      98      87\n",
      "         two              92      51      74\n",
      "B        one              13      42      12\n",
      "         two              91      64      40\n",
      "C        one              90      17       9\n",
      "         two              91       8      80\n"
     ]
    }
   ],
   "source": [
    "# 2.\n",
    "# Create a Pandas DataFrame with MultiIndex consisting of 'Category' and 'SubCategory'\n",
    "arrays = [['A', 'A', 'B', 'B', 'C', 'C'], ['one', 'two', 'one', 'two', 'one', 'two']]\n",
    "index = pd.MultiIndex.from_arrays(arrays, names=('Category', 'SubCategory'))\n",
    "df = pd.DataFrame(np.random.randint(1, 100, size=(6, 3)), index=index, columns=['Value1', 'Value2', 'Value3'])\n",
    "print(\"MultiIndex DataFrame:\")\n",
    "print(df)\n",
    "\n",
    "# Compute the sum of values for each 'Category' and 'SubCategory'\n",
    "sum_values = df.groupby(['Category', 'SubCategory']).sum()\n",
    "print(\"Sum of values:\\n\", sum_values)"
   ]
  },
  {
   "cell_type": "code",
   "execution_count": null,
   "id": "c83553dc",
   "metadata": {},
   "outputs": [],
   "source": []
  }
 ],
 "metadata": {
  "kernelspec": {
   "display_name": "venv",
   "language": "python",
   "name": "python3"
  },
  "language_info": {
   "codemirror_mode": {
    "name": "ipython",
    "version": 3
   },
   "file_extension": ".py",
   "mimetype": "text/x-python",
   "name": "python",
   "nbconvert_exporter": "python",
   "pygments_lexer": "ipython3",
   "version": "3.12.8"
  }
 },
 "nbformat": 4,
 "nbformat_minor": 5
}
