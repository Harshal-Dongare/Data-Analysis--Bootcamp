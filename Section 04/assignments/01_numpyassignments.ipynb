{
 "cells": [
  {
   "cell_type": "markdown",
   "metadata": {},
   "source": [
    "# Module: NumPy Assignments\n",
    "## Lesson: NumPy\n",
    "\n",
    "### Assignment 10: Masked Arrays\n",
    "\n",
    "1. Create a masked array of shape (4, 4) with random integers and mask the elements greater than 10. Compute the sum of the unmasked elements.\n",
    "2. Create a masked array of shape (3, 3) with random integers and mask the diagonal elements. Replace the masked elements with the mean of the unmasked elements."
   ]
  },
  {
   "cell_type": "markdown",
   "id": "81bbe6df",
   "metadata": {},
   "source": [
    "### Assignment 1: Array Creation and Manipulation\n",
    "\n",
    "1. Create a NumPy array of shape (5, 5) filled with random integers between 1 and 20. Replace all the elements in the third column with 1.\n",
    "2. Create a NumPy array of shape (4, 4) with values from 1 to 16. Replace the diagonal elements with 0."
   ]
  },
  {
   "cell_type": "code",
   "execution_count": 9,
   "id": "f1e4c678",
   "metadata": {},
   "outputs": [
    {
     "name": "stdout",
     "output_type": "stream",
     "text": [
      "Modified array:\n",
      " [[ 1 10  8  1  6]\n",
      " [ 9  2  3  1  8]\n",
      " [ 5  7  3  1  7]\n",
      " [ 1 10  2  1  7]\n",
      " [ 7  6 10  1  7]]\n"
     ]
    }
   ],
   "source": [
    "import numpy as np\n",
    "\n",
    "# 1. Create a numpy array of shape (5, 5) filled with random integers\n",
    "arr = np.random.randint(1, 11, size=(5, 5))\n",
    "\n",
    "arr[:, 3] = 1\n",
    "\n",
    "print(\"Modified array:\\n\", arr)"
   ]
  },
  {
   "cell_type": "code",
   "execution_count": 10,
   "id": "a03cf31d",
   "metadata": {},
   "outputs": [
    {
     "name": "stdout",
     "output_type": "stream",
     "text": [
      "Modified array:\n",
      " [[ 0  2  3  4]\n",
      " [ 5  0  7  8]\n",
      " [ 9 10  0 12]\n",
      " [13 14 15  0]]\n"
     ]
    }
   ],
   "source": [
    "# 2. Create a NumPy array of shape (4, 4) with values from 1 to 16. Replace the diagonal elements with 0.\n",
    "arr2 = np.arange(1, 17).reshape((4, 4))\n",
    "\n",
    "np.fill_diagonal(arr2, 0)\n",
    "print(\"Modified array:\\n\", arr2)"
   ]
  },
  {
   "cell_type": "markdown",
   "id": "b62f4729",
   "metadata": {},
   "source": [
    "### Assignment 2: Array Indexing and Slicing\n",
    "\n",
    "1. Create a NumPy array of shape (6, 6) with values from 1 to 36. Extract the sub-array consisting of the 3rd to 5th rows and 2nd to 4th columns.\n",
    "2. Create a NumPy array of shape (5, 5) with random integers. Extract the elements on the border."
   ]
  },
  {
   "cell_type": "code",
   "execution_count": 16,
   "id": "68a07047",
   "metadata": {},
   "outputs": [
    {
     "name": "stdout",
     "output_type": "stream",
     "text": [
      "Original Array:\n",
      " [[ 1  2  3  4  5  6]\n",
      " [ 7  8  9 10 11 12]\n",
      " [13 14 15 16 17 18]\n",
      " [19 20 21 22 23 24]\n",
      " [25 26 27 28 29 30]\n",
      " [31 32 33 34 35 36]]\n",
      "Sub array:\n",
      " [[14 15 16]\n",
      " [20 21 22]\n",
      " [26 27 28]\n",
      " [32 33 34]]\n"
     ]
    }
   ],
   "source": [
    "# 1. \n",
    "arr = np.arange(1, 37).reshape((6, 6))\n",
    "print(\"Original Array:\\n\",arr)\n",
    "\n",
    "sub_arr = arr[2:6, 1:4]\n",
    "print(\"Sub array:\\n\", sub_arr)\n"
   ]
  },
  {
   "cell_type": "code",
   "execution_count": 21,
   "id": "5739eba2",
   "metadata": {},
   "outputs": [
    {
     "name": "stdout",
     "output_type": "stream",
     "text": [
      "Original Array:\n",
      " [[ 9 10 21 25  8]\n",
      " [24  8 17  8 16]\n",
      " [13 17 21  5  8]\n",
      " [14 17 16 17  9]\n",
      " [13 14 22 23  6]]\n",
      "Modified Array:\n",
      " [ 9 10 21 25  8 13 14 22 23  6 24 13 14 16  8  9]\n"
     ]
    }
   ],
   "source": [
    "# 2.\n",
    "arr2 = np.random.randint(1, 26, size=(5,5))\n",
    "print(\"Original Array:\\n\",arr2)\n",
    "# extract the elements on the border\n",
    "border_elements = np.concatenate((arr2[0, :], arr2[-1, :], arr2[1:-1, 0], arr2[1:-1, -1]))\n",
    "\n",
    "print(\"Modified Array:\\n\",border_elements)"
   ]
  },
  {
   "cell_type": "markdown",
   "id": "5ac9af35",
   "metadata": {},
   "source": [
    "### Assignment 3: Array Operations\n",
    "\n",
    "1. Create two NumPy arrays of shape (3, 4) filled with random integers. Perform element-wise addition, subtraction, multiplication, and division.\n",
    "2. Create a NumPy array of shape (4, 4) with values from 1 to 16. Compute the row-wise and column-wise sum."
   ]
  },
  {
   "cell_type": "code",
   "execution_count": 27,
   "id": "004ac4ec",
   "metadata": {},
   "outputs": [
    {
     "name": "stdout",
     "output_type": "stream",
     "text": [
      "[[10  8 12  9]\n",
      " [ 3  1  6 12]\n",
      " [ 2 12  3  3]] \n",
      " [[17 16 18 22]\n",
      " [20 20 18 15]\n",
      " [20 18 22 16]]\n",
      "Addition:\n",
      " [[24 22 26 32]\n",
      " [32 22 28 25]\n",
      " [27 30 30 23]]\n",
      "Subtraction:\n",
      " [[24 22 26 32]\n",
      " [32 22 28 25]\n",
      " [27 30 30 23]]\n",
      "Multiplication:\n",
      " [[24 22 26 32]\n",
      " [32 22 28 25]\n",
      " [27 30 30 23]]\n",
      "Division:\n",
      " [[24 22 26 32]\n",
      " [32 22 28 25]\n",
      " [27 30 30 23]]\n"
     ]
    }
   ],
   "source": [
    "# 1. \n",
    "arr1 = np.random.randint(1, 13, size=(3, 4))\n",
    "arr2 = np.random.randint(13, 25, size=(3, 4))\n",
    "\n",
    "print(arr,\"\\n\", arr2)\n",
    "\n",
    "print(\"Addition:\\n\", arr1+ arr2)\n",
    "print(\"Subtraction:\\n\", arr1+ arr2)\n",
    "print(\"Multiplication:\\n\", arr1+ arr2)\n",
    "print(\"Division:\\n\", arr1+ arr2)"
   ]
  },
  {
   "cell_type": "code",
   "execution_count": 32,
   "id": "ecdcc4fd",
   "metadata": {},
   "outputs": [
    {
     "name": "stdout",
     "output_type": "stream",
     "text": [
      "[23 30 41 40]\n",
      "[47 17 30 40]\n"
     ]
    }
   ],
   "source": [
    "# 2.\n",
    "arr3 = np.random.randint(1, 17, size=(4, 4))\n",
    "row_sum = np.sum(arr3, axis=0)\n",
    "col_sum = np.sum(arr3, axis=1)\n",
    "print(row_sum)\n",
    "print(col_sum)"
   ]
  },
  {
   "cell_type": "markdown",
   "id": "9832ae6a",
   "metadata": {},
   "source": [
    "### Assignment 4: Statistical Operations\n",
    "\n",
    "1. Create a NumPy array of shape (5, 5) filled with random integers. Compute the mean, median, standard deviation, and variance of the array.\n",
    "2. Create a NumPy array of shape (3, 3) with values from 1 to 9. Normalize the array (i.e., scale the values to have a mean of 0 and a standard deviation of 1)."
   ]
  },
  {
   "cell_type": "code",
   "execution_count": 40,
   "id": "48e52bee",
   "metadata": {},
   "outputs": [
    {
     "name": "stdout",
     "output_type": "stream",
     "text": [
      "Mean: 14.36\n",
      "Median: 16.0\n",
      "Standard Deviation: 6.336434328547878\n",
      "Variance: 40.1504\n"
     ]
    }
   ],
   "source": [
    "# 1.\n",
    "arr1 = np.random.randint(1, 26, size=(5, 5))\n",
    "\n",
    "print(\"Mean:\", np.mean(arr1))\n",
    "print(\"Median:\", np.median(arr1))\n",
    "print(\"Standard Deviation:\", np.std(arr1))\n",
    "print(\"Variance:\", np.var(arr1))"
   ]
  },
  {
   "cell_type": "code",
   "execution_count": 41,
   "id": "47b40981",
   "metadata": {},
   "outputs": [
    {
     "name": "stdout",
     "output_type": "stream",
     "text": [
      "Normalized array:\n",
      " [[-0.93649167  0.06350833  1.06350833]\n",
      " [ 2.06350833  3.06350833  4.06350833]\n",
      " [ 5.06350833  6.06350833  7.06350833]]\n"
     ]
    }
   ],
   "source": [
    "# 2.\n",
    "arr2 = np.arange(1, 10).reshape(3, 3)\n",
    "\n",
    "mean_arr2 = np.mean(arr2)\n",
    "std_dev = np.std(arr2)\n",
    "normalize_arr = arr2 - mean_arr2 /std_dev\n",
    "\n",
    "print(\"Normalized array:\\n\", normalize_arr)"
   ]
  },
  {
   "cell_type": "markdown",
   "id": "77c92600",
   "metadata": {},
   "source": [
    "### Assignment 5: Broadcasting\n",
    "\n",
    "1. Create a NumPy array of shape (3, 3) filled with random integers. Add a 1D array of shape (3,) to each row of the 2D array using broadcasting.\n",
    "2. Create a NumPy array of shape (4, 4) filled with random integers. Subtract a 1D array of shape (4,) from each column of the 2D array using broadcasting."
   ]
  },
  {
   "cell_type": "code",
   "execution_count": 45,
   "id": "aa0d6f4b",
   "metadata": {},
   "outputs": [
    {
     "name": "stdout",
     "output_type": "stream",
     "text": [
      "2D array:\n",
      " [[5 3 4]\n",
      " [9 6 9]\n",
      " [6 1 8]]\n",
      "1D array: [1 9 9]\n",
      "result:\n",
      " [[ 6 12 13]\n",
      " [10 15 18]\n",
      " [ 7 10 17]]\n"
     ]
    }
   ],
   "source": [
    "# 1.\n",
    "arr1 = np.random.randint(1, 10, size=(3,3))\n",
    "arr2 = np.random.randint(1, 11, size=(3,))\n",
    "print(\"2D array:\\n\", arr1)\n",
    "print(\"1D array:\",arr2)\n",
    "result = arr1 + arr2\n",
    "print(\"result:\\n\", arr1+arr2)\n"
   ]
  },
  {
   "cell_type": "code",
   "execution_count": 49,
   "id": "2b9dffe7",
   "metadata": {},
   "outputs": [
    {
     "name": "stdout",
     "output_type": "stream",
     "text": [
      "2D array:\n",
      " [[ 9 11  5 13]\n",
      " [ 1  2  7  2]\n",
      " [ 9  3 11  7]\n",
      " [ 5  6  9 13]]\n",
      "1D array: [2 4 1 4]\n",
      "Result:\n",
      " [[ 7  9  3 11]\n",
      " [-3 -2  3 -2]\n",
      " [ 8  2 10  6]\n",
      " [ 1  2  5  9]]\n"
     ]
    }
   ],
   "source": [
    "# 2.\n",
    "arr3 = np.random.randint(1, 17, size=(4, 4))\n",
    "arr4 = np.random.randint(1, 11, size=(4,))\n",
    "\n",
    "print(\"2D array:\\n\", arr3)\n",
    "print(\"1D array:\", arr4)\n",
    "\n",
    "result = arr3 - arr4[:, np.newaxis]\n",
    "print(\"Result:\\n\", result)"
   ]
  },
  {
   "cell_type": "markdown",
   "id": "f8961640",
   "metadata": {},
   "source": [
    "### Assignment 6: Linear Algebra\n",
    "\n",
    "1. Create a NumPy array of shape (3, 3) representing a matrix. Compute its determinant, inverse, and eigenvalues.\n",
    "2. Create two NumPy arrays of shape (2, 3) and (3, 2). Perform matrix multiplication on these arrays."
   ]
  },
  {
   "cell_type": "code",
   "execution_count": 51,
   "id": "bbfe96bd",
   "metadata": {},
   "outputs": [
    {
     "name": "stdout",
     "output_type": "stream",
     "text": [
      "Determinant:\n",
      " -197.00000000000017\n",
      "Inverse:\n",
      " [[ 0.29949239 -0.03045685 -0.02538071]\n",
      " [-0.11675127 -0.00507614  0.16243655]\n",
      " [-0.08121827  0.12690355 -0.06091371]]\n",
      "Eigen Values:\n",
      " EigResult(eigenvalues=array([11.50954904,  3.06849755, -5.57804659]), eigenvectors=array([[ 0.18296375,  0.8316393 , -0.00480777],\n",
      "       [ 0.79333676, -0.45182008, -0.68369915],\n",
      "       [ 0.58063848, -0.32285397,  0.72974815]]))\n"
     ]
    }
   ],
   "source": [
    "# 1.\n",
    "arr1 = np.random.randint(1, 10, size=(3, 3))\n",
    "\n",
    "determinant = np.linalg.det(arr1)\n",
    "print(\"Determinant:\\n\", determinant)\n",
    "\n",
    "inverse = np.linalg.inv(arr1)\n",
    "print(\"Inverse:\\n\", inverse)\n",
    "\n",
    "eigenValues = np.linalg.eig(arr1)\n",
    "print(\"Eigen Values:\\n\", eigenValues)"
   ]
  },
  {
   "cell_type": "code",
   "execution_count": 55,
   "id": "3775ff5f",
   "metadata": {},
   "outputs": [
    {
     "name": "stdout",
     "output_type": "stream",
     "text": [
      "Matrix Multiplication:\n",
      " [[162 225]\n",
      " [190 271]]\n"
     ]
    }
   ],
   "source": [
    "arr2 = np.random.randint(1, 7, size=(2,3))\n",
    "arr3 = np.random.randint(15, 52, size=(3,2))\n",
    "\n",
    "# Perform matrix multiplication\n",
    "result = np.dot(arr2, arr3)\n",
    "print(\"Matrix Multiplication:\\n\", result)"
   ]
  },
  {
   "cell_type": "markdown",
   "id": "21f7ee39",
   "metadata": {},
   "source": [
    "### Assignment 7: Advanced Array Manipulation\n",
    "\n",
    "1. Create a NumPy array of shape (3, 3) with values from 1 to 9. Reshape the array to shape (1, 9) and then to shape (9, 1).\n",
    "2. Create a NumPy array of shape (5, 5) filled with random integers. Flatten the array and then reshape it back to (5, 5)."
   ]
  },
  {
   "cell_type": "code",
   "execution_count": 57,
   "id": "eb01f631",
   "metadata": {},
   "outputs": [
    {
     "name": "stdout",
     "output_type": "stream",
     "text": [
      "Reshaped array 1:\n",
      " [[9 7 5 5 4 7 7 9 4]]\n",
      "Reshaped array 2:\n",
      " [[9]\n",
      " [7]\n",
      " [5]\n",
      " [5]\n",
      " [4]\n",
      " [7]\n",
      " [7]\n",
      " [9]\n",
      " [4]]\n"
     ]
    }
   ],
   "source": [
    "arr1 = np.random.randint(1, 10, size=(3,3))\n",
    "\n",
    "reshaped_arr1 = arr1.reshape((1, 9))\n",
    "print(\"Reshaped array 1:\\n\", reshaped_arr1)\n",
    "\n",
    "reshaped_arr2 = arr1.reshape((9, 1))\n",
    "print(\"Reshaped array 2:\\n\", reshaped_arr2)"
   ]
  },
  {
   "cell_type": "code",
   "execution_count": 59,
   "id": "5afccc7a",
   "metadata": {},
   "outputs": [
    {
     "name": "stdout",
     "output_type": "stream",
     "text": [
      "Flatten arr:\n",
      " [45 32 13  7 47 35 35 13 38 14 30 31  1 21  2 30 39 31 40 29 18  2 33 28\n",
      " 44]\n",
      "Reshaped array: \n",
      " [[45 32 13  7 47]\n",
      " [35 35 13 38 14]\n",
      " [30 31  1 21  2]\n",
      " [30 39 31 40 29]\n",
      " [18  2 33 28 44]]\n"
     ]
    }
   ],
   "source": [
    "# 2.\n",
    "arr2 = np.random.randint(1, 50, size=(5,5))\n",
    "\n",
    "faltten_arr = arr2.flatten()\n",
    "print(\"Flatten arr:\\n\", faltten_arr)\n",
    "\n",
    "reshaped_arr = faltten_arr.reshape((5, 5))\n",
    "print('Reshaped array: \\n', reshaped_arr) \n"
   ]
  },
  {
   "cell_type": "markdown",
   "id": "180b9505",
   "metadata": {},
   "source": [
    "### Assignment 8: Fancy Indexing and Boolean Indexing\n",
    "\n",
    "1. Create a NumPy array of shape (5, 5) filled with random integers. Use fancy indexing to extract the elements at the corners of the array.\n",
    "2. Create a NumPy array of shape (4, 4) filled with random integers. Use boolean indexing to set all elements greater than 10 to 10."
   ]
  },
  {
   "cell_type": "code",
   "execution_count": 61,
   "id": "7b158cb4",
   "metadata": {},
   "outputs": [
    {
     "name": "stdout",
     "output_type": "stream",
     "text": [
      "Original Array:\n",
      " [[ 3 19  6 11  9]\n",
      " [ 1 22 24 16 19]\n",
      " [22  6 10 13  1]\n",
      " [ 6  9 10 13 24]\n",
      " [15  8 24 25 14]]\n",
      "Corner Elements:\n",
      " [ 3  9 15 14]\n"
     ]
    }
   ],
   "source": [
    "arr1 = np.random.randint(1, 26, size=(5, 5))\n",
    "print(\"Original Array:\\n\", arr1)\n",
    "\n",
    "corner_elements = arr1[[0, 0, -1, -1], [0, -1, 0, -1]]\n",
    "print(\"Corner Elements:\\n\", corner_elements)"
   ]
  },
  {
   "cell_type": "code",
   "execution_count": 63,
   "id": "bdac671a",
   "metadata": {},
   "outputs": [
    {
     "name": "stdout",
     "output_type": "stream",
     "text": [
      "Original array:\n",
      "[[18 20 15 15]\n",
      " [10 20 18 18]\n",
      " [12 12  5 19]\n",
      " [ 3 15  5  5]]\n",
      "Modified array:\n",
      "[[10 10 10 10]\n",
      " [10 10 10 10]\n",
      " [10 10  5 10]\n",
      " [ 3 10  5  5]]\n"
     ]
    }
   ],
   "source": [
    "# 2.\n",
    "# Create a NumPy array of shape (4, 4) filled with random integers\n",
    "array = np.random.randint(1, 21, size=(4, 4))\n",
    "print(\"Original array:\")\n",
    "print(array)\n",
    "\n",
    "# Use boolean indexing to set all elements greater than 10 to 10\n",
    "array[array > 10] = 10\n",
    "print(\"Modified array:\")\n",
    "print(array)"
   ]
  },
  {
   "cell_type": "markdown",
   "id": "b3c4e4fa",
   "metadata": {},
   "source": [
    "### Assignment 9: Structured Arrays\n",
    "\n",
    "1. Create a structured array with fields 'name' (string), 'age' (integer), and 'weight' (float). Add some data and sort the array by age.\n",
    "2. Create a structured array with fields 'x' and 'y' (both integers). Add some data and compute the Euclidean distance between each pair of points."
   ]
  },
  {
   "cell_type": "code",
   "execution_count": 64,
   "id": "b05a613b",
   "metadata": {},
   "outputs": [
    {
     "name": "stdout",
     "output_type": "stream",
     "text": [
      "Original array:\n",
      "[('Alice', 25, 55.5) ('Bob', 30, 85.3) ('Charlie', 20, 65.2)]\n",
      "Sorted array by age:\n",
      "[('Charlie', 20, 65.2) ('Alice', 25, 55.5) ('Bob', 30, 85.3)]\n"
     ]
    }
   ],
   "source": [
    "data_type = [('name', 'U10'), ('age', 'i4'), ('weight', 'f4')]\n",
    "\n",
    "data = np.array([('Alice', 25, 55.5), ('Bob', 30, 85.3), ('Charlie', 20, 65.2)], dtype=data_type)\n",
    "\n",
    "print(\"Original array:\")\n",
    "print(data)\n",
    "\n",
    "sorted_data = np.sort(data, order='age')\n",
    "print(\"Sorted array by age:\")\n",
    "print(sorted_data)"
   ]
  },
  {
   "cell_type": "code",
   "execution_count": 66,
   "id": "a7134867",
   "metadata": {},
   "outputs": [
    {
     "name": "stdout",
     "output_type": "stream",
     "text": [
      "Original array:\n",
      "[(1, 2) (3, 4) (5, 6)]\n",
      "Euclidean distances:\n",
      "[[0.         2.82842712 5.65685425]\n",
      " [2.82842712 0.         2.82842712]\n",
      " [5.65685425 2.82842712 0.        ]]\n"
     ]
    }
   ],
   "source": [
    "# 2.\n",
    "# Create a structured array with fields 'x' and 'y'\n",
    "data_type = [('x', 'i4'), ('y', 'i4')]\n",
    "data = np.array([(1, 2), (3, 4), (5, 6)], dtype=data_type)\n",
    "print(\"Original array:\")\n",
    "print(data)\n",
    "\n",
    "# Compute the Euclidean distance between each pair of points\n",
    "distances = np.sqrt((data['x'][:, np.newaxis] - data['x'])**2 + (data['y'][:, np.newaxis] - data['y'])**2)\n",
    "print(\"Euclidean distances:\")\n",
    "print(distances)"
   ]
  },
  {
   "cell_type": "code",
   "execution_count": null,
   "id": "6bb8643f",
   "metadata": {},
   "outputs": [],
   "source": []
  }
 ],
 "metadata": {
  "kernelspec": {
   "display_name": "venv",
   "language": "python",
   "name": "python3"
  },
  "language_info": {
   "codemirror_mode": {
    "name": "ipython",
    "version": 3
   },
   "file_extension": ".py",
   "mimetype": "text/x-python",
   "name": "python",
   "nbconvert_exporter": "python",
   "pygments_lexer": "ipython3",
   "version": "3.12.8"
  }
 },
 "nbformat": 4,
 "nbformat_minor": 5
}
