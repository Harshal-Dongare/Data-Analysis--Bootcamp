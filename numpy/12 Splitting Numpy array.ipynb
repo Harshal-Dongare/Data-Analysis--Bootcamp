{
 "cells": [
  {
   "cell_type": "markdown",
   "id": "0506f4be-b0f0-4abf-ada6-8116eeb79c25",
   "metadata": {},
   "source": [
    "# 🟡 Splitting Arrays in NumPy\n",
    "![](https://i.ytimg.com/vi/J13dkpmrvPw/maxresdefault.jpg)\n",
    "- In NumPy, you can split an array into multiple sub-arrays using various splitting methods.\n",
    "- **The main functions for splitting arrays are**:"
   ]
  },
  {
   "cell_type": "markdown",
   "id": "287edb3d-0533-448b-b69c-d674e996e3aa",
   "metadata": {},
   "source": [
    "---\n",
    "---"
   ]
  },
  {
   "cell_type": "markdown",
   "id": "fc6ebe1a-5d31-493c-9edc-7fe53c6229cf",
   "metadata": {},
   "source": [
    "## ⚜️ `numpy.split()` :\n",
    "   - Splits an array **into equal-sized sub-arrays** along a specified axis.\n",
    "   - If the array cannot be evenly split, it raises a ValueError.\n",
    "\n",
    "### <font color=\"Cyan\">Syntax</font> :\n",
    "```python\n",
    "numpy.hsplit(arr, indices_or_sections, axis=0)\n",
    "```\n",
    "\n",
    "### <font color=\"Cyan\">Parameters</font> :\n",
    "- **`arr`**: The input array to be split.\n",
    "- **`indices_or_sections`** :\n",
    "   - **`An integer`**: Number of sub-arrays to split into.\n",
    "   - **`A list/array`**: Positions where splits should occur.\n",
    "- **`axis`** : Axis along which the array is split (default is 0)."
   ]
  },
  {
   "cell_type": "code",
   "execution_count": 27,
   "id": "3b9f6025-8880-45f5-9d6f-21570db4ef2c",
   "metadata": {},
   "outputs": [
    {
     "name": "stdout",
     "output_type": "stream",
     "text": [
      "1D Array Split:\n",
      "[array([1, 2]), array([3, 4]), array([5, 6])]\n",
      "\n",
      "2D Array Split along cols (axis=1):\n",
      "[array([[ 1],\n",
      "       [ 4],\n",
      "       [ 7],\n",
      "       [10]]), array([[ 2],\n",
      "       [ 5],\n",
      "       [ 8],\n",
      "       [11]]), array([[ 3],\n",
      "       [ 6],\n",
      "       [ 9],\n",
      "       [12]])]\n"
     ]
    }
   ],
   "source": [
    "%config Completer.use_jedi = False\n",
    "import numpy as np\n",
    "\n",
    "# for 1D array\n",
    "arr = np.array([1, 2, 3, 4, 5, 6])\n",
    "result_1D = np.split(arr, 3, axis=0)\n",
    "\n",
    "print(\"1D Array Split:\")\n",
    "print(result_1D)\n",
    "\n",
    "# for 2D array\n",
    "arr_2d = np.array([[1, 2, 3], [4, 5, 6], [7, 8, 9], [10, 11, 12]])\n",
    "result_2d = np.split(arr_2d, 3, axis=1)\n",
    "\n",
    "print(\"\\n2D Array Split along cols (axis=1):\")\n",
    "print(result_2d) "
   ]
  },
  {
   "cell_type": "markdown",
   "id": "fc66c794-cec6-4624-b4e0-eb639276c285",
   "metadata": {},
   "source": [
    "---"
   ]
  },
  {
   "cell_type": "markdown",
   "id": "d55584ea-18ac-4020-a108-09aa64f02a19",
   "metadata": {},
   "source": [
    "## ⚜️ `numpy.array_split()` :\n",
    "- Splits an array into sub-arrays of (almost) equal size.\n",
    "- Unlike **`split()`**, it does not require the array to be evenly divisible.\n",
    "\n",
    "### <font color=\"Cyan\">Syntax</font> :\n",
    "```python\n",
    "numpy.array_split(arr, indices_or_sections, axis=0)\n",
    "```"
   ]
  },
  {
   "cell_type": "code",
   "execution_count": 38,
   "id": "72c3db00-a377-42f4-a208-1d957b1a5fe2",
   "metadata": {},
   "outputs": [
    {
     "name": "stdout",
     "output_type": "stream",
     "text": [
      "1D Array Split:\n",
      "[array([1, 2, 3]), array([4, 5]), array([6, 7])]\n",
      "\n",
      "2D Array Split along rows (axis=0):\n",
      "[array([[1, 2, 3],\n",
      "       [4, 5, 6]]), array([[7, 8, 9]]), array([[10, 11, 12]])]\n",
      "\n",
      "2D Array Split along columns (axis=1):\n",
      "[array([[ 1,  2],\n",
      "       [ 4,  5],\n",
      "       [ 7,  8],\n",
      "       [10, 11]]), array([[ 3],\n",
      "       [ 6],\n",
      "       [ 9],\n",
      "       [12]])]\n"
     ]
    }
   ],
   "source": [
    "import numpy as np\n",
    "\n",
    "# For 1D array\n",
    "arr = np.array([1, 2, 3, 4, 5, 6, 7])\n",
    "result_1d = np.array_split(arr, 3)  # Split into 3 parts (not necessarily equal)\n",
    "print(\"1D Array Split:\")\n",
    "print(result_1d)\n",
    "\n",
    "# For 2D array\n",
    "arr_2d = np.array([[1, 2, 3], [4, 5, 6], [7, 8, 9], [10, 11, 12]])\n",
    "# Split into 3 parts along rows\n",
    "result_2d_row = np.array_split(arr_2d, 3, axis=0)  \n",
    "print(\"\\n2D Array Split along rows (axis=0):\")\n",
    "print(result_2d_row)\n",
    "\n",
    "# Split into 2 parts along columns\n",
    "result_2d_col = np.array_split(arr_2d, 2, axis=1)  \n",
    "print(\"\\n2D Array Split along columns (axis=1):\")\n",
    "print(result_2d_col)"
   ]
  },
  {
   "cell_type": "markdown",
   "id": "6090f663-371f-4ff4-8849-17fde28d2807",
   "metadata": {},
   "source": [
    "---"
   ]
  },
  {
   "cell_type": "markdown",
   "id": "41597127-5ac1-45ee-a3e2-5b18d8f2552b",
   "metadata": {},
   "source": [
    "## ⚜️ `numpy.hsplit()` :\n",
    "- Splits an array **horizontally (column-wise)** along **axis 1**.\n",
    "- **Equal Splitting**: The **number of splits must evenly divide** the columns; otherwise, <font color=\"red\">it raises an error</font>.\n",
    "- Only works for arrays with at least 2 dimensions.\n",
    "\n",
    "### <font color=\"Cyan\">Syntax</font> :\n",
    "```python\n",
    "numpy.hsplit(arr, indices_or_sections, axis=0)\n",
    "```"
   ]
  },
  {
   "cell_type": "code",
   "execution_count": 50,
   "id": "2b661693-b4dc-40a4-b54b-d2546b376164",
   "metadata": {},
   "outputs": [
    {
     "name": "stdout",
     "output_type": "stream",
     "text": [
      "2D Array Horizontal Split (hsplit):\n",
      "[array([[1, 2],\n",
      "       [5, 6]]), array([[3, 4],\n",
      "       [7, 8]])]\n",
      "\n",
      "3D Array Horizontal Split (hsplit):\n",
      "[array([[[1, 2]],\n",
      "\n",
      "       [[7, 8]]]), array([[[ 3,  4]],\n",
      "\n",
      "       [[ 9, 10]]]), array([[[ 5,  6]],\n",
      "\n",
      "       [[11, 12]]])]\n"
     ]
    }
   ],
   "source": [
    "import numpy as np\n",
    "\n",
    "# For 2D array\n",
    "arr_2d = np.array([[1, 2, 3, 4], \n",
    "                   [5, 6, 7, 8]])\n",
    "\n",
    "# Split into 2 equal parts column-wise\n",
    "result_hsplit = np.hsplit(arr_2d, 2)\n",
    "\n",
    "print(\"2D Array Horizontal Split (hsplit):\")\n",
    "print(result_hsplit)\n",
    "\n",
    "# For 3D array\n",
    "arr_3d = np.array([[[1, 2], [3, 4], [5, 6]], \n",
    "                   [[7, 8], [9, 10], [11, 12]]])\n",
    "\n",
    "result_hsplit_3d = np.hsplit(arr_3d, 3)  # Split into 3 parts along columns\n",
    "print(\"\\n3D Array Horizontal Split (hsplit):\")\n",
    "print(result_hsplit_3d)"
   ]
  },
  {
   "cell_type": "markdown",
   "id": "54030051-ed9a-4c03-9ff1-c792a120c1db",
   "metadata": {},
   "source": [
    "---"
   ]
  },
  {
   "cell_type": "markdown",
   "id": "57233e74-4be8-447a-8a6c-51e71a7b6688",
   "metadata": {},
   "source": [
    "## ⚜️ `numpy.vsplit()`:\n",
    "\n",
    "- Splits an array vertically (row-wise) along axis 0.\n",
    "- **Equal Splitting**: The number of splits must evenly divide the rows; otherwise, it raises an error.\n",
    "- Only works for arrays with at least 2 dimensions.\n",
    "\n",
    "### <font color=\"Cyan\">Syntax</font> :\n",
    "```python\n",
    "numpy.vsplit(arr, indices_or_sections)\n",
    "```"
   ]
  },
  {
   "cell_type": "code",
   "execution_count": 58,
   "id": "6a76e497-7f26-4b30-853d-51025f72db44",
   "metadata": {},
   "outputs": [
    {
     "name": "stdout",
     "output_type": "stream",
     "text": [
      "2D Array Vertical Split (vsplit):\n",
      "[array([[1, 2, 3, 4],\n",
      "       [5, 6, 7, 8]]), array([[ 9, 10, 11, 12],\n",
      "       [13, 14, 15, 16]])]\n",
      "\n",
      "3D Array Vertical Split (vsplit):\n",
      "[array([[[1, 2],\n",
      "        [3, 4]]]), array([[[5, 6],\n",
      "        [7, 8]]]), array([[[ 9, 10],\n",
      "        [11, 12]]])]\n"
     ]
    }
   ],
   "source": [
    "import numpy as np\n",
    "\n",
    "# For 2D array\n",
    "arr_2d = np.array([[1, 2, 3, 4], \n",
    "                   [5, 6, 7, 8], \n",
    "                   [9, 10, 11, 12], \n",
    "                   [13, 14, 15, 16]])\n",
    "\n",
    "# Split into 2 equal parts row-wise\n",
    "result_vsplit = np.vsplit(arr_2d, 2)\n",
    "\n",
    "print(\"2D Array Vertical Split (vsplit):\")\n",
    "print(result_vsplit)\n",
    "\n",
    "# For 3D array\n",
    "arr_3d = np.array([[[1, 2], [3, 4]], \n",
    "                   [[5, 6], [7, 8]], \n",
    "                   [[9, 10], [11, 12]]])\n",
    "\n",
    "# Split into 3 equal parts row-wise\n",
    "result_vsplit_3d = np.vsplit(arr_3d, 3)  \n",
    "print(\"\\n3D Array Vertical Split (vsplit):\")\n",
    "print(result_vsplit_3d)"
   ]
  },
  {
   "cell_type": "markdown",
   "id": "9869ce88-e78c-4ccb-a467-b0b34fad7a77",
   "metadata": {},
   "source": [
    "---"
   ]
  },
  {
   "cell_type": "markdown",
   "id": "3f6e2319-5f90-4568-aa41-58d8d68a08b0",
   "metadata": {},
   "source": [
    "## ⚜️ `numpy.dsplit()`:\n",
    "\n",
    "- Splits an array depth-wise (along the third axis, axis 2) into equal parts.\n",
    "- **Equal Splitting**: The number of splits must evenly divide the depth (number of slices along the third dimension); otherwise, it raises an error.\n",
    "- Only works for arrays with at least 3 dimensions.\n",
    "\n",
    "### <font color=\"Cyan\">Syntax</font> :\n",
    "```python\n",
    "numpy.dsplit(arr, indices_or_sections)\n",
    "```"
   ]
  },
  {
   "cell_type": "code",
   "execution_count": 65,
   "id": "41e0ec91-9f59-4833-9daa-2c6e3ffc3aaa",
   "metadata": {},
   "outputs": [
    {
     "name": "stdout",
     "output_type": "stream",
     "text": [
      "3D Array Depth-Wise Split (dsplit):\n",
      "[array([[[ 1],\n",
      "        [ 4]],\n",
      "\n",
      "       [[ 7],\n",
      "        [10]]]), array([[[ 2],\n",
      "        [ 5]],\n",
      "\n",
      "       [[ 8],\n",
      "        [11]]]), array([[[ 3],\n",
      "        [ 6]],\n",
      "\n",
      "       [[ 9],\n",
      "        [12]]])]\n",
      "\n",
      "Another 3D Array Depth-Wise Split (dsplit):\n",
      "[array([[[ 1],\n",
      "        [ 3]],\n",
      "\n",
      "       [[ 5],\n",
      "        [ 7]],\n",
      "\n",
      "       [[ 9],\n",
      "        [11]]]), array([[[ 2],\n",
      "        [ 4]],\n",
      "\n",
      "       [[ 6],\n",
      "        [ 8]],\n",
      "\n",
      "       [[10],\n",
      "        [12]]])]\n"
     ]
    }
   ],
   "source": [
    "import numpy as np\n",
    "\n",
    "# For 3D array\n",
    "arr_3d = np.array([[[1, 2, 3], [4, 5, 6]], \n",
    "                   [[7, 8, 9], [10, 11, 12]]])\n",
    "\n",
    "# Split into 3 equal parts along depth (axis=2)\n",
    "result_dsplit = np.dsplit(arr_3d, 3)\n",
    "\n",
    "print(\"3D Array Depth-Wise Split (dsplit):\")\n",
    "print(result_dsplit)\n",
    "\n",
    "# For another 3D array\n",
    "arr_3d_2 = np.array([[[1, 2], [3, 4]], \n",
    "                     [[5, 6], [7, 8]], \n",
    "                     [[9, 10], [11, 12]]])\n",
    "\n",
    "result_dsplit_2 = np.dsplit(arr_3d_2, 2)  # Split into 2 parts along depth\n",
    "print(\"\\nAnother 3D Array Depth-Wise Split (dsplit):\")\n",
    "print(result_dsplit_2)"
   ]
  },
  {
   "cell_type": "markdown",
   "id": "c05d8f54-f3fa-4024-be15-ba5d312461df",
   "metadata": {},
   "source": [
    "---"
   ]
  }
 ],
 "metadata": {
  "kernelspec": {
   "display_name": "Python 3 (ipykernel)",
   "language": "python",
   "name": "python3"
  },
  "language_info": {
   "codemirror_mode": {
    "name": "ipython",
    "version": 3
   },
   "file_extension": ".py",
   "mimetype": "text/x-python",
   "name": "python",
   "nbconvert_exporter": "python",
   "pygments_lexer": "ipython3",
   "version": "3.12.4"
  }
 },
 "nbformat": 4,
 "nbformat_minor": 5
}
