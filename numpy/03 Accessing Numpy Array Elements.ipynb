{
 "cells": [
  {
   "cell_type": "markdown",
   "id": "c77e3219-f2b6-48d9-bcf0-fcad51d15434",
   "metadata": {},
   "source": [
    "# 🟡 <font color=\"Gold\">Access elements in Numpy array</font>\n",
    "   - You can access an array element by referring to its index number.\n",
    "   - Indexing in numpy array starts with **`0`** that means first element has index `0` and second has index `1` etc.\n",
    "   - To access element, we use **square bracket `[]`** notation."
   ]
  },
  {
   "cell_type": "markdown",
   "id": "d1c15e5e-0b71-481d-8569-73d8bdcff823",
   "metadata": {},
   "source": [
    "---"
   ]
  },
  {
   "cell_type": "markdown",
   "id": "d04e8e87-55d5-4d45-8a60-a455a009e3dd",
   "metadata": {},
   "source": [
    "## ☢️ <font color=\"Orange\">Access element on 1-D array</font>:"
   ]
  },
  {
   "cell_type": "code",
   "execution_count": 8,
   "id": "cab13170-ca41-43b4-8eb8-29636e2c0620",
   "metadata": {},
   "outputs": [
    {
     "name": "stdout",
     "output_type": "stream",
     "text": [
      "First element:  10\n",
      "Third Element:  40\n",
      "Last element using Negative Indexing:  50\n"
     ]
    }
   ],
   "source": [
    "%config Completer.use_jedi = False\n",
    "import numpy as np\n",
    "\n",
    "arr = np.array([10, 20, 30, 40, 50])\n",
    "\n",
    "# Access the first element\n",
    "print(\"First element: \", arr[0])\n",
    "\n",
    "# Access the third element\n",
    "print(\"Third Element: \", arr[3])\n",
    "\n",
    "# Access the last element using negative indexing\n",
    "print(\"Last element using Negative Indexing: \", arr[-1])"
   ]
  },
  {
   "cell_type": "markdown",
   "id": "33637764-1bb3-4b8b-95d1-50b80d0e009b",
   "metadata": {},
   "source": [
    "## ☢️ <font color=\"orange\">Access element on 2-D array</font>:\n",
    "   - Access elements using two indices `[row, column]`."
   ]
  },
  {
   "cell_type": "code",
   "execution_count": 30,
   "id": "44223375-7591-4da3-b741-37f1a26b8d68",
   "metadata": {},
   "outputs": [
    {
     "name": "stdout",
     "output_type": "stream",
     "text": [
      "2nd element on the first Row: 2\n",
      "5th element on the Second Row: 10\n"
     ]
    }
   ],
   "source": [
    "import numpy as np\n",
    "\n",
    "arr = np.array([[1,2,3,4,5], [6,7,8,9,10]])\n",
    "\n",
    "# arr[rowNo, colNo]\n",
    "print(\"2nd element on the first Row:\", arr[0,1])\n",
    "print(\"5th element on the Second Row:\", arr[1, 4])"
   ]
  },
  {
   "cell_type": "markdown",
   "id": "85b5180a-d358-41a3-8003-ece8258712ae",
   "metadata": {},
   "source": [
    "## ☢️ <font color=\"orange\">Access element on 3-D array</font>:\n",
    "   - Use three indices `[depth, row, column]` to access specific elements."
   ]
  },
  {
   "cell_type": "code",
   "execution_count": 46,
   "id": "a19aeba8-21d7-43e2-af53-122e6afaaf27",
   "metadata": {},
   "outputs": [
    {
     "name": "stdout",
     "output_type": "stream",
     "text": [
      "Shape of the array:  (2, 2, 3)\n",
      "Element at [0, 1, 2]: 6\n",
      "Element at [1, 0, 1]: 8\n"
     ]
    }
   ],
   "source": [
    "import numpy as np\n",
    "\n",
    "arr = np.array([[[1, 2, 3], [4, 5, 6]], [[7, 8, 9], [10, 11, 12]]])\n",
    "\n",
    "# Shape of the array\n",
    "print(\"Shape of the array: \", arr.shape)\n",
    "\n",
    "# Access the element in depth 0, row 1, column 2\n",
    "print(\"Element at [0, 1, 2]:\", arr[0, 1, 2])\n",
    "\n",
    "# Access the element in depth 1, row 0, column 1\n",
    "print(\"Element at [1, 0, 1]:\", arr[1, 0, 1])  # Output: 80"
   ]
  },
  {
   "cell_type": "markdown",
   "id": "b1fbc7d7-b966-4270-9372-0052b177795f",
   "metadata": {},
   "source": [
    "---"
   ]
  }
 ],
 "metadata": {
  "kernelspec": {
   "display_name": "Python 3 (ipykernel)",
   "language": "python",
   "name": "python3"
  },
  "language_info": {
   "codemirror_mode": {
    "name": "ipython",
    "version": 3
   },
   "file_extension": ".py",
   "mimetype": "text/x-python",
   "name": "python",
   "nbconvert_exporter": "python",
   "pygments_lexer": "ipython3",
   "version": "3.12.4"
  }
 },
 "nbformat": 4,
 "nbformat_minor": 5
}
