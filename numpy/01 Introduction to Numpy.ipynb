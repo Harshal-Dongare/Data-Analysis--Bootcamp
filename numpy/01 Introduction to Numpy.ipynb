{
 "cells": [
  {
   "cell_type": "markdown",
   "id": "64badf2f-16fb-4511-aebf-bba37a5f7b4f",
   "metadata": {},
   "source": [
    "# 🟡 Introduction to Numpy\n",
    "![](https://raw.githubusercontent.com/numpy/numpy/main/branding/logo/primary/numpylogo.svg)"
   ]
  },
  {
   "cell_type": "markdown",
   "id": "4b903286-8805-46e8-9f20-3d9d3eb88ad4",
   "metadata": {},
   "source": [
    "## ⏺ What is Numpy ?\n",
    "- Numpy is an open source Python library created in **2005** by **Travis Oliphant** used for **working with arrays**. It also has functions for working in domain of ***linear algebra, fourier transform, and matrices***.\n",
    "- Numpy stands for **Numerical Python**.\n",
    "- It's the universal standard for working with numerical data in Python.\n",
    "- The Numpy library contains a multidimensional array and matrix data structures.\n",
    "- The array object in **Numpy** is called **ndarray**, it provides a lot of supporting functions that make working with ndarray very easy."
   ]
  },
  {
   "cell_type": "markdown",
   "id": "14a8672c-8f97-4e40-8f3d-47fa9916bf70",
   "metadata": {},
   "source": [
    "## ⏺ Why use Numpy ?\n",
    "- Numpy can be used to perform a wide variety of mathematical operations on arrays.\n",
    "- In Python, we have `lists` that serve the purpose of arrays, but **they are slow to process when data is external(spreadsheets) and large in amount**.\n",
    "- Numpy aims to provide an array object that is up to **50x** faster than traditional Python lists. "
   ]
  },
  {
   "cell_type": "markdown",
   "id": "4c3062ef-1ab2-4ae3-947e-64895bc97171",
   "metadata": {},
   "source": [
    "## ⏺ Why Numpy is faster than Lists ?\n",
    "- **Numpy arrays are stored at one continuous place in memory** unlike lists, so processes can access and manipulate them very efficiently."
   ]
  },
  {
   "cell_type": "markdown",
   "id": "52da6c71-1314-4f10-b955-d6d4cbf6a309",
   "metadata": {},
   "source": [
    "## ⏺ Which language is Numpy written in ?\n",
    "- Numpy is a Python library and most of the **part is written in Python** but the **core operations that require fast computations are primarily implemented in C**."
   ]
  },
  {
   "cell_type": "markdown",
   "id": "2ff350b2-0c82-4f03-9d98-1f87e47731b1",
   "metadata": {},
   "source": [
    "## ⏺ Where is Numpy Codebase ?\n",
    "- The source code for Numpy is located at this GitHub repository.\n",
    "- https://github.com/numpy/numpy"
   ]
  },
  {
   "cell_type": "markdown",
   "id": "eaf40a27-1d78-447b-bc38-dbde8f799668",
   "metadata": {},
   "source": [
    "## ⏺ How to use Numpy ?"
   ]
  },
  {
   "cell_type": "markdown",
   "id": "babf4531-c898-4837-b061-45cac02ccffc",
   "metadata": {},
   "source": [
    "### 🔰 <font color=\"Cyan\">Import `numpy` module </font>"
   ]
  },
  {
   "cell_type": "code",
   "execution_count": 11,
   "id": "6d2bac67-cb3d-4b73-85af-2167c98e14f5",
   "metadata": {},
   "outputs": [
    {
     "name": "stdout",
     "output_type": "stream",
     "text": [
      "1.26.4\n"
     ]
    }
   ],
   "source": [
    "%config Completer.use_jedi = False\n",
    "\n",
    "import numpy as np\n",
    "print(np.__version__)"
   ]
  },
  {
   "cell_type": "code",
   "execution_count": null,
   "id": "920b49af-5886-4775-aa75-d49479fc9eed",
   "metadata": {},
   "outputs": [],
   "source": []
  }
 ],
 "metadata": {
  "kernelspec": {
   "display_name": "Python 3 (ipykernel)",
   "language": "python",
   "name": "python3"
  },
  "language_info": {
   "codemirror_mode": {
    "name": "ipython",
    "version": 3
   },
   "file_extension": ".py",
   "mimetype": "text/x-python",
   "name": "python",
   "nbconvert_exporter": "python",
   "pygments_lexer": "ipython3",
   "version": "3.12.4"
  }
 },
 "nbformat": 4,
 "nbformat_minor": 5
}
