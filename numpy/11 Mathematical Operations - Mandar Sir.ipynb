{
 "cells": [
  {
   "cell_type": "markdown",
   "id": "8c88b492-6ebd-4a97-9341-c0d3e0791d7e",
   "metadata": {},
   "source": [
    "### Topic to learn\n",
    "   - Fancy indexing\n",
    "   - Boolean ind"
   ]
  },
  {
   "cell_type": "markdown",
   "id": "02b1f586-f2ae-4801-b133-d1d8589ab07d",
   "metadata": {},
   "source": [
    "# 🟡 Scalar Operations \n",
    "   - Operate between a NumPy array and a single scalar value (applied to all elements).\n",
    "- **Addition**: array + scalar\n",
    "- **Subtraction**: array - scalar\n",
    "- **Multiplication**: array * scalar\n",
    "- **Division**: array / scalar\n",
    "- **Exponentiation**: array ** scalar"
   ]
  },
  {
   "cell_type": "code",
   "execution_count": 7,
   "id": "66012bff-b22d-40ba-9cdf-b8400ced5b80",
   "metadata": {},
   "outputs": [
    {
     "name": "stdout",
     "output_type": "stream",
     "text": [
      "Multiplication: [2 4 6]\n",
      "Subtraction: [-1  0  1]\n",
      "Addition: [3 4 5]\n",
      "Division: [0.5 1.  1.5]\n",
      "exponentiation: [1 4 9]\n"
     ]
    }
   ],
   "source": [
    "import numpy as np\n",
    "\n",
    "arr = np.array([1, 2, 3])\n",
    "\n",
    "product = arr * 2\n",
    "difference = arr - 2\n",
    "addition = arr + 2\n",
    "division = arr / 2\n",
    "exponentiation = arr ** 2\n",
    "\n",
    "print(\"Multiplication:\", product)\n",
    "print(\"Subtraction:\", difference)\n",
    "print(\"Addition:\", addition)\n",
    "print(\"Division:\", division)\n",
    "print(\"exponentiation:\", exponentiation)"
   ]
  },
  {
   "cell_type": "markdown",
   "id": "8d6cee95-74e5-48b1-a0c3-9a5cc25bac7b",
   "metadata": {},
   "source": [
    "---"
   ]
  },
  {
   "cell_type": "markdown",
   "id": "6ddb2e36-d776-41a8-b7f4-4185183ad5f2",
   "metadata": {},
   "source": [
    "# 🟡 Vector Operations (Element-wise) :\n",
    "   - Operate element-wise between two arrays of the same shape.\n",
    "- **Addition**: array1 + array2\n",
    "- **Subtraction**: array1 - array2\n",
    "- **Multiplication**: array1 * array2\n",
    "- **Division**: array1 / array2"
   ]
  },
  {
   "cell_type": "code",
   "execution_count": 114,
   "id": "1edf87c6-fb23-4533-9fb2-ded27b8e8ecf",
   "metadata": {},
   "outputs": [
    {
     "name": "stdout",
     "output_type": "stream",
     "text": [
      "Multiplication: [ 4 10 18]\n",
      "Subtraction: [-3 -3 -3]\n",
      "Addition: [5 7 9]\n",
      "Division: [0.25 0.4  0.5 ]\n"
     ]
    }
   ],
   "source": [
    "import numpy as np\n",
    "\n",
    "arr1 = np.array([1, 2, 3])\n",
    "arr2 = np.array([4, 5, 6])\n",
    "\n",
    "product = arr1 * arr2\n",
    "difference = arr1 - arr2\n",
    "addition = arr1 + arr2\n",
    "division = arr1 / arr2\n",
    "\n",
    "print(\"Multiplication:\", product)\n",
    "print(\"Subtraction:\", difference)\n",
    "print(\"Addition:\", addition)\n",
    "print(\"Division:\", division)"
   ]
  },
  {
   "cell_type": "markdown",
   "id": "fb7cc98f-ae53-4130-bf9f-5aa28c05d914",
   "metadata": {},
   "source": [
    "---"
   ]
  },
  {
   "cell_type": "markdown",
   "id": "38b4f54c-6d77-4721-8b2f-3548b75fe54f",
   "metadata": {},
   "source": [
    "# 🟡 Matrix (Dot Product) \n",
    "- Calculates the dot product of two arrays.\n",
    "```python\n",
    "Dot Product: np.dot(array1, array2) or array1 @ array2"
   ]
  },
  {
   "cell_type": "code",
   "execution_count": 30,
   "id": "60090398-8016-4819-b879-2af24f3facf1",
   "metadata": {},
   "outputs": [
    {
     "name": "stdout",
     "output_type": "stream",
     "text": [
      "Dot product of 1D array:  11\n",
      "Dot product of 2D array: [[19 22]\n",
      " [43 50]]\n"
     ]
    }
   ],
   "source": [
    "# Dot product of 1D array\n",
    "arr1 = np.array([1, 2])\n",
    "arr2 = np.array([3, 4])\n",
    "\n",
    "# Dot product of 2d array\n",
    "arr3 = np.array([[1, 2], [3, 4]]) \n",
    "arr4 = np.array([[5, 6], [7, 8]]) \n",
    "\n",
    "ans_1D = np.dot(arr1, arr2)\n",
    "ans_2D = np.dot(arr3, arr4)\n",
    "\n",
    "print(\"Dot product of 1D array: \",ans_1D)\n",
    "print(f\"Dot product of 2D array: {ans_2D}\")"
   ]
  },
  {
   "cell_type": "markdown",
   "id": "5f11dbc1-42f2-45e7-a16b-9a4a43ef4da6",
   "metadata": {},
   "source": [
    "# 🟡 Aggregate Operations\n",
    "\n",
    "- **Sum**: `np.sum(array)`\n",
    "- **Mean**: `np.mean(array)`\n",
    "- **Min/Max**: `np.min(array), np.max(array)`\n",
    "- **Standard Deviation**: `np.std(array)`"
   ]
  },
  {
   "cell_type": "code",
   "execution_count": 146,
   "id": "e5ac6408-4049-4816-8ca7-ed4d54763c5c",
   "metadata": {},
   "outputs": [
    {
     "name": "stdout",
     "output_type": "stream",
     "text": [
      "21\n",
      "3.5\n",
      "6\n",
      "1\n",
      "1.707825127659933\n",
      "3.5\n"
     ]
    }
   ],
   "source": [
    "import numpy as np\n",
    "\n",
    "arr = np.array([1, 2, 3, 4, 5, 6])\n",
    "\n",
    "print(np.sum(arr))\n",
    "print(np.mean(arr))\n",
    "print(np.max(arr))\n",
    "print(np.min(arr))\n",
    "print(np.std(arr))\n",
    "print(np.median(arr))\n"
   ]
  },
  {
   "cell_type": "markdown",
   "id": "cf036415-c30f-41b1-82e7-9a5beb9f2237",
   "metadata": {},
   "source": [
    "---\n",
    "---"
   ]
  },
  {
   "cell_type": "markdown",
   "id": "d64c50bc-df54-40fc-852c-68af460a8092",
   "metadata": {},
   "source": [
    "# 🟡 `numpy.random` function\n",
    "- The `np.random` module in NumPy is used to generate random numbers, arrays, or perform random sampling."
   ]
  },
  {
   "cell_type": "markdown",
   "id": "51dedb02-3027-4772-9de5-29d661f71b8e",
   "metadata": {},
   "source": [
    "## 🟩 1. <font color=\"cyan\">`.random()` : Random Numbers</font>"
   ]
  },
  {
   "cell_type": "markdown",
   "id": "0d078edb-8f5b-46b2-ab1a-cb3b30d97444",
   "metadata": {},
   "source": [
    "### ♦️ Single Random Number (0 to 1):\n",
    "- Generate a random float between 0 and 1"
   ]
  },
  {
   "cell_type": "code",
   "execution_count": 57,
   "id": "174372a9-695d-482f-95da-59174f313ed2",
   "metadata": {},
   "outputs": [
    {
     "name": "stdout",
     "output_type": "stream",
     "text": [
      "0.3701324181046576\n"
     ]
    }
   ],
   "source": [
    "import numpy as np\n",
    "print(np.random.random())"
   ]
  },
  {
   "cell_type": "markdown",
   "id": "b5bb64ad-ea82-4d03-b21f-9546c3b19559",
   "metadata": {},
   "source": [
    "### ♦️ Array of Random Numbers (0 to 1):"
   ]
  },
  {
   "cell_type": "code",
   "execution_count": 64,
   "id": "7d43afd6-3d57-4ecd-8ab9-fe08b5bbb9ac",
   "metadata": {},
   "outputs": [
    {
     "name": "stdout",
     "output_type": "stream",
     "text": [
      "[[0.79727213 0.18329031 0.95445202]\n",
      " [0.46568672 0.31320012 0.83522737]]\n"
     ]
    }
   ],
   "source": [
    "import numpy as np\n",
    "\n",
    "# Generate the array of shape (2,3) with random values inside it\n",
    "arr = np.random.random((2, 3))\n",
    "\n",
    "print(arr)"
   ]
  },
  {
   "cell_type": "markdown",
   "id": "b3b1fe0d-4cf4-4df3-a09e-41dd2adaa616",
   "metadata": {},
   "source": [
    "## 🟩 2. <font color=\"cyan\">`.randint()` : Integers</font>"
   ]
  },
  {
   "cell_type": "markdown",
   "id": "faa03e9e-8886-418f-be59-c8616339b03b",
   "metadata": {},
   "source": [
    "### ♦️ Random Integers in a Range:"
   ]
  },
  {
   "cell_type": "code",
   "execution_count": 72,
   "id": "8dbda750-c5fb-4478-835b-ccb7f928cee4",
   "metadata": {},
   "outputs": [
    {
     "name": "stdout",
     "output_type": "stream",
     "text": [
      "2\n"
     ]
    }
   ],
   "source": [
    "import numpy as np\n",
    "\n",
    "# Random integer from 1 to 9\n",
    "print(np.random.randint(1, 10))  "
   ]
  },
  {
   "cell_type": "markdown",
   "id": "28a3442c-b41c-4f25-b9f9-393e90947fa6",
   "metadata": {},
   "source": [
    "### ♦️ Array of Random Integers:"
   ]
  },
  {
   "cell_type": "code",
   "execution_count": 76,
   "id": "12a5212e-ab63-4cc1-8f5b-1b3561be4346",
   "metadata": {},
   "outputs": [
    {
     "name": "stdout",
     "output_type": "stream",
     "text": [
      "[[9 2 8]\n",
      " [5 1 2]]\n"
     ]
    }
   ],
   "source": [
    "import numpy as np\n",
    "\n",
    "# 2x3 array of integers\n",
    "print(np.random.randint(1, 10, size=(2, 3)))  "
   ]
  },
  {
   "cell_type": "markdown",
   "id": "23e4c106-9f80-49d9-b2e0-a17a3145d9ba",
   "metadata": {},
   "source": [
    "## 🟩 3. <font color=\"cyan\">`.choice()` : Random Sampling</font>"
   ]
  },
  {
   "cell_type": "markdown",
   "id": "977782f2-2fdc-4499-bf77-8206e40460a8",
   "metadata": {},
   "source": [
    "### ♦️ Random Choice from a List:"
   ]
  },
  {
   "cell_type": "code",
   "execution_count": 86,
   "id": "99cccf6c-21f1-44d9-9cb7-e4b65df64e6c",
   "metadata": {},
   "outputs": [
    {
     "name": "stdout",
     "output_type": "stream",
     "text": [
      "2\n"
     ]
    }
   ],
   "source": [
    "import numpy as np\n",
    "\n",
    "# Randomly picks one element\n",
    "print(np.random.choice([1, 2, 3, 4, 5]))"
   ]
  },
  {
   "cell_type": "markdown",
   "id": "c6dc8ba0-999e-46e0-804d-c20556cdbe3d",
   "metadata": {},
   "source": [
    "### ♦️ Random Choice with Replacement:\n",
    "- Random Choice with Replacement in NumPy allows you to randomly select elements from a list or array with repetition allowed. This means the same element can be chosen multiple times."
   ]
  },
  {
   "cell_type": "code",
   "execution_count": 93,
   "id": "f73d54cc-e52a-4489-8313-ecaf30f0356a",
   "metadata": {},
   "outputs": [
    {
     "name": "stdout",
     "output_type": "stream",
     "text": [
      "[1 3 1 1 2 2]\n"
     ]
    }
   ],
   "source": [
    "import numpy as np\n",
    "\n",
    "# Allows repeats\n",
    "print(np.random.choice([1, 2, 3], size=6, replace=True))"
   ]
  },
  {
   "cell_type": "markdown",
   "id": "261549f1-f9ab-4b26-9820-fe2a6042cc2f",
   "metadata": {},
   "source": [
    "### ♦️ Random Choice Without Replacement:"
   ]
  },
  {
   "cell_type": "code",
   "execution_count": 104,
   "id": "c80a2d1b-cf8d-429b-90ca-eee239d1cb82",
   "metadata": {},
   "outputs": [
    {
     "name": "stdout",
     "output_type": "stream",
     "text": [
      "[2 1 3]\n"
     ]
    }
   ],
   "source": [
    "import numpy as np\n",
    "\n",
    "# No repeats\n",
    "print(np.random.choice([1, 2, 3], size=3, replace=False))  "
   ]
  },
  {
   "cell_type": "markdown",
   "id": "3b0577c1-6365-4705-b706-691b7e7d52ed",
   "metadata": {},
   "source": [
    "---\n",
    "---"
   ]
  },
  {
   "cell_type": "markdown",
   "id": "31ac8fc4-d54d-4f6d-8ee8-ea653359c773",
   "metadata": {},
   "source": [
    "# 🟡 Mathematical Operations"
   ]
  },
  {
   "cell_type": "markdown",
   "id": "64df82c0-1f31-404e-8e48-55b76af00912",
   "metadata": {},
   "source": [
    "## 🔰 Basic Arithmetic Operations :"
   ]
  },
  {
   "cell_type": "code",
   "execution_count": 121,
   "id": "9c474669-9670-42a5-8590-4b6253dbee87",
   "metadata": {},
   "outputs": [
    {
     "name": "stdout",
     "output_type": "stream",
     "text": [
      "Addition: [5 7 9]\n",
      "Subtraction: [-3 -3 -3]\n",
      "Multiplication: [ 4 10 18]\n",
      "Division: [0.25 0.4  0.5 ]\n",
      "Exponentiation: [1 4 9]\n"
     ]
    }
   ],
   "source": [
    "import numpy as np\n",
    "\n",
    "arr1 = np.array([1, 2, 3])\n",
    "arr2 = np.array([4, 5, 6])\n",
    "\n",
    "# addition\n",
    "addition = np.add(arr1, arr2)  # or arr1 + arr2\n",
    "\n",
    "# subtraction\n",
    "subtraction = np.subtract(arr1, arr2)  # or arr1 - arr2\n",
    "\n",
    "# Multiplication\n",
    "multiplication = np.multiply(arr1, arr2)  # or arr1 * arr2\n",
    "\n",
    "# Division\n",
    "division = np.divide(arr1, arr2)  # or arr1 / arr2\n",
    "\n",
    "# Exponentiation\n",
    "exponentiation= np.power(arr1, 2)  # or arr1 ** 2\n",
    "\n",
    "print(\"Addition:\", addition)\n",
    "print(\"Subtraction:\", subtraction)\n",
    "print(\"Multiplication:\", multiplication)\n",
    "print(\"Division:\", division)\n",
    "print(\"Exponentiation:\", exponentiation)"
   ]
  },
  {
   "cell_type": "markdown",
   "id": "309c99fe-76c3-4363-a598-a22230ae99f6",
   "metadata": {},
   "source": [
    "## 🔰 Trigonometric Functions :"
   ]
  },
  {
   "cell_type": "code",
   "execution_count": 130,
   "id": "981534a2-1450-4fac-a485-f221848475fa",
   "metadata": {},
   "outputs": [
    {
     "name": "stdout",
     "output_type": "stream",
     "text": [
      "Sine:  [0.0000000e+00 1.0000000e+00 1.2246468e-16]\n",
      "cosine:  [ 1.000000e+00  6.123234e-17 -1.000000e+00]\n"
     ]
    }
   ],
   "source": [
    "import numpy as np\n",
    "\n",
    "arr = np.array([0, np.pi/2, np.pi])\n",
    "\n",
    "# sine\n",
    "sine = np.sin(arr)\n",
    "\n",
    "# cosine\n",
    "cosine = np.cos(arr)\n",
    "\n",
    "print(\"Sine: \", sine)\n",
    "print(\"cosine: \", cosine)"
   ]
  },
  {
   "cell_type": "markdown",
   "id": "31868613-fa44-4257-9979-6c321d4bbf9b",
   "metadata": {},
   "source": [
    "## 🔰 Exponential and Logarithmic Functions"
   ]
  },
  {
   "cell_type": "code",
   "execution_count": 135,
   "id": "f058c403-2fa8-47c3-8e74-867ad9f8b564",
   "metadata": {},
   "outputs": [
    {
     "name": "stdout",
     "output_type": "stream",
     "text": [
      "Exponential: [ 2.71828183  7.3890561  20.08553692]\n",
      "Natural Log: [0.         0.69314718 1.09861229]\n",
      "Log Base 10: [0.         0.30103    0.47712125]\n"
     ]
    }
   ],
   "source": [
    "import numpy as np\n",
    "\n",
    "arr = np.array([1, 2, 3])\n",
    "\n",
    "# Exponential (e^x)\n",
    "exponential = np.exp(arr)\n",
    "\n",
    "# Natural Logarithm (log_e)\n",
    "natural_log = np.log(arr)\n",
    "\n",
    "# Logarithm Base 10\n",
    "log_10 = np.log10(arr)\n",
    "\n",
    "print(\"Exponential:\", exponential)\n",
    "print(\"Natural Log:\", natural_log)\n",
    "print(\"Log Base 10:\", log_10)"
   ]
  },
  {
   "cell_type": "markdown",
   "id": "b96a24c9-1bbf-45b8-acf6-02ea58be143e",
   "metadata": {},
   "source": [
    "## 🔰 Power and Roots"
   ]
  },
  {
   "cell_type": "code",
   "execution_count": 144,
   "id": "1047137a-d9a3-43c5-b522-d1e0e6d198c3",
   "metadata": {},
   "outputs": [
    {
     "name": "stdout",
     "output_type": "stream",
     "text": [
      "Square root: [1.         1.41421356 1.73205081]\n",
      "Cube root: [1.         1.25992105 1.44224957]\n",
      "4-th root: [1.         1.18920712 1.31607401]\n"
     ]
    }
   ],
   "source": [
    "import numpy as np\n",
    "\n",
    "arr = [1, 2, 3]\n",
    "\n",
    "# Square of a number\n",
    "square_root = np.sqrt(arr)\n",
    "\n",
    "# Cube root\n",
    "cube_root = np.cbrt(arr)\n",
    "\n",
    "# N-th Root\n",
    "n = 4\n",
    "nth_root = np.power(arr, 1/n)\n",
    "\n",
    "print(\"Square root:\", square_root)\n",
    "print(\"Cube root:\", cube_root)\n",
    "print(f\"{n}-th root:\", nth_root)"
   ]
  },
  {
   "cell_type": "markdown",
   "id": "1b905a6e-7319-4369-89ee-55b79a038463",
   "metadata": {},
   "source": [
    "---"
   ]
  },
  {
   "cell_type": "markdown",
   "id": "09aa29e4-3fd1-44de-857f-5e11f519219c",
   "metadata": {},
   "source": [
    "## 🔰 Other Mathematical Functions"
   ]
  },
  {
   "cell_type": "markdown",
   "id": "93ac30d1-a7c4-4f37-8ab4-9e05f0434c4a",
   "metadata": {},
   "source": [
    "### ⏺ Absolute value : `.abs()`"
   ]
  },
  {
   "cell_type": "code",
   "execution_count": 153,
   "id": "5954377e-edd9-4200-bd44-e3e1d25e509e",
   "metadata": {},
   "outputs": [
    {
     "name": "stdout",
     "output_type": "stream",
     "text": [
      "Absolute Value: [1 2 3]\n"
     ]
    }
   ],
   "source": [
    "import numpy as np\n",
    "\n",
    "arr = np.array([-1, -2, 3])\n",
    "\n",
    "result = np.abs(arr)\n",
    "print(\"Absolute Value:\", result)"
   ]
  },
  {
   "cell_type": "markdown",
   "id": "08d19d03-eefe-40fc-8b55-0be7daaf4a63",
   "metadata": {},
   "source": [
    "### ⏺ Floor (round down) : `.floor()`"
   ]
  },
  {
   "cell_type": "code",
   "execution_count": 14,
   "id": "40423186-6dbf-4eb0-aa02-1afbe8c2517d",
   "metadata": {},
   "outputs": [
    {
     "name": "stdout",
     "output_type": "stream",
     "text": [
      "Floor: [1. 2. 3.]\n"
     ]
    }
   ],
   "source": [
    "import numpy as np\n",
    "\n",
    "arr = np.array([1.9, 2.5, 3.7])\n",
    "\n",
    "result = np.floor(arr)\n",
    "print(\"Floor:\", result)"
   ]
  },
  {
   "cell_type": "markdown",
   "id": "40226b74-fd01-4fbf-8f2c-8f5e32314fc5",
   "metadata": {},
   "source": [
    "### ⏺ Ceiling (round up) :  `.ceil()`"
   ]
  },
  {
   "cell_type": "code",
   "execution_count": 16,
   "id": "bbd3db97-22c4-4ab2-8e42-3d0d9cab46e9",
   "metadata": {},
   "outputs": [
    {
     "name": "stdout",
     "output_type": "stream",
     "text": [
      "Ceiling: [2. 3. 4.]\n"
     ]
    }
   ],
   "source": [
    "import numpy as np\n",
    "\n",
    "arr = np.array([1.9, 2.5, 3.7])\n",
    "\n",
    "result = np.ceil(arr)\n",
    "print(\"Ceiling:\", result)"
   ]
  },
  {
   "cell_type": "markdown",
   "id": "a7efd7c0-f97c-4baa-b648-2cfab1b6dc42",
   "metadata": {},
   "source": [
    "### ⏺ Rounding to the nearest integer : `.round()`"
   ]
  },
  {
   "cell_type": "code",
   "execution_count": 18,
   "id": "3fe3fd1c-2c2a-4da0-9df2-61b91b6f99b5",
   "metadata": {},
   "outputs": [
    {
     "name": "stdout",
     "output_type": "stream",
     "text": [
      "Rounded: [2. 2. 4.]\n"
     ]
    }
   ],
   "source": [
    "import numpy as np\n",
    "\n",
    "arr = np.array([1.9, 2.3, 3.7])\n",
    "\n",
    "result = np.round(arr)\n",
    "print(\"Rounded:\", result)  "
   ]
  },
  {
   "cell_type": "markdown",
   "id": "8edbb1ef-4b09-4ee1-a2a9-29b5bc0bf1f9",
   "metadata": {},
   "source": [
    "---\n",
    "---"
   ]
  },
  {
   "cell_type": "markdown",
   "id": "1013ebb4-a6e3-4549-8e7b-d8d62504f86e",
   "metadata": {},
   "source": [
    "# 🟡 Array Manipulation Methods"
   ]
  },
  {
   "cell_type": "markdown",
   "id": "21a70514-472a-4a66-a036-d7dbeddd5a5f",
   "metadata": {},
   "source": [
    "### 🟩 `.unique()` : To find the unique elements of an array \n",
    "\n",
    "### Syntax:\n",
    "```python\n",
    "numpy.unique(arr, axis=None, return_index=False, return_inverse=False, return_counts=False, sort=True)\n",
    "```"
   ]
  },
  {
   "cell_type": "code",
   "execution_count": 43,
   "id": "3a33bfa9-0494-4ed5-9ada-2992f00a5431",
   "metadata": {},
   "outputs": [
    {
     "name": "stdout",
     "output_type": "stream",
     "text": [
      "Unique values: [2 3 4 5]\n",
      "\n",
      "Unique values: [2 3 4 5]\n",
      "Indices of first occurrences: [1 3 0 6]\n",
      "\n",
      "Unique values: [2 3 4 5]\n",
      "Counts: [2 2 2 1]\n"
     ]
    }
   ],
   "source": [
    "import numpy as np\n",
    "\n",
    "arr = np.array([4, 2, 2, 3, 3, 4, 5])\n",
    "\n",
    "# Find unique values\n",
    "unique_vals = np.unique(arr)\n",
    "print(\"Unique values:\", unique_vals) \n",
    "\n",
    "print()\n",
    "\n",
    "# Return unique values with indices of first occurrences\n",
    "unique_vals, indices = np.unique(arr, return_index=True)\n",
    "print(\"Unique values:\", unique_vals)  \n",
    "print(\"Indices of first occurrences:\", indices)  \n",
    "\n",
    "print()\n",
    "\n",
    "# Return unique values with counts of occurrences\n",
    "unique_vals, counts = np.unique(arr, return_counts=True)\n",
    "print(\"Unique values:\", unique_vals)  \n",
    "print(\"Counts:\", counts)  "
   ]
  },
  {
   "cell_type": "markdown",
   "id": "85e93c52-1939-4428-9731-bd557a6af11c",
   "metadata": {},
   "source": [
    "### 🟩 `.delete()` : To delete elements from an array\n",
    "\n",
    "#### Syntax:\n",
    "```python\n",
    "numpy.delete(arr, obj, axis=None)\n",
    "```\n",
    "#### **Parameters**:\n",
    "   - **arr**: The input array from which elements will be deleted.\n",
    "   - **obj**: The index or indices of the elements to delete. Can be a single index, a list/array of indices, or a slice.\n",
    "   - **axis (optional)**: The axis along which to delete. If None (default), the array is flattened before deletion. If an axis is specified, elements are deleted along that axis."
   ]
  },
  {
   "cell_type": "markdown",
   "id": "1ee256d8-59a0-425a-bdcd-271c698bbcd6",
   "metadata": {},
   "source": [
    "### ♦️ Deleting Elements by Index"
   ]
  },
  {
   "cell_type": "code",
   "execution_count": 73,
   "id": "68e0fddd-7feb-4fd7-acb4-ce3ccd7637e1",
   "metadata": {},
   "outputs": [
    {
     "name": "stdout",
     "output_type": "stream",
     "text": [
      "[1 2 4 5]\n"
     ]
    }
   ],
   "source": [
    "import numpy as np\n",
    "arr = np.array([1, 2, 3, 4, 5])\n",
    "\n",
    "# Delete element at index 2 (the element '3')\n",
    "arr_deleted = np.delete(arr, 2)  \n",
    "\n",
    "print(arr_deleted)  "
   ]
  },
  {
   "cell_type": "markdown",
   "id": "7e77019f-0f29-48fa-af57-c5358f59e1f3",
   "metadata": {},
   "source": [
    "### ♦️ Deleting Multiple Elements by Indices"
   ]
  },
  {
   "cell_type": "code",
   "execution_count": 65,
   "id": "908132af-c4f5-482d-9370-d52e4c81f7a3",
   "metadata": {},
   "outputs": [
    {
     "name": "stdout",
     "output_type": "stream",
     "text": [
      "[1 3 5]\n"
     ]
    }
   ],
   "source": [
    "arr = np.array([1, 2, 3, 4, 5])\n",
    "\n",
    "# Delete elements at indices 1 and 3 (elements '2' and '4')\n",
    "arr_deleted = np.delete(arr, [1, 3])  \n",
    "print(arr_deleted)  "
   ]
  },
  {
   "cell_type": "markdown",
   "id": "acb6f94e-b2f0-4751-ba46-9f29e54172e3",
   "metadata": {},
   "source": [
    "### ♦️ Deleting Elements along a Specific Axis (2D Array)"
   ]
  },
  {
   "cell_type": "code",
   "execution_count": 69,
   "id": "24985d72-e4ab-4385-9d58-ecbceee6e43e",
   "metadata": {},
   "outputs": [
    {
     "name": "stdout",
     "output_type": "stream",
     "text": [
      "[[1 2 3]\n",
      " [7 8 9]]\n",
      "\n",
      "[[1 3]\n",
      " [4 6]\n",
      " [7 9]]\n"
     ]
    }
   ],
   "source": [
    "arr = np.array([[1, 2, 3], [4, 5, 6], [7, 8, 9]])\n",
    "\n",
    "# Delete the second row (index 1)\n",
    "arr_deleted = np.delete(arr, 1, axis=0)  \n",
    "print(arr_deleted)\n",
    "\n",
    "print()\n",
    "\n",
    "# Delete the second column (index 1)\n",
    "arr_deleted = np.delete(arr, 1, axis=1)  \n",
    "print(arr_deleted)"
   ]
  },
  {
   "cell_type": "code",
   "execution_count": null,
   "id": "17a062a3-52ca-4e3c-9814-c89a5b040e92",
   "metadata": {},
   "outputs": [],
   "source": []
  }
 ],
 "metadata": {
  "kernelspec": {
   "display_name": "Python 3 (ipykernel)",
   "language": "python",
   "name": "python3"
  },
  "language_info": {
   "codemirror_mode": {
    "name": "ipython",
    "version": 3
   },
   "file_extension": ".py",
   "mimetype": "text/x-python",
   "name": "python",
   "nbconvert_exporter": "python",
   "pygments_lexer": "ipython3",
   "version": "3.12.4"
  }
 },
 "nbformat": 4,
 "nbformat_minor": 5
}
