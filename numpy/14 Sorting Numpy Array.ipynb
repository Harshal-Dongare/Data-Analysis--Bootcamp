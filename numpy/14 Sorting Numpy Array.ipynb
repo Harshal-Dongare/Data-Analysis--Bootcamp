{
 "cells": [
  {
   "cell_type": "markdown",
   "id": "058f047c-76f5-48e5-a336-36509306ed77",
   "metadata": {},
   "source": [
    "# 🟡 Sorting in NumPy Array\n",
    "- Use **`numpy.sort()`** to sort an array.\n",
    "- **Does not modify the original array** (returns a sorted copy).\n",
    "- Default is **ascending order**.\n",
    "\n",
    "---"
   ]
  },
  {
   "cell_type": "markdown",
   "id": "0929cbe9-e1a4-45f1-8b25-38db6b017e57",
   "metadata": {},
   "source": [
    "## 🟢 <font color=\"LightGreen\">Basic Sorting</font> :\n",
    "- `numpy.sort()` sorts the array and **returns a new sorted array**.\n",
    "- Default is ascending order."
   ]
  },
  {
   "cell_type": "code",
   "execution_count": 5,
   "id": "d0a872df-07a7-4d7c-89ff-20f70ea5d225",
   "metadata": {},
   "outputs": [
    {
     "name": "stdout",
     "output_type": "stream",
     "text": [
      "[0 4 5 6 8]\n"
     ]
    }
   ],
   "source": [
    "import numpy as np\n",
    "\n",
    "arr = np.array([5,0,8,6,4])\n",
    "sorted_arr = np.sort(arr)\n",
    "\n",
    "print(sorted_arr)"
   ]
  },
  {
   "cell_type": "markdown",
   "id": "e4f5d417-178e-4d01-8723-b204d8deae27",
   "metadata": {},
   "source": [
    "---"
   ]
  },
  {
   "cell_type": "markdown",
   "id": "bf8a167d-3baf-4fa5-9cd9-72dedb5cd303",
   "metadata": {},
   "source": [
    "## 🟢 <font color=\"LightGreen\">Sorting Along Axes</font> :\n",
    "- **`axis=0`** : Sorts along columns (**vertically**).\n",
    "- **`axis=1`** : Sorts along rows (**horizontally**).\n",
    "- **`axis=None`** : Flattens the array before sorting."
   ]
  },
  {
   "cell_type": "code",
   "execution_count": 16,
   "id": "b9b12b2b-4a46-4684-b4bb-5431507aabf8",
   "metadata": {},
   "outputs": [
    {
     "name": "stdout",
     "output_type": "stream",
     "text": [
      "[[3 1 2]\n",
      " [6 5 4]]\n",
      "[[2 3 5]\n",
      " [1 4 6]]\n",
      "[1 2 3 4 5 6]\n"
     ]
    }
   ],
   "source": [
    "import numpy as np\n",
    "\n",
    "arr = np.array([[3, 5, 2], [6, 1, 4]])\n",
    "\n",
    "# Sort along columns\n",
    "sorted_by_col = np.sort(arr, axis=0)\n",
    "print(sorted_by_col)\n",
    "\n",
    "# Sort along rows\n",
    "sorted_by_row = np.sort(arr, axis=1)\n",
    "print(sorted_by_row)\n",
    "\n",
    "# Flatten and sort\n",
    "sorted_flattened = np.sort(arr, axis=None)\n",
    "print(sorted_flattened)"
   ]
  },
  {
   "cell_type": "markdown",
   "id": "879fbbee-9627-4186-873d-b0a0c9688a2c",
   "metadata": {},
   "source": [
    "---"
   ]
  },
  {
   "cell_type": "markdown",
   "id": "1cb0cfef-6701-4f08-8ef2-cf4f175e1aa1",
   "metadata": {},
   "source": [
    "## 🟢 <font color=\"LightGreen\">In place Sorting</font> :\n",
    "- To sort the array in place (modifies the original array)."
   ]
  },
  {
   "cell_type": "code",
   "execution_count": 21,
   "id": "8c96964a-4a02-4ce1-9ac0-db8c7b092356",
   "metadata": {},
   "outputs": [
    {
     "name": "stdout",
     "output_type": "stream",
     "text": [
      "[1 2 3]\n"
     ]
    }
   ],
   "source": [
    "import numpy as np\n",
    "\n",
    "arr = np.array([3, 1, 2])\n",
    "arr.sort() \n",
    "\n",
    "print(arr)"
   ]
  },
  {
   "cell_type": "markdown",
   "id": "02712f14-7385-4aa7-895b-1b10f19ff181",
   "metadata": {},
   "source": [
    "---"
   ]
  },
  {
   "cell_type": "markdown",
   "id": "6297a394-b060-4624-b130-925f97414362",
   "metadata": {},
   "source": [
    "## 🟢 <font color=\"LightGreen\">Custom Sorting Algorithms</font> :\n",
    "- Specify sorting algorithm with the **`kind`** parameter:\n",
    "     - `quicksort` (default), `mergesort`, `heapsort`, `stable`."
   ]
  },
  {
   "cell_type": "code",
   "execution_count": 25,
   "id": "f825165e-d312-4ff3-a0f6-dfab4e4cac21",
   "metadata": {},
   "outputs": [
    {
     "name": "stdout",
     "output_type": "stream",
     "text": [
      "[1 2 3]\n"
     ]
    }
   ],
   "source": [
    "import numpy as np\n",
    "\n",
    "arr = np.array([3, 1, 2])\n",
    "\n",
    "# Sort using heapsort\n",
    "sorted_arr = np.sort(arr, kind='heapsort')  # [1, 2, 3]\n",
    "\n",
    "print(sorted_arr)"
   ]
  },
  {
   "cell_type": "code",
   "execution_count": null,
   "id": "666fa6f7-4548-4d28-a3b1-fa9a4e6d6aac",
   "metadata": {},
   "outputs": [],
   "source": []
  }
 ],
 "metadata": {
  "kernelspec": {
   "display_name": "Python 3 (ipykernel)",
   "language": "python",
   "name": "python3"
  },
  "language_info": {
   "codemirror_mode": {
    "name": "ipython",
    "version": 3
   },
   "file_extension": ".py",
   "mimetype": "text/x-python",
   "name": "python",
   "nbconvert_exporter": "python",
   "pygments_lexer": "ipython3",
   "version": "3.12.4"
  }
 },
 "nbformat": 4,
 "nbformat_minor": 5
}
