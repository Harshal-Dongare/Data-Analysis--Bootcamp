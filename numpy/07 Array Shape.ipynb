{
 "cells": [
  {
   "cell_type": "markdown",
   "id": "b17f5759-e524-4327-83db-703d3a6b3c7e",
   "metadata": {},
   "source": [
    "# 🟡 Array Shape\n",
    "   - The shape of an array tells you **how many elements are in each dimension** (like rows and columns).\n",
    "   - You can find the shape using `.shape`.\n",
    "   - For a **1D** array, the shape might look like (5,).\n",
    "   - For a **3D** array, it might be (2, 3, 4).\n",
    "   - **Shape helps you understand how the data is structured**."
   ]
  },
  {
   "cell_type": "code",
   "execution_count": 3,
   "id": "0600da3b-2896-43c7-91c2-2265aeec88a8",
   "metadata": {},
   "outputs": [
    {
     "name": "stdout",
     "output_type": "stream",
     "text": [
      "(2, 4)\n"
     ]
    }
   ],
   "source": [
    "import numpy as np\n",
    "\n",
    "arr = np.array([[1, 2, 3, 4], [5, 6, 7, 8]])\n",
    "\n",
    "print(arr.shape)"
   ]
  },
  {
   "cell_type": "markdown",
   "id": "31eeb4cf-e251-4c1e-b423-164d1f1cc979",
   "metadata": {},
   "source": [
    "Here, the shape `(2, 4)` means, the array has **2 Dimensions** which has **2 rows** and **4 columns**."
   ]
  },
  {
   "cell_type": "markdown",
   "id": "b5ca3077-dccc-4ff5-bee1-a80a6f5eaa95",
   "metadata": {},
   "source": [
    "---\n",
    "---"
   ]
  },
  {
   "cell_type": "markdown",
   "id": "e0c64f18-9b64-4644-a251-e8f3aa1f445f",
   "metadata": {},
   "source": [
    "### ❓ Convert 5D array using `ndmin`"
   ]
  },
  {
   "cell_type": "code",
   "execution_count": 12,
   "id": "cf2d3812-10af-485b-b650-41ee9e61eb74",
   "metadata": {},
   "outputs": [
    {
     "name": "stdout",
     "output_type": "stream",
     "text": [
      "[[[[[1 2 3 4 5]]]]]\n",
      "Shape of array:  (1, 1, 1, 1, 5)\n"
     ]
    }
   ],
   "source": [
    "import numpy as np\n",
    "\n",
    "arr = np.array([1,2,3,4,5], ndmin=5)\n",
    "\n",
    "print(arr)\n",
    "print(\"Shape of array: \", arr.shape)"
   ]
  },
  {
   "cell_type": "markdown",
   "id": "83f97b67-f035-4439-816f-3e92cf714abf",
   "metadata": {},
   "source": [
    "---"
   ]
  }
 ],
 "metadata": {
  "kernelspec": {
   "display_name": "Python 3 (ipykernel)",
   "language": "python",
   "name": "python3"
  },
  "language_info": {
   "codemirror_mode": {
    "name": "ipython",
    "version": 3
   },
   "file_extension": ".py",
   "mimetype": "text/x-python",
   "name": "python",
   "nbconvert_exporter": "python",
   "pygments_lexer": "ipython3",
   "version": "3.12.4"
  }
 },
 "nbformat": 4,
 "nbformat_minor": 5
}
