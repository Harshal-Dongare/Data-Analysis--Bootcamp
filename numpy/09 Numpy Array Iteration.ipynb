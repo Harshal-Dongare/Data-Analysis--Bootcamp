{
 "cells": [
  {
   "cell_type": "markdown",
   "id": "f66b1782-0128-4d2d-8cf5-694170cb2e88",
   "metadata": {},
   "source": [
    "# 🟡 Numpy Array Iteration"
   ]
  },
  {
   "cell_type": "markdown",
   "id": "7fbe9387-3e54-47aa-b16d-62be5302abf2",
   "metadata": {},
   "source": [
    "## ⚜️ Iterating Over 1-D Arrays:"
   ]
  },
  {
   "cell_type": "code",
   "execution_count": 7,
   "id": "7a7ec1b9-2664-479e-9fe1-ab568d4d3e02",
   "metadata": {},
   "outputs": [
    {
     "name": "stdout",
     "output_type": "stream",
     "text": [
      "1 2 3 "
     ]
    }
   ],
   "source": [
    "%config Completer.use_jedi = False\n",
    "import numpy as np\n",
    "\n",
    "arr = np.array([1, 2, 3])\n",
    "\n",
    "for i in arr:\n",
    "    print(i, end=\" \")"
   ]
  },
  {
   "cell_type": "markdown",
   "id": "6a42087f-8585-42c4-9c5a-6f28479cbba2",
   "metadata": {},
   "source": [
    "---"
   ]
  },
  {
   "cell_type": "markdown",
   "id": "29677bb3-2320-4f02-aced-4ec96cf12d8b",
   "metadata": {},
   "source": [
    "## ⚜️ Iterating Over 2-D Arrays:"
   ]
  },
  {
   "cell_type": "code",
   "execution_count": 11,
   "id": "7c803bd0-35c8-492e-8482-5d49a28c9269",
   "metadata": {},
   "outputs": [
    {
     "name": "stdout",
     "output_type": "stream",
     "text": [
      "1 2 3 4 "
     ]
    }
   ],
   "source": [
    "import numpy as np\n",
    "\n",
    "arr = np.array([[1, 2], [3, 4]])\n",
    "\n",
    "# access each row in an array\n",
    "for row in arr:\n",
    "    # access each element in a row\n",
    "    for element in row:   \n",
    "        print(element, end=\" \")"
   ]
  },
  {
   "cell_type": "markdown",
   "id": "85d7a116-bc20-4e81-8d45-81822bd69398",
   "metadata": {},
   "source": [
    "---"
   ]
  },
  {
   "cell_type": "markdown",
   "id": "b08170e5-2637-4cb2-a3cc-4c465dabab82",
   "metadata": {},
   "source": [
    "## ⚜️ Iterating Over 3-D Arrays:"
   ]
  },
  {
   "cell_type": "code",
   "execution_count": 21,
   "id": "93c5cb4c-2ecb-4116-86fd-d2a412393041",
   "metadata": {},
   "outputs": [
    {
     "name": "stdout",
     "output_type": "stream",
     "text": [
      "1 2 3 4 5 6 7 8 9 10 11 12 13 14 15 16 17 18 19 20 "
     ]
    }
   ],
   "source": [
    "import numpy as np\n",
    "\n",
    "# 3D array\n",
    "arr = np.arange(1, 21).reshape(2, 2, 5)\n",
    "\n",
    "for depth in arr:\n",
    "    for row in depth:\n",
    "        for element in row:\n",
    "            print(element, end=\" \")"
   ]
  },
  {
   "cell_type": "markdown",
   "id": "0be37296-5aa9-40b3-9abe-497498dd591e",
   "metadata": {},
   "source": [
    "### ⚠️**Warning**: \n",
    "<font color=\"red\">`for` loop is **less efficient** for large or multi-dimensional NumPy arrays because it doesn't leverage NumPy's optimized internal functions.</font>"
   ]
  },
  {
   "cell_type": "markdown",
   "id": "1b66fddd-633f-41cf-9253-8fbe3d8cb5da",
   "metadata": {},
   "source": [
    "---"
   ]
  },
  {
   "cell_type": "markdown",
   "id": "7c707d70-6058-493e-a373-3c5e5b00622b",
   "metadata": {},
   "source": [
    "## ⚜️ Efficient methods for Iteration"
   ]
  },
  {
   "cell_type": "markdown",
   "id": "7ee7afbe-8f62-4612-8838-c57019e50c25",
   "metadata": {},
   "source": [
    "### 🔰 <font color=\"Yellow\">Using `np.nditer()` method</font> :\n",
    "\n",
    "**Syntax:**\n",
    "```python\n",
    "np.nditer(op, flags=None, op_flags=None, op_dtypes=None, order='K', casting='safe', buffersize=0)\n",
    "```\n",
    "   - **op**: The input array to iterate over.\n",
    "   - **flags**: Controls the iteration behavior (e.g., 'buffered', 'c_index', 'f_index', 'multi_index', 'refs_ok', 'zerosize_ok').\n",
    "   - **op_flags**: Specifies read/write behavior (['readonly'], ['readwrite'], etc.).\n",
    "   - **op_dtypes**: Specifies the data type during iteration.\n",
    "   - **order**: Iteration order (`'C'`, `'F'`, `'A'`, `'K'`).\n"
   ]
  },
  {
   "cell_type": "code",
   "execution_count": 40,
   "id": "60810aa9-6759-4b4c-b444-543bbdb3896b",
   "metadata": {},
   "outputs": [
    {
     "name": "stdout",
     "output_type": "stream",
     "text": [
      "1 2 3 4 5 6 7 8 "
     ]
    }
   ],
   "source": [
    "import numpy as np\n",
    "\n",
    "# 3D element\n",
    "arr = np.arange(1,9).reshape(1, 4, 2)\n",
    "\n",
    "for element in np.nditer(arr):\n",
    "    print(element, end=\" \")"
   ]
  },
  {
   "cell_type": "markdown",
   "id": "059e3c55-5500-4590-8ce5-bfaf1c4f4f5f",
   "metadata": {},
   "source": [
    "### 🔰 <font color=\"Yellow\">Using `.flatten()` method</font> :"
   ]
  },
  {
   "cell_type": "code",
   "execution_count": 48,
   "id": "2dcbfc60-6902-4270-b56b-352a3ce0508e",
   "metadata": {},
   "outputs": [
    {
     "name": "stdout",
     "output_type": "stream",
     "text": [
      "45 46 47 48 49 50 "
     ]
    }
   ],
   "source": [
    "import numpy as np\n",
    "\n",
    "arr = np.array([[45, 46, 47], [48, 49, 50]])\n",
    "\n",
    "for x in arr.flatten():\n",
    "    print(x, end=\" \")"
   ]
  },
  {
   "cell_type": "code",
   "execution_count": null,
   "id": "b57938ef-c16a-4698-967a-c5e9425b52d2",
   "metadata": {},
   "outputs": [],
   "source": []
  }
 ],
 "metadata": {
  "kernelspec": {
   "display_name": "Python 3 (ipykernel)",
   "language": "python",
   "name": "python3"
  },
  "language_info": {
   "codemirror_mode": {
    "name": "ipython",
    "version": 3
   },
   "file_extension": ".py",
   "mimetype": "text/x-python",
   "name": "python",
   "nbconvert_exporter": "python",
   "pygments_lexer": "ipython3",
   "version": "3.12.4"
  }
 },
 "nbformat": 4,
 "nbformat_minor": 5
}
