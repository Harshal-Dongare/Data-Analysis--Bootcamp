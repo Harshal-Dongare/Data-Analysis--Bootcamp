{
 "cells": [
  {
   "cell_type": "markdown",
   "id": "21f66fa1-3a84-4761-83cb-c4e6d320af12",
   "metadata": {},
   "source": [
    "# 🟡 Data Types in Numpy Array\n",
    "Numpy has some extra data types."
   ]
  },
  {
   "cell_type": "markdown",
   "id": "efb165d4-6efa-4621-97f8-794ecf815464",
   "metadata": {},
   "source": [
    "| **Data Type**    | **Description**                                  | **Range / Precision**                                      | **Notation**                  | **Short Notation**            |\n",
    "|------------------|--------------------------------------------------|------------------------------------------------------------|--------------------------------|--------------------------------|\n",
    "| **Integer Types** |                                                  |                                                            |                                |                                |\n",
    "| `int8`           | 8-bit signed integer                             | -128 to 127                                                 | `np.int8`                     | `i1` (int8)                   |\n",
    "| `int16`          | 16-bit signed integer                            | -32,768 to 32,767                                           | `np.int16`                    | `i2` (int16)                  |\n",
    "| `int32`          | 32-bit signed integer                            | -2<sup>31</sup> to 2<sup>31</sup>-1                        | `np.int32`                    | `i4` (int32)                  |\n",
    "| `int64`          | 64-bit signed integer                            | -2<sup>63</sup> to 2<sup>63</sup>-1                        | `np.int64`                    | `i8` (int64)                  |\n",
    "| `uint8`          | 8-bit unsigned integer                           | 0 to 255                                                    | `np.uint8`                    | `u1` (uint8)                  |\n",
    "| `uint16`         | 16-bit unsigned integer                          | 0 to 65,535                                                 | `np.uint16`                   | `u2` (uint16)                 |\n",
    "| `uint32`         | 32-bit unsigned integer                          | 0 to 4,294,967,295                                          | `np.uint32`                   | `u4` (uint32)                 |\n",
    "| `uint64`         | 64-bit unsigned integer                          | 0 to 18,446,744,073,709,551,615                            | `np.uint64`                   | `u8` (uint64)                 |\n",
    "| **Floating-Point Types** |                                            |                                                            |                                |                                |\n",
    "| `float16`        | 16-bit floating point (half precision)           | 1.5e-45 to 6.5e4                                            | `np.float16`                  | `f2` (float16)                |\n",
    "| `float32`        | 32-bit floating point (single precision)         | 1.5e-45 to 3.4e38                                           | `np.float32`                  | `f4` (float32)                |\n",
    "| `float64`        | 64-bit floating point (double precision)         | 5e-324 to 1.8e308                                           | `np.float64`                  | `f8` (float64)                |\n",
    "| **Complex Types** |                                                 |                                                            |                                |                                |\n",
    "| `complex64`      | 64-bit complex number (32-bit real + 32-bit imag) | Real and imaginary parts: 32-bit each                       | `np.complex64`                | `c8` (complex64)              |\n",
    "| `complex128`     | 128-bit complex number (64-bit real + 64-bit imag)| Real and imaginary parts: 64-bit each                       | `np.complex128`               | `c16` (complex128)            |\n",
    "| `complex256`     | 256-bit complex number (128-bit real + 128-bit imag) | Real and imaginary parts: 128-bit each                    | `np.complex256`               | `c32` (complex256)            |\n",
    "| **Boolean Type**  |                                                  |                                                            |                                |                                |\n",
    "| `bool`           | Boolean values (True or False)                   | 8-bit (0 or 1)                                              | `np.bool_`                    | `b1` (bool)                   |\n",
    "| **String Type**   |                                                  |                                                            |                                |                                |\n",
    "| `str_`           | Fixed-length string (Unicode)                    | Variable length (depends on input string size)             | `np.str_`                     | `U` (Unicode string)          |\n",
    "| `unicode_`       | Unicode string                                   | Variable length (depends on input string size)             | `np.unicode_`                 | `U` (Unicode string)          |\n",
    "| **Object Type**   |                                                  |                                                            |                                |                                |\n",
    "| `object`         | Generic Python object                            | Stores any Python object                                    | `np.object_`                  | `O` (Object)                  |\n",
    "| **Datetime Types**|                                                  |                                                            |                                |                                |\n",
    "| `datetime64`     | Date and time (with various precisions)          | Example: 'Y', 'M', 'D', 'h', 'm', 's'                       | `np.datetime64`               | `M` (datetime)                |\n",
    "| `timedelta64`    | Time duration between `datetime64` values        | Days, hours, minutes, etc.                                  | `np.timedelta64`              | `m` (timedelta)               |\n",
    "| **Other Types**   |                                                  |                                                            |                                |                                |\n",
    "| `void`           | Custom data types or structured arrays           | Arbitrary data types                                        | `np.void`                     | `V` (void)                    |\n",
    "| `ndarray`        | NumPy array object                               | Can hold any of the above types                             | `np.ndarray`                  | `ndarray`                     |\n"
   ]
  },
  {
   "cell_type": "markdown",
   "id": "907ed144-acab-4c82-9914-990af022fd48",
   "metadata": {},
   "source": [
    "---"
   ]
  },
  {
   "cell_type": "markdown",
   "id": "bd8fe75d-9237-413b-af65-e8d442b23f59",
   "metadata": {},
   "source": [
    "## ⚜️ `.dtype` :\n",
    "   - **`.dtype()`** is used to check data type of **numpy array**.\n",
    "   - When we passed **`.dtype()`** as an argument, you can set **the memory size of the elements** stored in the array."
   ]
  },
  {
   "cell_type": "code",
   "execution_count": 9,
   "id": "fabff32b-ccb0-4488-b08e-a84256ef8326",
   "metadata": {},
   "outputs": [
    {
     "name": "stdout",
     "output_type": "stream",
     "text": [
      "[1 2 3 4 5]\n",
      "int8\n",
      "<U15\n"
     ]
    }
   ],
   "source": [
    "%config Completer.use_jedi = False\n",
    "\n",
    "import numpy as np\n",
    "\n",
    "arr_int = np.array([1, 2, 3, 4, 5], dtype=np.int8)\n",
    "arr_string = np.array([\"Iron Man\", \"Captain America\", \"Spider Man\"])\n",
    "\n",
    "print(arr_int)\n",
    "print(arr_int.dtype)\n",
    "\n",
    "# U means String type and 15 means, largest string in an array\n",
    "print(arr_string.dtype)"
   ]
  },
  {
   "cell_type": "markdown",
   "id": "b8988e3e-78d4-4627-bf22-5c56036f24c1",
   "metadata": {},
   "source": [
    "## ⚜️ `.astype()` method :\n",
    "   - The **`.astype()`** method is used to perform **type casting** means it convert an existing array to a new array with different data type.\n",
    "   -  It creates a copy of the array with the specified type, meaning it does not modify the original array."
   ]
  },
  {
   "cell_type": "code",
   "execution_count": 16,
   "id": "92b52a7c-39b0-4878-82cf-2804f9cc22c0",
   "metadata": {},
   "outputs": [
    {
     "name": "stdout",
     "output_type": "stream",
     "text": [
      "[1. 2. 3. 4.]\n",
      "Original dtype: int32\n",
      "Converted dtype: float32\n"
     ]
    }
   ],
   "source": [
    "import numpy as np\n",
    "\n",
    "arr = np.array([1, 2, 3, 4])  # Default dtype is int32\n",
    "arr_float = arr.astype(np.float32)\n",
    "\n",
    "print(arr_float)\n",
    "print(\"Original dtype:\", arr.dtype)      # Output: int32\n",
    "print(\"Converted dtype:\", arr_float.dtype) # Output: float32"
   ]
  },
  {
   "cell_type": "code",
   "execution_count": null,
   "id": "749c4dcd-c384-4f70-a99a-d99cf85a9fe4",
   "metadata": {},
   "outputs": [],
   "source": []
  }
 ],
 "metadata": {
  "kernelspec": {
   "display_name": "Python 3 (ipykernel)",
   "language": "python",
   "name": "python3"
  },
  "language_info": {
   "codemirror_mode": {
    "name": "ipython",
    "version": 3
   },
   "file_extension": ".py",
   "mimetype": "text/x-python",
   "name": "python",
   "nbconvert_exporter": "python",
   "pygments_lexer": "ipython3",
   "version": "3.12.4"
  }
 },
 "nbformat": 4,
 "nbformat_minor": 5
}
