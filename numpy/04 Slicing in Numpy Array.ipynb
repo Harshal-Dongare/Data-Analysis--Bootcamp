{
 "cells": [
  {
   "cell_type": "markdown",
   "id": "a81bc323-724b-4067-a7d7-ffb2b66052a7",
   "metadata": {},
   "source": [
    "# 🟡 Slicing in Numpy array\n",
    "   - **Slicing** refers to extracting a portion (or subset) of an array using the colon **`:`** operator.\n",
    "   - It allows you to select specific **elements, rows, columns, or sub-arrays from a larger array efficiently**, without copying the data.\n",
    "\n",
    "\n"
   ]
  },
  {
   "cell_type": "markdown",
   "id": "338fc6ad-cbc0-4724-9dfa-a9688a9f942c",
   "metadata": {},
   "source": [
    "---"
   ]
  },
  {
   "cell_type": "markdown",
   "id": "3bb14b19-3100-4308-94ff-f4dc419a4bd7",
   "metadata": {},
   "source": [
    "## ☢️ <font color=\"orange\">Slicing in 1-D array</font>:\n",
    "\n",
    "#### Syntax: \n",
    "\n",
    " **array[ `start` : `end` : `step` ]**"
   ]
  },
  {
   "cell_type": "code",
   "execution_count": 26,
   "id": "631eb34a-4f50-4ffc-8420-c6601db95674",
   "metadata": {},
   "outputs": [
    {
     "name": "stdout",
     "output_type": "stream",
     "text": [
      "[2 3 4]\n",
      "[1 3 5 7 9]\n",
      "[10  9  8  7  6  5  4  3  2  1]\n",
      "[ 8  9 10]\n"
     ]
    }
   ],
   "source": [
    "%config Completer.use_jedi = False\n",
    "\n",
    "import numpy as np\n",
    "\n",
    "arr = np.array([1, 2, 3, 4, 5, 6, 7, 8, 9, 10])\n",
    "\n",
    "# Extract elements from index 1 to 4 (exclusive)\n",
    "print(arr[1:4])\n",
    "\n",
    "# Extract every second element\n",
    "print(arr[::2])\n",
    "\n",
    "# Reverse the array using slicing\n",
    "print(arr[::-1])\n",
    "\n",
    "# Negative Slicing\n",
    "print(arr[-3:])"
   ]
  },
  {
   "cell_type": "markdown",
   "id": "c7459339-0864-4f50-a430-86c7b6fb9438",
   "metadata": {},
   "source": [
    "## ☢️ <font color=\"orange\">Slicing in 2-D array</font>:\n",
    "#### <font color=\"Cyan\">**Syntax**</font> : array`[start_row : end_row, start_col : end_col]`\n",
    "   - **start_row**: The starting row index (inclusive).\n",
    "   - **end_row**: The ending row index (exclusive).\n",
    "   - **start_col**: The starting column index (inclusive).\n",
    "   - **end_col**: The ending column index (exclusive).\n"
   ]
  },
  {
   "cell_type": "code",
   "execution_count": 44,
   "id": "5ba98c51-f7be-4ba4-a19b-b342ded67c87",
   "metadata": {},
   "outputs": [
    {
     "name": "stdout",
     "output_type": "stream",
     "text": [
      "First Row:  [10 20 30]\n",
      "Second Column:  [20 50 80]\n"
     ]
    }
   ],
   "source": [
    "import numpy as np\n",
    "\n",
    "arr = np.array([[10, 20, 30],\n",
    "                [40, 50, 60],\n",
    "                [70, 80, 90]])\n",
    "\n",
    "# Extract the first row\n",
    "print(\"First Row: \", arr[0, :])\n",
    "\n",
    "# Extract the second column\n",
    "print(\"Second Column: \", arr[0:, 1])"
   ]
  },
  {
   "cell_type": "markdown",
   "id": "a2a77d35-0243-46d3-a8a6-a810de684565",
   "metadata": {},
   "source": [
    "## ☢️ <font color=\"orange\">Slicing in 3-D array</font>:\n",
    "#### <font color=\"Cyan\">**Syntax**</font> : array`[start_depth : end_depth, start_row : end_row, start_col : end_col]` \n",
    "   - **start_depth**: Starting index for the depth (inclusive).\n",
    "   - **end_depth**: Ending index for the depth (exclusive).\n",
    "   - **start_row**: Starting index for rows (inclusive).\n",
    "   - **end_row**: Ending index for rows (exclusive).\n",
    "   - **start_col**: Starting index for columns (inclusive).\n",
    "   - **end_col**: Ending index for columns (exclusive)."
   ]
  },
  {
   "cell_type": "code",
   "execution_count": 8,
   "id": "8b6ac819-50da-4dd5-83a1-34dcf33a9782",
   "metadata": {},
   "outputs": [
    {
     "name": "stdout",
     "output_type": "stream",
     "text": [
      "(3, 2, 3)\n",
      "[4 5 6]\n",
      "[[1 2 3]\n",
      " [4 5 6]]\n",
      "[[ 1  2  3]\n",
      " [ 7  8  9]\n",
      " [13 14 15]]\n",
      "[[ 1  4]\n",
      " [ 7 10]\n",
      " [13 16]]\n"
     ]
    }
   ],
   "source": [
    "import numpy as np\n",
    "\n",
    "# Create a 3D array\n",
    "arr_3d = np.array([\n",
    "    [[1, 2, 3], \n",
    "     [4, 5, 6]],\n",
    "    [[7, 8, 9], \n",
    "     [10, 11, 12]],\n",
    "    [[13, 14, 15], \n",
    "     [16, 17, 18]]\n",
    "])\n",
    "\n",
    "print(arr_3d.shape)\n",
    "\n",
    "print(arr_3d[0, 1, :])\n",
    "\n",
    "# Extract all rows and columns from the first depth (depth index 0)\n",
    "print(arr_3d[0, 0:, 0:])\n",
    "\n",
    "# Extract the first row across all depths\n",
    "print(arr_3d[0:, 0, 0:])\n",
    "\n",
    "# Extract the first column across all depths and rows\n",
    "print(arr_3d[0:, 0:, 0])"
   ]
  },
  {
   "cell_type": "markdown",
   "id": "8eff2b14-25bf-462b-8e72-f8fe274c7ef3",
   "metadata": {},
   "source": [
    "---"
   ]
  }
 ],
 "metadata": {
  "kernelspec": {
   "display_name": "Python 3 (ipykernel)",
   "language": "python",
   "name": "python3"
  },
  "language_info": {
   "codemirror_mode": {
    "name": "ipython",
    "version": 3
   },
   "file_extension": ".py",
   "mimetype": "text/x-python",
   "name": "python",
   "nbconvert_exporter": "python",
   "pygments_lexer": "ipython3",
   "version": "3.12.4"
  }
 },
 "nbformat": 4,
 "nbformat_minor": 5
}
