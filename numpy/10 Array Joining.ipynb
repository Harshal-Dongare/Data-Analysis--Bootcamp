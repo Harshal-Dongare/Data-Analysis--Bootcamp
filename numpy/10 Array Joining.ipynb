{
 "cells": [
  {
   "cell_type": "markdown",
   "id": "314e8a70-f9c1-47d6-b4a7-2a18e3933f5b",
   "metadata": {},
   "source": [
    "# 🟡 Array Joining\n",
    "   - Joining arrays means combining multiple arrays into one, either along a specific axis (rows or columns)."
   ]
  },
  {
   "cell_type": "markdown",
   "id": "547d5576-32b9-4842-a1d0-3417c28e8d60",
   "metadata": {},
   "source": [
    "---"
   ]
  },
  {
   "cell_type": "markdown",
   "id": "b1d25935-ce45-4046-9ac8-0d93b0c27391",
   "metadata": {},
   "source": [
    "## ⚜️ Using `np.concatenate()` method\n",
    "   - **Joins existing arrays along an existing axis**.\n",
    "   - You combine arrays **without adding any new dimensions**.\n",
    "   - Think of it as extending the rows or columns of a spreadsheet."
   ]
  },
  {
   "cell_type": "markdown",
   "id": "c61f549e-358b-4705-817a-9ae31f830a02",
   "metadata": {},
   "source": [
    "### 🔰 `.concatenate()` method on 1-D arrays"
   ]
  },
  {
   "cell_type": "code",
   "execution_count": 11,
   "id": "c70920ff-9e7c-4d70-830e-59a48d75d7cf",
   "metadata": {},
   "outputs": [
    {
     "name": "stdout",
     "output_type": "stream",
     "text": [
      "[1 2 3 4]\n"
     ]
    }
   ],
   "source": [
    "import numpy as np\n",
    "\n",
    "# 1D arrays\n",
    "arr1 = np.array([1, 2])\n",
    "arr2 = np.array([3, 4])\n",
    "\n",
    "result = np.concatenate((arr1, arr2))\n",
    "\n",
    "print(result)"
   ]
  },
  {
   "cell_type": "markdown",
   "id": "def5574a-5414-4d5d-a723-7c4fe2b80fcd",
   "metadata": {},
   "source": [
    "### 🔰 `.concatenate()` method on 2-D arrays"
   ]
  },
  {
   "cell_type": "code",
   "execution_count": 42,
   "id": "3a4dc284-8263-4db5-8a9f-afcd10b89f00",
   "metadata": {},
   "outputs": [
    {
     "name": "stdout",
     "output_type": "stream",
     "text": [
      "[[ 1  2  3  4]\n",
      " [45 46 47 48]]\n"
     ]
    }
   ],
   "source": [
    "import numpy as np\n",
    "\n",
    "# 2D arrays\n",
    "arr1 = np.array([[1, 2], [45, 46]])\n",
    "arr2 = np.array([[3, 4], [47, 48]])\n",
    "\n",
    "result = np.concatenate((arr1, arr2), axis=1)\n",
    "print(result)"
   ]
  },
  {
   "cell_type": "markdown",
   "id": "b2afed29-2700-47cf-bd2b-27d86c910019",
   "metadata": {},
   "source": [
    "---\n",
    "---"
   ]
  },
  {
   "cell_type": "markdown",
   "id": "c633523f-7964-4736-9d9e-795edb73ea4a",
   "metadata": {},
   "source": [
    "## ⚜️ Using `np.stack()` method:\n",
    "   - Joins arrays along a new axis.\n",
    "   - Joins arrays along a new axis, adding a new dimension.\n",
    "   - Think of it as creating a new layer or stack.\n",
    "   - Useful when you need to keep arrays separate in a new dimension (like stacking paper sheets into a stack)."
   ]
  },
  {
   "cell_type": "code",
   "execution_count": 40,
   "id": "c7086394-8491-4ebd-abd6-1e7a31fdadf9",
   "metadata": {},
   "outputs": [
    {
     "name": "stdout",
     "output_type": "stream",
     "text": [
      "[[1 3]\n",
      " [2 4]\n",
      " [5 7]\n",
      " [6 8]]\n"
     ]
    }
   ],
   "source": [
    "import numpy as np\n",
    "\n",
    "arr1 = np.array([1, 2, 5, 6])\n",
    "arr2 = np.array([3, 4, 7, 8])\n",
    "\n",
    "result = np.stack((arr1, arr2), axis=1)\n",
    "print(result)       "
   ]
  },
  {
   "cell_type": "markdown",
   "id": "bd18934e-5748-41a4-9b42-19d4771326d5",
   "metadata": {},
   "source": [
    "---\n",
    "---"
   ]
  },
  {
   "cell_type": "markdown",
   "id": "dd1bf1d8-e85c-46ae-8d6b-1b04591eeb09",
   "metadata": {},
   "source": [
    "## ⚜️ Using `np.hstack()` method:\n",
    "   - Joins arrays horizontally (along columns)"
   ]
  },
  {
   "cell_type": "code",
   "execution_count": 52,
   "id": "fc837a42-044d-4c9e-a184-0b130e32c0f9",
   "metadata": {},
   "outputs": [
    {
     "name": "stdout",
     "output_type": "stream",
     "text": [
      "[1 2 5 6 3 4 7 8]\n"
     ]
    }
   ],
   "source": [
    "import numpy as np\n",
    "\n",
    "arr1 = np.array([1, 2, 5, 6])\n",
    "arr2 = np.array([3, 4, 7, 8])\n",
    "\n",
    "result = np.hstack((arr1, arr2))\n",
    "print(result)"
   ]
  },
  {
   "cell_type": "markdown",
   "id": "b9f937bc-e2f9-4b1d-906e-2e23a385b177",
   "metadata": {},
   "source": [
    "---\n",
    "---"
   ]
  },
  {
   "cell_type": "markdown",
   "id": "c90969d8-0e3d-4afd-8c36-297bd68a3046",
   "metadata": {},
   "source": [
    "## ⚜️ Using `np.vstack()` method:\n",
    "   - Joins arrays vertically (along rows)."
   ]
  },
  {
   "cell_type": "code",
   "execution_count": 54,
   "id": "c4eb1919-0db7-4c05-adc9-8063b200501e",
   "metadata": {},
   "outputs": [
    {
     "name": "stdout",
     "output_type": "stream",
     "text": [
      "[[1 2 5 6]\n",
      " [3 4 7 8]]\n"
     ]
    }
   ],
   "source": [
    "import numpy as np\n",
    "\n",
    "arr1 = np.array([1, 2, 5, 6])\n",
    "arr2 = np.array([3, 4, 7, 8])\n",
    "\n",
    "result = np.vstack((arr1, arr2))\n",
    "print(result)"
   ]
  },
  {
   "cell_type": "markdown",
   "id": "72b852ff-9575-4778-b409-bf281e2102af",
   "metadata": {},
   "source": [
    "---\n",
    "---"
   ]
  },
  {
   "cell_type": "markdown",
   "id": "fa01a4d2-dcf2-4bcf-be15-491976fd4807",
   "metadata": {},
   "source": [
    "## ⚜️ Using `np.dstack()` method:\n",
    "   - Joins arrays along the depth **`(third dimension)`**."
   ]
  },
  {
   "cell_type": "code",
   "execution_count": 63,
   "id": "600b4d1f-a32c-4c22-b269-c7e5b01d3e93",
   "metadata": {},
   "outputs": [
    {
     "name": "stdout",
     "output_type": "stream",
     "text": [
      "[[[1 3]\n",
      "  [2 4]\n",
      "  [5 7]\n",
      "  [6 8]]]\n"
     ]
    }
   ],
   "source": [
    "import numpy as np\n",
    "\n",
    "arr1 = np.array([1, 2, 5, 6])\n",
    "arr2 = np.array([3, 4, 7, 8])\n",
    "\n",
    "result = np.dstack((arr1, arr2))\n",
    "print(result)"
   ]
  },
  {
   "cell_type": "code",
   "execution_count": null,
   "id": "182902fe-054d-4e05-a253-1f960a0e83c3",
   "metadata": {},
   "outputs": [],
   "source": []
  }
 ],
 "metadata": {
  "kernelspec": {
   "display_name": "Python 3 (ipykernel)",
   "language": "python",
   "name": "python3"
  },
  "language_info": {
   "codemirror_mode": {
    "name": "ipython",
    "version": 3
   },
   "file_extension": ".py",
   "mimetype": "text/x-python",
   "name": "python",
   "nbconvert_exporter": "python",
   "pygments_lexer": "ipython3",
   "version": "3.12.4"
  }
 },
 "nbformat": 4,
 "nbformat_minor": 5
}
