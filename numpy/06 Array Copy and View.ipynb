{
 "cells": [
  {
   "cell_type": "markdown",
   "id": "e6dd6435-cf2a-4cd7-b13c-93cef2256fc3",
   "metadata": {},
   "source": [
    "# 🟡 Difference between Numpy Array `copy()` vs `view()`"
   ]
  },
  {
   "cell_type": "markdown",
   "id": "c9245803-99e3-4121-9893-91bbbe443bd3",
   "metadata": {},
   "source": [
    "| Feature                | **Copy**                           | **View**                           |\n",
    "|------------------------|------------------------------------|-----------------------------------|\n",
    "| **Definition**         | Creates a new, independent array   | Creates a new array that references the original data |\n",
    "| **Memory Allocation**  | Allocates new memory               | Shares memory with the original array |\n",
    "| **Data Modification**  | Changes in the copy do **not** affect the original array | Changes in the view **affect** the original array |\n",
    "| **Example**            | `arr_copy = arr.copy()`           | `arr_view = arr.view()`           |\n",
    "| **Use Case**           | When you need a **completely independent** copy | When you want to **save memory** but still work with the same data |\n"
   ]
  },
  {
   "cell_type": "code",
   "execution_count": 11,
   "id": "ca492674-0ab7-42cb-b2c5-639b175eccbe",
   "metadata": {},
   "outputs": [
    {
     "name": "stdout",
     "output_type": "stream",
     "text": [
      "Original Array:  [1 2 3 4 5]\n",
      "Copy:  [100   2   3   4   5]\n",
      "\n",
      "Original: [  1   2 200   4   5]\n",
      "View: [  1   2 200   4   5]\n"
     ]
    }
   ],
   "source": [
    "%config Completer.use_jedi = False\n",
    "\n",
    "import numpy as np\n",
    "\n",
    "# Original Array\n",
    "arr = np.array([1, 2, 3, 4, 5])\n",
    "\n",
    "# copy\n",
    "arr_copy = arr.copy()\n",
    "arr_copy[0] = 100\n",
    "print(\"Original Array: \", arr)\n",
    "print(\"Copy: \", arr_copy)\n",
    "\n",
    "print()\n",
    "\n",
    "# view\n",
    "arr_view = arr.view()\n",
    "arr_view[2] = 200\n",
    "print(\"Original:\", arr)\n",
    "print(\"View:\", arr_view)"
   ]
  },
  {
   "cell_type": "code",
   "execution_count": null,
   "id": "14f15757-7ce8-438e-ab16-96fb700c39de",
   "metadata": {},
   "outputs": [],
   "source": []
  }
 ],
 "metadata": {
  "kernelspec": {
   "display_name": "Python 3 (ipykernel)",
   "language": "python",
   "name": "python3"
  },
  "language_info": {
   "codemirror_mode": {
    "name": "ipython",
    "version": 3
   },
   "file_extension": ".py",
   "mimetype": "text/x-python",
   "name": "python",
   "nbconvert_exporter": "python",
   "pygments_lexer": "ipython3",
   "version": "3.12.4"
  }
 },
 "nbformat": 4,
 "nbformat_minor": 5
}
