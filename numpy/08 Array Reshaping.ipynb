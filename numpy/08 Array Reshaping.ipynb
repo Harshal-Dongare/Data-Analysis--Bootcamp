{
 "cells": [
  {
   "cell_type": "markdown",
   "id": "04d7d6c7-5677-4111-8266-f368e775806c",
   "metadata": {},
   "source": [
    "# 🟡 Numpy array reshaping using `.reshape()`\n",
    "   - Reshaping is the process of changing the shape or structure of a NumPy array without changing its data.\n",
    "   - It allows you to rearrange the elements of the array into a different number of rows, columns, or dimensions.\n",
    "   - **Reshaping does not change the original array; it returns a new array with the new shape**."
   ]
  },
  {
   "cell_type": "code",
   "execution_count": 13,
   "id": "c1ea1e0d-2991-4d4f-b869-def46c05e5e4",
   "metadata": {},
   "outputs": [
    {
     "name": "stdout",
     "output_type": "stream",
     "text": [
      "Array before reshaping:  [ 1  2  3  4  5  6  7  8  9 10 11 12]\n",
      "\n",
      "2D array: \n",
      "[[ 1  2  3  4]\n",
      " [ 5  6  7  8]\n",
      " [ 9 10 11 12]]\n",
      "\n",
      "3D array: \n",
      "[[[ 1  2  3]\n",
      "  [ 4  5  6]]\n",
      "\n",
      " [[ 7  8  9]\n",
      "  [10 11 12]]]\n"
     ]
    }
   ],
   "source": [
    "import numpy as np\n",
    "\n",
    "# 1D array\n",
    "arr = np.array([1, 2, 3, 4, 5, 6, 7, 8, 9, 10, 11, 12])\n",
    "print(\"Array before reshaping: \", arr)\n",
    "\n",
    "print()\n",
    "\n",
    "# 2D array\n",
    "arr_2D = arr.reshape(3, 4)\n",
    "print(\"2D array: \")\n",
    "print(arr_2D)\n",
    "\n",
    "print()\n",
    "\n",
    "# 3D array\n",
    "arr_3D = arr.reshape(2, 2, 3)\n",
    "print(\"3D array: \")\n",
    "print(arr_3D)"
   ]
  },
  {
   "cell_type": "markdown",
   "id": "94279ba4-4482-4078-8687-6c649e17b987",
   "metadata": {},
   "source": [
    "## 🔰 Flattening the array from `2D`, `3D` ⟹ `1D`"
   ]
  },
  {
   "cell_type": "code",
   "execution_count": 22,
   "id": "4045efca-7c82-4690-b303-fcbc5960aee2",
   "metadata": {},
   "outputs": [
    {
     "name": "stdout",
     "output_type": "stream",
     "text": [
      "[1 2 3 4 5 6]\n",
      "[1 2 3 4 5 6 7 8]\n"
     ]
    }
   ],
   "source": [
    "import numpy as np\n",
    "\n",
    "# 2D array\n",
    "arr = np.array([[1, 2, 3], [4, 5, 6]])\n",
    "flattened_2d = arr.reshape(-1)\n",
    "\n",
    "# 3D array\n",
    "arr_3d = np.array([[[1, 2], [3, 4]], [[5, 6], [7, 8]]])\n",
    "flattened_3d = arr_3d.reshape(-1)\n",
    "\n",
    "print(flattened_2d)\n",
    "print(flattened_3d)"
   ]
  },
  {
   "cell_type": "markdown",
   "id": "9c460860-0b1e-4b1e-8efd-104d3cd94d24",
   "metadata": {},
   "source": [
    "## ☢️ `.flatten()` and `.ravel()` :\n",
    "   - You can  also flatten an array using the `.flatten()` method or the `.ravel()` method.\n",
    "   - `.flatten()` returns a **copy of the array** as 1D.\n",
    "   - `.ravel()` returns a **view(reference) of the array** as 1D (if possible)."
   ]
  },
  {
   "cell_type": "code",
   "execution_count": 4,
   "id": "ebb147f3-a11d-454f-b2db-92b04da368f4",
   "metadata": {},
   "outputs": [
    {
     "name": "stdout",
     "output_type": "stream",
     "text": [
      "Original array after flattening: [[1 2 3]\n",
      " [4 5 6]\n",
      " [7 8 9]]\n",
      "Flattened array: [100   2   3   4   5   6   7   8   9]\n",
      "\n",
      "Original array after raveling: [[200   2   3]\n",
      " [  4   5   6]\n",
      " [  7   8   9]]\n",
      "Raveled array: [200   2   3   4   5   6   7   8   9]\n"
     ]
    }
   ],
   "source": [
    "import numpy as np\n",
    "\n",
    "arr = np.array([[1, 2, 3], [4, 5, 6], [7, 8, 9]])\n",
    "\n",
    "# Using flatten()\n",
    "arr_flattened = arr.flatten()\n",
    "arr_flattened[0] = 100\n",
    "print(\"Original array after flattening:\", arr)  \n",
    "print(\"Flattened array:\", arr_flattened)  \n",
    "\n",
    "print()\n",
    "\n",
    "# Using ravel()\n",
    "arr_raveled = arr.ravel()\n",
    "arr_raveled[0] = 200\n",
    "print(\"Original array after raveling:\", arr)  \n",
    "print(\"Raveled array:\", arr_raveled)  \n"
   ]
  },
  {
   "cell_type": "code",
   "execution_count": null,
   "id": "c49c7234-2e91-4d1a-bb41-49313b348a26",
   "metadata": {},
   "outputs": [],
   "source": []
  }
 ],
 "metadata": {
  "kernelspec": {
   "display_name": "Python 3 (ipykernel)",
   "language": "python",
   "name": "python3"
  },
  "language_info": {
   "codemirror_mode": {
    "name": "ipython",
    "version": 3
   },
   "file_extension": ".py",
   "mimetype": "text/x-python",
   "name": "python",
   "nbconvert_exporter": "python",
   "pygments_lexer": "ipython3",
   "version": "3.12.4"
  }
 },
 "nbformat": 4,
 "nbformat_minor": 5
}
