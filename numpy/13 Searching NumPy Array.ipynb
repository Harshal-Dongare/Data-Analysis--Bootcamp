{
 "cells": [
  {
   "cell_type": "markdown",
   "id": "7e806935-2a9b-4a0f-9d37-59f1c871ca88",
   "metadata": {},
   "source": [
    "# 🟡 Searching NumPy Array\n",
    "![](https://www.askpython.com/wp-content/uploads/2021/03/SeaRch-operation-in-numpy-1024x512.png)\n",
    "- Searching in NumPy arrays **helps locate specific elements or values meeting conditions**.\n",
    "- It is essential for **filtering and analyzing data in arrays**.\n",
    "- Makes data processing faster and more efficient compared to regular Python lists.\n",
    "-  A key feature of NumPy that **simplifies working with numerical data**.\n",
    "-  By understanding how to search within arrays, users can handle large datasets more effectively, making NumPy an essential library for data processing tasks.\n",
    "\n",
    "> <font color=\"Yellow\">**You can search an array for a certain value and it will return the indexes that get the match by using `where()`.**</font>\n",
    "\n",
    "---\n",
    "---"
   ]
  },
  {
   "cell_type": "markdown",
   "id": "f7e29ea2-4db3-49f7-bb3e-4f3c3b5a77ff",
   "metadata": {},
   "source": [
    "## ⚜️ Using `np.where()` :\n",
    "- Always remember, **it returns indices where a condition is true**.\n",
    "\n",
    "#### Syntax :\n",
    "```python\n",
    "np.where(condition)\n",
    "```"
   ]
  },
  {
   "cell_type": "code",
   "execution_count": 12,
   "id": "1ec10b2d-6066-4ab2-8f74-01f652b3beef",
   "metadata": {},
   "outputs": [
    {
     "name": "stdout",
     "output_type": "stream",
     "text": [
      "(array([3, 4], dtype=int64),)\n"
     ]
    }
   ],
   "source": [
    "import numpy as np\n",
    "\n",
    "arr = np.array([1, 2, 3, 4, 5])\n",
    "indices = np.where(arr > 3)\n",
    "\n",
    "print(indices)"
   ]
  },
  {
   "cell_type": "markdown",
   "id": "7f65135f-bc29-4612-9d16-f2eb38d45b1c",
   "metadata": {},
   "source": [
    "---"
   ]
  },
  {
   "cell_type": "markdown",
   "id": "f2df6a17-c7af-4a00-ae71-7fd689426afa",
   "metadata": {},
   "source": [
    "## ⚜️ Using **Boolean Indexing** :\n",
    "- ***Boolean indexing*** **allows you to filter or retrieve elements from an array** based on conditions.\n",
    "-  It enables you to perform operations on specific elements without using loops.\n",
    "\n",
    "#### Syntax :\n",
    "```python\n",
    "filtered_array = array[condition]\n",
    "```\n",
    "\n",
    "> <font color=\"Yellow\">**This method returns elements after filteration and not indices.**</font>"
   ]
  },
  {
   "cell_type": "markdown",
   "id": "3f597675-b517-4ae3-80ee-5d3bb8628939",
   "metadata": {},
   "source": [
    "### 🔰 <font color=\"Yellow\">Basic Example</font> :"
   ]
  },
  {
   "cell_type": "code",
   "execution_count": 21,
   "id": "7bf3dfe4-1cfe-4f5d-879e-e668c61d0707",
   "metadata": {},
   "outputs": [
    {
     "name": "stdout",
     "output_type": "stream",
     "text": [
      "[4 5]\n"
     ]
    }
   ],
   "source": [
    "import numpy as np\n",
    "\n",
    "arr = np.array([1, 2, 3, 4, 5])\n",
    "filtered = arr[arr > 3]\n",
    "\n",
    "print(filtered)"
   ]
  },
  {
   "cell_type": "markdown",
   "id": "b86ee20b-1d78-4651-ba94-394565c34f52",
   "metadata": {},
   "source": [
    "### 🔰 <font color=\"Yellow\">Multiple Condition</font> :\n",
    "- Use `&` **(AND)**, `|` **(OR)**, and `~` **(NOT)** for combining conditions.\n",
    "- **Parentheses are required because of operator precedence**."
   ]
  },
  {
   "cell_type": "code",
   "execution_count": 25,
   "id": "38e86b6d-fb4a-49c9-8581-ffde76b3d1c7",
   "metadata": {},
   "outputs": [
    {
     "name": "stdout",
     "output_type": "stream",
     "text": [
      "[3 4]\n"
     ]
    }
   ],
   "source": [
    "import numpy as np\n",
    "\n",
    "arr = np.array([1, 2, 3, 4, 5])\n",
    "filtered = arr[(arr > 2) & (arr < 5)]\n",
    "\n",
    "print(filtered)"
   ]
  },
  {
   "cell_type": "markdown",
   "id": "49e3c88a-ff50-4b61-8b50-6bba644360c9",
   "metadata": {},
   "source": [
    "### 🔰 <font color=\"Yellow\">Using `~` (**NOT** Operator)</font> :\n",
    "-  The ~ operator inverts the Boolean array."
   ]
  },
  {
   "cell_type": "code",
   "execution_count": 34,
   "id": "7be0390b-6811-4721-9ab9-882117b3496d",
   "metadata": {},
   "outputs": [
    {
     "name": "stdout",
     "output_type": "stream",
     "text": [
      "[1 2 3]\n"
     ]
    }
   ],
   "source": [
    "import numpy as np\n",
    "\n",
    "arr = np.array([1, 2, 3, 4, 5])\n",
    "\n",
    "filtered = arr[~(arr > 3)]\n",
    "print(filtered)  "
   ]
  },
  {
   "cell_type": "markdown",
   "id": "4f75c9e4-0ca3-4643-93b0-3c4635b363e8",
   "metadata": {},
   "source": [
    "### 🔰 <font color=\"Yellow\">Set Specific Values</font> :\n",
    "- It modifies the original array."
   ]
  },
  {
   "cell_type": "code",
   "execution_count": 38,
   "id": "46cf5414-f9e3-4dc7-96a9-5d8842f1a14e",
   "metadata": {},
   "outputs": [
    {
     "name": "stdout",
     "output_type": "stream",
     "text": [
      "[0 0 3 4 5]\n"
     ]
    }
   ],
   "source": [
    "import numpy as np\n",
    "\n",
    "arr = np.array([1, 2, 3, 4, 5])\n",
    "arr[arr < 3] = 0\n",
    "\n",
    "print(arr)"
   ]
  },
  {
   "cell_type": "markdown",
   "id": "d77960cf-fc15-456f-9e71-3a670fc22f8e",
   "metadata": {},
   "source": [
    "### 🔰 <font color=\"Yellow\">Boolean indexing 2D Arrays</font> :\n",
    "- Boolean indexing works element-wise in multidimensional arrays."
   ]
  },
  {
   "cell_type": "code",
   "execution_count": 50,
   "id": "fc2f3a1c-6ffe-478e-97a1-d705bd2c78b8",
   "metadata": {},
   "outputs": [
    {
     "name": "stdout",
     "output_type": "stream",
     "text": [
      "[4 5 6]\n"
     ]
    }
   ],
   "source": [
    "import numpy as np\n",
    "\n",
    "arr2d = np.array([[1, 2], [3, 4], [5, 6]])\n",
    "\n",
    "filtered = arr2d[arr2d > 3]\n",
    "print(filtered)"
   ]
  },
  {
   "cell_type": "markdown",
   "id": "00a20b4a-0d6a-4d94-84c5-c53cea8beb62",
   "metadata": {},
   "source": [
    "---"
   ]
  },
  {
   "cell_type": "markdown",
   "id": "7dbb57f9-e26d-403e-b6fc-c52b82ff2954",
   "metadata": {},
   "source": [
    "## ⚜️ Using `np.isin()` :\n",
    "- `np.isin()` function is used to checks ***if elements of an array exist in another array***.\n",
    "- It ***returns a Boolean array of the same shape as the input array***, where each element indicates if it exists in the specified set of values.\n",
    "\n",
    "#### Syntax :\n",
    "```python\n",
    "numpy.isin(element, test_elements, assume_unique=False, invert=False)\n",
    "```\n",
    "\n",
    "#### Parameters :\n",
    "- **element** : Input array or scalar whose elements will be tested for memebership.\n",
    "- **test_elements** : The values to be check. Can be a list, array, or scalar."
   ]
  },
  {
   "cell_type": "markdown",
   "id": "c55f3aa6-817a-43a7-93f1-3f3b9dae64cd",
   "metadata": {},
   "source": [
    "### 🔰 <font color=\"Yellow\">Basic usage :"
   ]
  },
  {
   "cell_type": "code",
   "execution_count": 62,
   "id": "67b5e91c-f973-4db2-8ce9-51a7a3b37cec",
   "metadata": {},
   "outputs": [
    {
     "name": "stdout",
     "output_type": "stream",
     "text": [
      "[False  True False  True False]\n"
     ]
    }
   ],
   "source": [
    "import numpy as np\n",
    "\n",
    "arr = np.array([1, 2, 3, 4, 5])\n",
    "test_values = [2, 4, 6]\n",
    "\n",
    "result = np.isin(arr, test_values)\n",
    "print(result) "
   ]
  },
  {
   "cell_type": "markdown",
   "id": "c02e0751-2f6a-4e4c-a409-ee5ac0b46b35",
   "metadata": {},
   "source": [
    "### 🔰 <font color=\"Yellow\">Filtering Elements</font> :"
   ]
  },
  {
   "cell_type": "code",
   "execution_count": 66,
   "id": "4e0ede93-5832-4002-b223-29c33f028be1",
   "metadata": {},
   "outputs": [
    {
     "name": "stdout",
     "output_type": "stream",
     "text": [
      "[2 4]\n"
     ]
    }
   ],
   "source": [
    "import numpy as np\n",
    "\n",
    "arr = np.array([1, 2, 3, 4, 5])\n",
    "test_values = [2, 4, 6]\n",
    "\n",
    "filtered = arr[np.isin(arr, test_values)]\n",
    "print(filtered)"
   ]
  },
  {
   "cell_type": "markdown",
   "id": "b61dc82f-b22f-4a9d-b70b-66664776bbc2",
   "metadata": {},
   "source": [
    "### 🔰 <font color=\"Yellow\">With Multidimensional Arrays</font> :"
   ]
  },
  {
   "cell_type": "code",
   "execution_count": 70,
   "id": "a482eb2c-cd8c-4df6-b694-252e1540ba41",
   "metadata": {},
   "outputs": [
    {
     "name": "stdout",
     "output_type": "stream",
     "text": [
      "[[False  True]\n",
      " [False False]\n",
      " [ True False]]\n"
     ]
    }
   ],
   "source": [
    "arr2d = np.array([[1, 2], [3, 4], [5, 6]])\n",
    "\n",
    "test_values = [2, 5]\n",
    "result = np.isin(arr2d, test_values)\n",
    "\n",
    "print(result)"
   ]
  },
  {
   "cell_type": "markdown",
   "id": "821617eb-793c-49e1-a5bb-bd982158f6de",
   "metadata": {},
   "source": [
    "---"
   ]
  },
  {
   "cell_type": "markdown",
   "id": "02ac0b83-8545-4e53-85fd-affebaf2f669",
   "metadata": {},
   "source": [
    "## ⚜️ Using `np.nonzero()` :\n",
    "- The **`np.nonzero()`** function is used to find the indices of elements that are non-zero (i.e., elements that are not equal to zero or False) in an array.\n",
    "- It returns **a tuple of arrays** where each array contains the indices of those elements which are **non-zero** value.\n",
    "\n",
    "#### Syntax :\n",
    "```python\n",
    "# a is an input array\n",
    "numpy.nonzero(a)\n",
    "```"
   ]
  },
  {
   "cell_type": "markdown",
   "id": "b23d0991-a6de-4dba-a7b2-65f3bf73729b",
   "metadata": {},
   "source": [
    "### 🔰 <font color=\"Yellow\">Basic Usage (1D Array)</font> :"
   ]
  },
  {
   "cell_type": "code",
   "execution_count": 81,
   "id": "090cc2c0-dbea-4358-aade-7a58d5c0781c",
   "metadata": {},
   "outputs": [
    {
     "name": "stdout",
     "output_type": "stream",
     "text": [
      "(array([1, 3, 5], dtype=int64),)\n"
     ]
    }
   ],
   "source": [
    "import numpy as np\n",
    "\n",
    "arr = np.array([0, 2, 0, 3, 0, 4])\n",
    "result = np.nonzero(arr)\n",
    "\n",
    "print(result)"
   ]
  },
  {
   "cell_type": "markdown",
   "id": "73f8ef2e-168c-4ae4-8b8f-d301054c47cf",
   "metadata": {},
   "source": [
    "### 🔰 <font color=\"Yellow\">Using with 2D Arrays</font> :"
   ]
  },
  {
   "cell_type": "code",
   "execution_count": 87,
   "id": "ed76604f-edfa-440b-9baa-fe67bd650242",
   "metadata": {},
   "outputs": [
    {
     "name": "stdout",
     "output_type": "stream",
     "text": [
      "(array([0, 1, 1, 2, 2], dtype=int64), array([1, 0, 2, 0, 2], dtype=int64))\n"
     ]
    }
   ],
   "source": [
    "import numpy as np\n",
    "\n",
    "arr2d = np.array([[0, 1, 0], [2, 0, 3], [4, 0, 5]])\n",
    "\n",
    "result = np.nonzero(arr2d)\n",
    "print(result)\n",
    "\n",
    "# Explanation: Returns two arrays representing the row and column indices \n",
    "# of non-zero elements:\n",
    "\n",
    "# The non-zero elements are at (0,1), (1,0), (1,2), (2,0), and (2,2)."
   ]
  },
  {
   "cell_type": "markdown",
   "id": "62b5a044-ffbd-4261-ae27-3e6623ba0084",
   "metadata": {},
   "source": [
    "### 🔰 <font color=\"Yellow\">Using with `True`/`False` Values</font> :"
   ]
  },
  {
   "cell_type": "code",
   "execution_count": 91,
   "id": "b7c8ef9e-4100-4821-a7f5-b7d9df98acae",
   "metadata": {},
   "outputs": [
    {
     "name": "stdout",
     "output_type": "stream",
     "text": [
      "(array([0, 2], dtype=int64),)\n"
     ]
    }
   ],
   "source": [
    "arr = np.array([True, False, True, False])\n",
    "\n",
    "result = np.nonzero(arr)\n",
    "print(result)"
   ]
  },
  {
   "cell_type": "markdown",
   "id": "978f90d3-fbed-4434-a57b-1767277e1c53",
   "metadata": {},
   "source": [
    "---"
   ]
  },
  {
   "cell_type": "markdown",
   "id": "934b1e8c-5b19-44b8-b212-a81e408ecc2a",
   "metadata": {},
   "source": [
    "## ⚜️ Using `np.argmax()` and `np.argmin()` :\n",
    "- Finds the **index of the maximum or minimum element**."
   ]
  },
  {
   "cell_type": "code",
   "execution_count": 96,
   "id": "30b55850-b941-44c9-a04a-98a338b12c15",
   "metadata": {},
   "outputs": [
    {
     "name": "stdout",
     "output_type": "stream",
     "text": [
      "Index of Maximum element: 1\n",
      "Index of Minimum element: 3\n"
     ]
    }
   ],
   "source": [
    "import numpy as np\n",
    "\n",
    "arr = np.array([10, 20, 15, 5])\n",
    "\n",
    "max_index = np.argmax(arr)\n",
    "min_index = np.argmin(arr)\n",
    "\n",
    "print(\"Index of Maximum element:\", max_index)\n",
    "print(\"Index of Minimum element:\", min_index)"
   ]
  },
  {
   "cell_type": "markdown",
   "id": "5d023c47-777f-4373-a4dc-a9bb41da4c3b",
   "metadata": {},
   "source": [
    "---"
   ]
  },
  {
   "cell_type": "markdown",
   "id": "f8b04f78-28ce-40fc-acd2-399941a3e725",
   "metadata": {},
   "source": [
    "## ⚜️ Using `np.searchsorted()` :\n",
    "- Finds the indices where elements should be inserted into a sorted array to maintain order.\n",
    "- The input array a must be sorted (either in ascending or descending order).\n",
    "\n",
    "#### Syntax :\n",
    "```python\n",
    "numpy.searchsorted(a, v, side='left', sorter=None)\n",
    "```\n",
    "\n",
    "#### Parameters :\n",
    "- **a** : Sorted 1D array\n",
    "- **v** : Array of values to be inserted\n",
    "- **`side`** (optional):\n",
    "    - **`left`** (default) – Insert before the existing element.\n",
    "    - **`right`** – Insert after the existing element.\n",
    "\n",
    "#### Returns :\n",
    "- returs the indices of insertion points for the elements in **`v`**"
   ]
  },
  {
   "cell_type": "markdown",
   "id": "70512ae7-8adc-46c8-8e8f-4553e90bc063",
   "metadata": {},
   "source": [
    "### 🔰 <font color=\"Yellow\">Basic Usage</font> :"
   ]
  },
  {
   "cell_type": "code",
   "execution_count": 117,
   "id": "04cf9076-7e95-47ee-b551-e1133738995d",
   "metadata": {},
   "outputs": [
    {
     "name": "stdout",
     "output_type": "stream",
     "text": [
      "2\n"
     ]
    }
   ],
   "source": [
    "import numpy as np\n",
    "arr = np.array([1, 3, 5, 7])\n",
    "\n",
    "index = np.searchsorted(arr, 4)\n",
    "print(index)"
   ]
  },
  {
   "cell_type": "markdown",
   "id": "97d40405-c4f9-4710-9e50-3f1775d5d5be",
   "metadata": {},
   "source": [
    "### 🔰 <font color=\"Yellow\">Using `side='right'`</font> :"
   ]
  },
  {
   "cell_type": "code",
   "execution_count": 127,
   "id": "5daf717c-c6fc-4358-abdd-1f7d38ffb7e0",
   "metadata": {},
   "outputs": [
    {
     "name": "stdout",
     "output_type": "stream",
     "text": [
      "3\n"
     ]
    }
   ],
   "source": [
    "import numpy as np\n",
    "\n",
    "arr = np.array([1, 3, 5, 7])\n",
    "\n",
    "index = np.searchsorted(arr, 5, side='right')\n",
    "print(index)"
   ]
  },
  {
   "cell_type": "markdown",
   "id": "536bdcd9-d40f-4283-92d1-d412d6dbcd8e",
   "metadata": {},
   "source": [
    "### 🔰 <font color=\"Yellow\">Multiple Values</font> :"
   ]
  },
  {
   "cell_type": "code",
   "execution_count": 125,
   "id": "f6693627-be79-4cb3-a389-08f02242073b",
   "metadata": {},
   "outputs": [
    {
     "name": "stdout",
     "output_type": "stream",
     "text": [
      "[1 2 3]\n"
     ]
    }
   ],
   "source": [
    "import numpy as np\n",
    "\n",
    "arr = np.array([1, 3, 5, 7])\n",
    "indices = np.searchsorted(arr, [2, 4, 6])\n",
    "\n",
    "print(indices)"
   ]
  },
  {
   "cell_type": "markdown",
   "id": "0a3003c9-98b2-41a0-9593-a626d2ffa4d1",
   "metadata": {},
   "source": [
    "---"
   ]
  }
 ],
 "metadata": {
  "kernelspec": {
   "display_name": "Python 3 (ipykernel)",
   "language": "python",
   "name": "python3"
  },
  "language_info": {
   "codemirror_mode": {
    "name": "ipython",
    "version": 3
   },
   "file_extension": ".py",
   "mimetype": "text/x-python",
   "name": "python",
   "nbconvert_exporter": "python",
   "pygments_lexer": "ipython3",
   "version": "3.12.4"
  }
 },
 "nbformat": 4,
 "nbformat_minor": 5
}
