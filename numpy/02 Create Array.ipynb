{
 "cells": [
  {
   "cell_type": "markdown",
   "id": "0dc7fc97-62e8-4241-a2c2-ba383d6d39f3",
   "metadata": {},
   "source": [
    "# 🟡 <font color=\"Gold\">Create array using `numpy`</font>\n",
    "- Arrays are central to NumPy and provide a foundation for performing mathematical operations and data manipulations.\n",
    "- The array object in `numpy` called **ndarray**.\n",
    "### **Syntax** :\n",
    "```python\n",
    "import numpy\n",
    "```\n",
    "\n",
    "### Aliasing :\n",
    "- Aliasing refers to giving a shorter or alternative name to a module or a function during import.\n",
    "- This is done using the **`as`** keyword.\n",
    "\n",
    "### Why Use Aliasing in Import Statements?\n",
    "   - Shorten long module names for convenience.\n",
    "   - Avoid naming conflicts between modules or functions.\n",
    "   - Improve code readability.\n",
    "     \n",
    "### <font color=\"Cyan\">**Syntax**</font> :\n",
    "#### Importing a Module with an Alias\n",
    "```python\n",
    "# Alias 'np' for NumPy\n",
    "import numpy as np   \n",
    "\n",
    "# Use 'np' instead of 'numpy'\n",
    "arr = np.array([1, 2, 3]) \n",
    "```\n",
    "\n",
    "#### Importing Specific Functions with an Alias\n",
    "```python\n",
    "# Alias 'sqrt' as 'sq'\n",
    "from math import sqrt as sq  \n",
    "\n",
    "# Use 'sq' instead of 'sqrt'\n",
    "result = sq(16)  \n",
    "```"
   ]
  },
  {
   "cell_type": "markdown",
   "id": "d4675404-eb74-40b7-a498-3584efa38440",
   "metadata": {},
   "source": [
    "---"
   ]
  },
  {
   "cell_type": "markdown",
   "id": "76b60a04-73c9-4d5c-a01b-a0fa0195486b",
   "metadata": {},
   "source": [
    "## 🔶 <font color=\"OrangeRed\">Using `array()`</font> :\n",
    "- You can **create an array from a list or tuple** using `numpy.array()`.\n",
    "- The **`numpy.array()`** function in NumPy accepts **lists, tuples, or other numpy arrays** as input to create a new NumPy array.\n",
    "- The **`numpy.array()`** function does not accept **Set** and **Dictionaries**.\n",
    "- The elements inside must be of the **same data type** (e.g., integers, floats, or strings)."
   ]
  },
  {
   "cell_type": "code",
   "execution_count": 18,
   "id": "6ef243a5-31b9-4fea-9e0d-891c8856d2b6",
   "metadata": {},
   "outputs": [
    {
     "name": "stdout",
     "output_type": "stream",
     "text": [
      "[1 2 3 4 5]\n",
      "[ 6  7  8  9 10]\n",
      "[[1 2]\n",
      " [3 4]]\n",
      "<class 'numpy.ndarray'>\n"
     ]
    }
   ],
   "source": [
    "%config Completer.use_jedi = False\n",
    "import numpy as np\n",
    "\n",
    "# Passing a list\n",
    "x = np.array([1, 2, 3, 4, 5])\n",
    "\n",
    "# Passing a Tuple\n",
    "y = np.array((6, 7, 8, 9, 10))\n",
    "\n",
    "# Passing a list of list (2D Array)\n",
    "z = np.array([[1, 2], [3, 4]])\n",
    "\n",
    "print(x)\n",
    "print(y)\n",
    "print(z)\n",
    "\n",
    "print(type(x))   # data type is ndarray"
   ]
  },
  {
   "cell_type": "markdown",
   "id": "fd1dea0a-4cdb-4afd-ad61-7ade77c3ca46",
   "metadata": {},
   "source": [
    "---"
   ]
  },
  {
   "cell_type": "markdown",
   "id": "bca73100-3200-4016-b27d-d672f9ae2e49",
   "metadata": {},
   "source": [
    "## 🔶 <font color=\"Coral\">Using `arange()`</font> :\n",
    "   - Creates an array with a range of numbers.\n",
    "   - Useful for generating sequences, similar to Python's built-in `range()` but **returns a NumPy array**.\n",
    "\n",
    "#### Syntax:\n",
    "```python\n",
    "    numpy.arange(start, stop, step, dtype=None)\n",
    "```\n",
    "   - **Note:** `dtype` is useful when you want to control the memory usuage.\n",
    "   - You can pass values like `int8`,`int16`, `int32`, `int64`."
   ]
  },
  {
   "cell_type": "code",
   "execution_count": 26,
   "id": "427afdd7-72f4-4946-8636-53b3e8b90738",
   "metadata": {},
   "outputs": [
    {
     "name": "stdout",
     "output_type": "stream",
     "text": [
      "[0 2 4 6 8]\n"
     ]
    }
   ],
   "source": [
    "import numpy as np\n",
    "\n",
    "arr = np.arange(0, 10, 2)\n",
    "print(arr)"
   ]
  },
  {
   "cell_type": "markdown",
   "id": "acf972d8-555c-49bc-8f56-9903d7af5199",
   "metadata": {},
   "source": [
    "---"
   ]
  },
  {
   "cell_type": "markdown",
   "id": "9d907e85-4a72-4995-ba82-d979cdf7ae41",
   "metadata": {},
   "source": [
    "## 🔶 <font color=\"Coral\">Using `linspace()`</font> :\n",
    "   - Creates an array with evenly spaced numbers over a specified range.\n",
    "   -  Ideal for generating values between two endpoints, especially when you need a specific number of points.\n",
    "#### Syntax:\n",
    "```python\n",
    "numpy.linspace(start, stop, num=50, endpoint=True, retstep=False, dtype=None)\n",
    "```\n",
    "\n",
    "   - **start**: The starting value of the sequence.\n",
    "   - **stop**: The end value of the sequence.\n",
    "   - **num** (default 50): The total number of values to generate between start and stop.\n",
    "   - **endpoint (default True)**: If True, includes stop in the output. If False, excludes stop.\n",
    "   - **retstep (default False)**: If True, returns a tuple (array, step), where step is the spacing between values.\n",
    "   - **dtype**: The data type of the output array (e.g., float32, int64)."
   ]
  },
  {
   "cell_type": "code",
   "execution_count": 40,
   "id": "1902ca33-11b1-44d4-a55e-e30c082d9396",
   "metadata": {},
   "outputs": [
    {
     "name": "stdout",
     "output_type": "stream",
     "text": [
      "[ 0  2  5  7 10]\n"
     ]
    }
   ],
   "source": [
    "import numpy as np\n",
    "\n",
    "arr = np.linspace(0, 10, num=5, dtype=np.int8)\n",
    "\n",
    "print(arr)"
   ]
  },
  {
   "cell_type": "markdown",
   "id": "417e67a3-bd2a-4f0e-94ac-cc0a65cf548c",
   "metadata": {},
   "source": [
    "---"
   ]
  },
  {
   "cell_type": "markdown",
   "id": "210e74e4-e012-4978-9f64-f3e9c1cd230b",
   "metadata": {},
   "source": [
    "## 🔶 <font color=\"Coral\">Using `zeros()` and `ones()`</font> :\n",
    "   - `zeros()` creates an array filled with zeros. It is useful for initializing arrays where all values are initially zero.\n",
    "   - `ones()` creates an array filled with ones. It is commonly used for creating arrays where all elements start as 1.\n",
    "\n",
    "#### Syntax:\n",
    "```python\n",
    "numpy.zeros(shape, dtype=float, order='C')\n",
    "numpy.ones(shape, dtype=float, order='C')\n",
    "```\n",
    "   - **order (default 'C')**:\n",
    "        - This specifies the memory layout order.\n",
    "        - `'C'` (default): **Row-major (C-style) order**.\n",
    "        - `'F'`: **Column-major (Fortran-style) order**.\n",
    "        - This is more relevant when dealing with multidimensional arrays."
   ]
  },
  {
   "cell_type": "code",
   "execution_count": 58,
   "id": "935a7919-f705-457d-9697-05e5f513430d",
   "metadata": {},
   "outputs": [
    {
     "name": "stdout",
     "output_type": "stream",
     "text": [
      "[[0 0 0]\n",
      " [0 0 0]]\n",
      "[[1. 1. 1. 1. 1. 1.]\n",
      " [1. 1. 1. 1. 1. 1.]\n",
      " [1. 1. 1. 1. 1. 1.]\n",
      " [1. 1. 1. 1. 1. 1.]]\n"
     ]
    }
   ],
   "source": [
    "import numpy as np\n",
    "\n",
    "# using `zeros()`\n",
    "arr = np.zeros((2, 3), dtype=int)\n",
    "\n",
    "# using `ones()`\n",
    "arr2 = np.ones((4,6), dtype=float)\n",
    "\n",
    "print(arr)\n",
    "print(arr2)"
   ]
  },
  {
   "cell_type": "markdown",
   "id": "21a0478d-0337-478d-aabf-0a7a74902b3c",
   "metadata": {},
   "source": [
    "---"
   ]
  },
  {
   "cell_type": "markdown",
   "id": "cbe41a29-fdcb-4c3c-bf7a-245fb8345614",
   "metadata": {},
   "source": [
    "## 🔶 <font color=\"Coral\">Using `empty()`</font> :\n",
    "   - Creates an uninitialized array (values are random).\n",
    "   - Creates an array without initializing its elements. Faster than `zeros()` or `ones()` but contains garbage values.\n",
    "\n",
    "#### Syntax:\n",
    "```python\n",
    "numpy.empty(shape, dtype=float, order='C')\n",
    "```"
   ]
  },
  {
   "cell_type": "code",
   "execution_count": 73,
   "id": "91ed41e9-a9e9-4a0a-8f3e-c2f9b75ef5bb",
   "metadata": {},
   "outputs": [
    {
     "name": "stdout",
     "output_type": "stream",
     "text": [
      "[[0. 0.]\n",
      " [0. 0.]\n",
      " [0. 0.]]\n"
     ]
    }
   ],
   "source": [
    "import numpy as np\n",
    "\n",
    "arr = np.empty((3, 2), dtype=float)\n",
    "print(arr)  "
   ]
  },
  {
   "cell_type": "markdown",
   "id": "039fdee8-3ccd-445d-8fbc-97efcf190980",
   "metadata": {},
   "source": [
    "---"
   ]
  },
  {
   "cell_type": "markdown",
   "id": "8f8b716d-beda-4b20-9e0e-d84eca072d64",
   "metadata": {},
   "source": [
    "## 🔶 <font color=\"Coral\">Using `full()`</font> :\n",
    "  - Creates an array filled with a specified value.\n",
    "  - Useful for creating arrays with all elements set to a **constant value**.\n",
    "\n",
    "#### Syntax:\n",
    "```python\n",
    "numpy.full(shape, fill_value, dtype=None, order='C')\n",
    "```"
   ]
  },
  {
   "cell_type": "code",
   "execution_count": 77,
   "id": "c6ac395a-7a32-44b6-a2ab-a41bc02b4e76",
   "metadata": {},
   "outputs": [
    {
     "name": "stdout",
     "output_type": "stream",
     "text": [
      "[[7 7]\n",
      " [7 7]]\n"
     ]
    }
   ],
   "source": [
    "import numpy as np\n",
    "\n",
    "arr = np.full((2, 2), 7)\n",
    "print(arr)"
   ]
  },
  {
   "cell_type": "markdown",
   "id": "a32dffc2-6a8e-47fc-b06b-1c8ae7444bed",
   "metadata": {},
   "source": [
    "---"
   ]
  },
  {
   "cell_type": "markdown",
   "id": "c93c8e48-b032-4c09-ab82-b9675b01bfa8",
   "metadata": {},
   "source": [
    "## 🔶 <font color=\"Coral\">Using `eye()`</font> :\n",
    "   - Creates a 2D identity matrix with ones on the diagonal.\n",
    "   - Often used in linear algebra for identity matrices.\n",
    "\n",
    "#### Syntax:\n",
    "```python\n",
    "numpy.eye(N, M=None, k=0, dtype=float, order='C')\n",
    "```\n",
    "   - `N` is the **number of rows** in the identity matrix.\n",
    "   - `M` is the **number of columns** in the identity matrix. **If not specified, it is set equal to N, creating a square matrix**.\n",
    "   - `K` means **The diagonal offset**.\n",
    "   - `k=0`: The main diagonal (the diagonal from top-left to bottom-right).\n",
    "   - `k>0`: The diagonal above the main diagonal.\n",
    "   - `k<0`: The diagonal below the main diagonal.\n",
    "   - Example: k=1 will shift the diagonal one step up."
   ]
  },
  {
   "cell_type": "code",
   "execution_count": 104,
   "id": "975eb9ef-5a97-47ca-ae49-9fd59f512d17",
   "metadata": {},
   "outputs": [
    {
     "name": "stdout",
     "output_type": "stream",
     "text": [
      "[[1 0 0]\n",
      " [0 1 0]\n",
      " [0 0 1]]\n",
      "[[0 1 0]\n",
      " [0 0 1]\n",
      " [0 0 0]]\n"
     ]
    }
   ],
   "source": [
    "import numpy as np\n",
    "\n",
    "arr = np.eye(3,M=3, dtype=int)\n",
    "\n",
    "# k = 1 will step up diagonal by 1\n",
    "arr2 = np.eye(3,M=3, k=1, dtype=int)\n",
    "              \n",
    "print(arr)\n",
    "print(arr2)"
   ]
  },
  {
   "cell_type": "markdown",
   "id": "dc063e4d-f9ab-475a-be5c-41847e0351b3",
   "metadata": {},
   "source": [
    "---\n",
    "---"
   ]
  },
  {
   "cell_type": "markdown",
   "id": "3fd0b7af-e820-4e17-807a-a1ca0f85736e",
   "metadata": {},
   "source": [
    "## 🟢 <font color=\"MediumSpringGreen\">Dimensions in array</font> :\n",
    "![](https://miro.medium.com/v2/resize:fit:1400/1*m6w9RoOMnWxiQLpCLrY3IA.png)\n",
    "- In `NumPy`, the **dimension of an array** refers to the **number of axes (or levels of nested arrays)** it has. It is also called the **rank of the array**."
   ]
  },
  {
   "cell_type": "markdown",
   "id": "d843dcab-d3d0-4e8e-84b3-9b1ff825145b",
   "metadata": {},
   "source": [
    "### 🔰 <font color=\"MediumSpringGreen\">**0-D Arrays**</font> :\n",
    "- It refer to arrays that have **zero dimensions**.\n",
    "- A **0-dimensional** array is essentially **a scalar**, meaning **it holds a single value**, but it is still treated as an array."
   ]
  },
  {
   "cell_type": "code",
   "execution_count": 40,
   "id": "37a07714-2545-4571-8f88-4cc08dfdbd4f",
   "metadata": {},
   "outputs": [
    {
     "name": "stdout",
     "output_type": "stream",
     "text": [
      "42\n",
      "<class 'numpy.ndarray'>\n",
      "0\n",
      "()\n"
     ]
    }
   ],
   "source": [
    "import numpy as np\n",
    "\n",
    "x = np.array(42)\n",
    "\n",
    "print(x)\n",
    "print(type(x))\n",
    "\n",
    "# The .ndim property returns 0, indicating it's a 0-D array.\n",
    "print(x.ndim)\n",
    "\n",
    "# The .shape returns (), confirming it's a single value without any axes.\n",
    "print(x.shape)"
   ]
  },
  {
   "cell_type": "markdown",
   "id": "60d83eaf-3da5-4679-8fbf-d8b14843dc09",
   "metadata": {},
   "source": [
    "### 🔰 <font color=\"MediumSpringGreen\">**1-D Arrays**</font> :\n",
    "   - **Definition**: A 1D array (one-dimensional array) is a simple linear array of elements, like a list in Python.\n",
    "   - **Shape**: The shape of a 1D array is a tuple with a **single value (n,)**, where n is the number of elements in the array.\n",
    "   - **Indexing**: Elements in a 1D array can be accessed using a single index.\n",
    "   - **Operations**: You can perform element-wise operations like addition, subtraction, etc., directly on 1D arrays."
   ]
  },
  {
   "cell_type": "code",
   "execution_count": 57,
   "id": "8ca2a58e-659f-4fab-a8de-ace92c97c01f",
   "metadata": {},
   "outputs": [
    {
     "name": "stdout",
     "output_type": "stream",
     "text": [
      "[1 2 3 4 5]\n",
      "Size of array:  (5,)\n",
      "Dimensions:  1\n",
      "1\n"
     ]
    }
   ],
   "source": [
    "import numpy as np\n",
    "\n",
    "arr = np.array([1, 2, 3, 4, 5])  # 1D array\n",
    "\n",
    "print(arr)    \n",
    "\n",
    "# returns the dimension and size of the array in a tuple\n",
    "print(\"Size of array: \", arr.shape)     \n",
    "\n",
    "# returns the dimensions of the array\n",
    "print(\"Dimensions: \",arr.ndim)    \n",
    "\n",
    "# Value access\n",
    "print(arr[0])        "
   ]
  },
  {
   "cell_type": "markdown",
   "id": "d6b8c471-cad2-44fb-b4be-fca9fdf80141",
   "metadata": {},
   "source": [
    "### 🔰 <font color=\"MediumSpringGreen\">**2-D Arrays**</font> :\n",
    "   - **Definition**: A 2D array (two-dimensional array) is an array with rows and columns, like a matrix.\n",
    "   - **Shape**: The ***shape of a 2D array is a tuple (rows, columns)***, where rows is the number of rows and columns is the number of columns.\n",
    "   - **Indexing**: Elements in a 2D array can be accessed using two indices: one for the row and one for the column.\n",
    "   - **Operations**: You can perform element-wise operations (like addition, multiplication) on 2D arrays, and operations can be performed along specific axes (rows or columns)."
   ]
  },
  {
   "cell_type": "code",
   "execution_count": 61,
   "id": "a939ddae-2726-4f60-97a4-c88e8a289028",
   "metadata": {},
   "outputs": [
    {
     "name": "stdout",
     "output_type": "stream",
     "text": [
      "(2, 3)\n",
      "2\n"
     ]
    }
   ],
   "source": [
    "import numpy as np\n",
    "\n",
    "arr = np.array([[1, 2, 3], [4, 5, 6]])\n",
    "\n",
    "print(arr.shape) \n",
    "print(arr[0, 1])  # Element in the first row, second column"
   ]
  },
  {
   "cell_type": "markdown",
   "id": "aef4edb2-99b9-485f-a2c0-954b284f77a3",
   "metadata": {},
   "source": [
    "### 🔰 <font color=\"MediumSpringGreen\">**3-D Arrays**</font> :\n",
    "   - **Definition**: A 3D array (three-dimensional array) is an array of arrays of arrays, often thought of as a **\"stack\" of 2D arrays (like a cube)**.\n",
    "   - **Shape**: The shape of a 3D array is a **`tuple (depth, rows, columns)`**, where:\n",
    "        - `depth` is the number of 2D arrays (layers),\n",
    "        - `rows` is the number of rows in each 2D array,\n",
    "        - `columns` is the number of columns in each 2D array.\n",
    "   - **Indexing**: Elements in a 3D array are accessed using three indices: one for depth, one for rows, and one for columns.\n",
    "   - **Operations**: You can perform element-wise operations on a 3D array and also apply operations along any of the three axes (depth, rows, or columns)."
   ]
  },
  {
   "cell_type": "code",
   "execution_count": 72,
   "id": "074c3df7-8a50-4162-ace6-b6c4e43ca64b",
   "metadata": {},
   "outputs": [
    {
     "name": "stdout",
     "output_type": "stream",
     "text": [
      "Size of an array (2, 2, 2)\n",
      "Dimensions:  3\n",
      "4\n"
     ]
    }
   ],
   "source": [
    "import numpy as np\n",
    "\n",
    "# Create a 3D array\n",
    "arr = np.array([[[1, 2], [3, 4]], [[5, 6], [7, 8]]])\n",
    "\n",
    "# Output: (2, 2, 2) -> 2 depth, 2 rows, 2 columns\n",
    "print(\"Size of an array\", arr.shape)\n",
    "\n",
    "# Total number of dimensions in array\n",
    "print(\"Dimensions: \", arr.ndim)\n",
    "\n",
    "# Element in depth 0, row 1, column 1\n",
    "print(arr[0, 1, 1])"
   ]
  },
  {
   "cell_type": "markdown",
   "id": "cf037273-a081-4dd8-9c96-ce625e8f0eb5",
   "metadata": {},
   "source": [
    "### 🔰 <font color=\"MediumSpringGreen\">**Higher Dimensional Arrays**</font> :\n",
    "- An array can have any number of dimensions.\n",
    "- When the array is created, you can defined the number of dimensions by using the **`ndmin`** argument."
   ]
  },
  {
   "cell_type": "code",
   "execution_count": 52,
   "id": "79639fa3-90d2-4331-b968-2ce68c044cd1",
   "metadata": {},
   "outputs": [
    {
     "name": "stdout",
     "output_type": "stream",
     "text": [
      "[[[[[1 2 3 4]]]]]\n",
      "Number of dimensions:  5\n",
      "Shape of the array:  (1, 1, 1, 1, 4)\n"
     ]
    }
   ],
   "source": [
    "import numpy as np\n",
    "\n",
    "arr = np.array([1,2,3,4], ndmin=5)\n",
    "print(arr)\n",
    "print(\"Number of dimensions: \",arr.ndim)\n",
    "print(\"Shape of the array: \",arr.shape)"
   ]
  },
  {
   "cell_type": "markdown",
   "id": "1d3d8eb7-cf39-48c5-9975-f06447b0410a",
   "metadata": {},
   "source": [
    "---\n",
    "---"
   ]
  },
  {
   "cell_type": "markdown",
   "id": "710305da-6abd-4fe5-895f-bd986c90485c",
   "metadata": {},
   "source": [
    "## <font color=\"red\">**Extras**</font>"
   ]
  },
  {
   "cell_type": "markdown",
   "id": "39c23214-7016-4ab3-aaea-9411e644f152",
   "metadata": {},
   "source": [
    "### ❓ Convert 1-D array to 5-D :"
   ]
  },
  {
   "cell_type": "code",
   "execution_count": 76,
   "id": "39206ed1-667f-44f0-baf3-fe6e95c4bc21",
   "metadata": {},
   "outputs": [
    {
     "name": "stdout",
     "output_type": "stream",
     "text": [
      "[[[[[1 2 3 4 5]]]]]\n",
      "5\n"
     ]
    }
   ],
   "source": [
    "import numpy as np\n",
    "\n",
    "arr_1to5 = np.array([1,2,3,4,5], ndmin=5)\n",
    "\n",
    "print(arr_1to5)\n",
    "print(arr_1to5.ndim)"
   ]
  },
  {
   "cell_type": "markdown",
   "id": "22c5919c-f69a-4bd2-ba5a-7ef300ea95df",
   "metadata": {},
   "source": [
    "---"
   ]
  },
  {
   "cell_type": "code",
   "execution_count": null,
   "id": "45cab0aa-613c-41c7-9de0-eb7b408e4d79",
   "metadata": {},
   "outputs": [],
   "source": []
  }
 ],
 "metadata": {
  "kernelspec": {
   "display_name": "Python 3 (ipykernel)",
   "language": "python",
   "name": "python3"
  },
  "language_info": {
   "codemirror_mode": {
    "name": "ipython",
    "version": 3
   },
   "file_extension": ".py",
   "mimetype": "text/x-python",
   "name": "python",
   "nbconvert_exporter": "python",
   "pygments_lexer": "ipython3",
   "version": "3.12.4"
  }
 },
 "nbformat": 4,
 "nbformat_minor": 5
}
