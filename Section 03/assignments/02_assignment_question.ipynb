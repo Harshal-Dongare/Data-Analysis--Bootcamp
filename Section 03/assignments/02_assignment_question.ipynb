{
 "cells": [
  {
   "cell_type": "markdown",
   "id": "ae55d342",
   "metadata": {},
   "source": [
    "### Assignment 1: Simple if Statement\n",
    "\n",
    "Write a program that asks the user to input a number and prints whether the number is positive."
   ]
  },
  {
   "cell_type": "code",
   "execution_count": 3,
   "id": "a6ed7b79",
   "metadata": {},
   "outputs": [
    {
     "name": "stdout",
     "output_type": "stream",
     "text": [
      "Number is Positive.\n"
     ]
    }
   ],
   "source": [
    "user_input = int(input(\"Enter a number: \"))\n",
    "\n",
    "if user_input > 0:\n",
    "    print(\"Number is Positive.\")"
   ]
  },
  {
   "cell_type": "markdown",
   "id": "a0cabb63",
   "metadata": {},
   "source": [
    "### Assignment 2: if-else Statement\n",
    "\n",
    "Write a program that asks the user to input a number and prints whether the number is positive or negative."
   ]
  },
  {
   "cell_type": "code",
   "execution_count": 4,
   "id": "07e30765",
   "metadata": {},
   "outputs": [
    {
     "name": "stdout",
     "output_type": "stream",
     "text": [
      "Number is Negative.\n"
     ]
    }
   ],
   "source": [
    "user_input = int(input(\"Enter a number: \"))\n",
    "\n",
    "if user_input > 0:\n",
    "    print(\"Number is Positive.\")\n",
    "else:\n",
    "    print(\"Number is Negative.\")"
   ]
  },
  {
   "cell_type": "markdown",
   "id": "3abf3f52",
   "metadata": {},
   "source": [
    "### Assignment 3: if-elif-else Statement\n",
    "\n",
    "Write a program that asks the user to input a number and prints whether the number is positive, negative, or zero."
   ]
  },
  {
   "cell_type": "code",
   "execution_count": 6,
   "id": "7432fdf2",
   "metadata": {},
   "outputs": [
    {
     "name": "stdout",
     "output_type": "stream",
     "text": [
      "Number is Zero.\n"
     ]
    }
   ],
   "source": [
    "user_input = int(input(\"Enter a number: \"))\n",
    "\n",
    "if user_input < 0:\n",
    "    print(\"Number is Negative.\")\n",
    "elif user_input > 0:\n",
    "    print(\"Number is Positive.\")\n",
    "else:\n",
    "    print(\"Number is Zero.\")"
   ]
  },
  {
   "cell_type": "markdown",
   "id": "b5809a7c",
   "metadata": {},
   "source": [
    "### Assignment 4: Nested if Statement\n",
    "\n",
    "Write a program that asks the user to input a number and prints whether the number is positive and even, positive and odd, or negative."
   ]
  },
  {
   "cell_type": "code",
   "execution_count": 11,
   "id": "b16959ef",
   "metadata": {},
   "outputs": [
    {
     "name": "stdout",
     "output_type": "stream",
     "text": [
      "Number is either zero or Negative.\n"
     ]
    }
   ],
   "source": [
    "user_input = int(input(\"Enter a number: \"))\n",
    "\n",
    "if user_input > 0:\n",
    "    if user_input%2==0:\n",
    "        print(\"Number is Positive and Even.\")\n",
    "    else:\n",
    "        print(\"Number is Positive and Odd.\")\n",
    "else:\n",
    "    print(\"Number is either zero or Negative.\")"
   ]
  },
  {
   "cell_type": "markdown",
   "id": "7ebe9ed2",
   "metadata": {},
   "source": [
    "### Assignment 5: for Loop\n",
    "\n",
    "Write a program that prints all the numbers from 1 to 10 using a for loop."
   ]
  },
  {
   "cell_type": "code",
   "execution_count": 12,
   "id": "9413c452",
   "metadata": {},
   "outputs": [
    {
     "name": "stdout",
     "output_type": "stream",
     "text": [
      "1 2 3 4 5 6 7 8 9 10 "
     ]
    }
   ],
   "source": [
    "for i in range(1, 11):\n",
    "    print(i, end=\" \")"
   ]
  },
  {
   "cell_type": "markdown",
   "id": "2a55b15f",
   "metadata": {},
   "source": [
    "### Assignment 6: while Loop\n",
    "\n",
    "Write a program that prints all the numbers from 1 to 10 using a while loop."
   ]
  },
  {
   "cell_type": "code",
   "execution_count": 13,
   "id": "0774ee86",
   "metadata": {},
   "outputs": [
    {
     "name": "stdout",
     "output_type": "stream",
     "text": [
      "1 2 3 4 5 6 7 8 9 10 "
     ]
    }
   ],
   "source": [
    "count = 1\n",
    "while count <= 10:\n",
    "    print(count, end=\" \")\n",
    "    count += 1"
   ]
  },
  {
   "cell_type": "markdown",
   "id": "01ded830",
   "metadata": {},
   "source": [
    "### Assignment 7: Nested Loops\n",
    "\n",
    "Write a program that prints a 5x5 grid of asterisks (*) using nested loops."
   ]
  },
  {
   "cell_type": "code",
   "execution_count": 15,
   "id": "77b8d196",
   "metadata": {},
   "outputs": [
    {
     "name": "stdout",
     "output_type": "stream",
     "text": [
      "* * * * * \n",
      "* * * * * \n",
      "* * * * * \n",
      "* * * * * \n",
      "* * * * * \n"
     ]
    }
   ],
   "source": [
    "for i in range(5):\n",
    "    for j in range(5):\n",
    "        print(\"*\", end=\" \")\n",
    "    print()"
   ]
  },
  {
   "cell_type": "markdown",
   "id": "9b92be52",
   "metadata": {},
   "source": [
    "### Assignment 8: break Statement\n",
    "\n",
    "Write a program that asks the user to input numbers until they input 0. The program should print the sum of all the input numbers."
   ]
  },
  {
   "cell_type": "code",
   "execution_count": 18,
   "id": "7c57818f",
   "metadata": {},
   "outputs": [
    {
     "name": "stdout",
     "output_type": "stream",
     "text": [
      "Sum is 9\n"
     ]
    }
   ],
   "source": [
    "sum = 0\n",
    "\n",
    "while True:\n",
    "    user_input = int(input(\"Enter a number: \"))\n",
    "    \n",
    "    if user_input != 0:\n",
    "        sum += user_input\n",
    "    else:\n",
    "        break\n",
    "\n",
    "print(f\"Sum is {sum}\")"
   ]
  },
  {
   "cell_type": "markdown",
   "id": "d741a75d",
   "metadata": {},
   "source": [
    "### Assignment 9: continue Statement\n",
    "\n",
    "Write a program that prints all the numbers from 1 to 10 except 5 using a for loop and continue statement."
   ]
  },
  {
   "cell_type": "code",
   "execution_count": 19,
   "id": "50b0e047",
   "metadata": {},
   "outputs": [
    {
     "name": "stdout",
     "output_type": "stream",
     "text": [
      "1 2 3 4 6 7 8 9 10 "
     ]
    }
   ],
   "source": [
    "for i in range(1, 11):\n",
    "    if i == 5:\n",
    "        continue\n",
    "    print(i, end=\" \")"
   ]
  },
  {
   "cell_type": "markdown",
   "id": "ee7c40b2",
   "metadata": {},
   "source": [
    "### Assignment 10: pass Statement\n",
    "\n",
    "Write a program that defines an empty function using the pass statement."
   ]
  },
  {
   "cell_type": "code",
   "execution_count": 20,
   "id": "a2f3bc53",
   "metadata": {},
   "outputs": [],
   "source": [
    "def sayHello():\n",
    "    pas"
   ]
  },
  {
   "cell_type": "markdown",
   "id": "a536d9af",
   "metadata": {},
   "source": [
    "### Assignment 11: Combining Loops and Conditionals\n",
    "\n",
    "Write a program that asks the user to input a number and prints all the even numbers from 1 to that number using a for loop."
   ]
  },
  {
   "cell_type": "code",
   "execution_count": 22,
   "id": "047844d1",
   "metadata": {},
   "outputs": [
    {
     "name": "stdout",
     "output_type": "stream",
     "text": [
      "2 4 6 8 10 "
     ]
    }
   ],
   "source": [
    "user_input = int(input(\"Enter a number: \"))\n",
    "\n",
    "for i in range(2, user_input+1, 2):\n",
    "    print(i, end=\" \")"
   ]
  },
  {
   "cell_type": "markdown",
   "id": "e6a7590e",
   "metadata": {},
   "source": [
    "### Assignment 12: Factorial Calculation\n",
    "\n",
    "Write a program that calculates the factorial of a number input by the user using a while loop."
   ]
  },
  {
   "cell_type": "code",
   "execution_count": 23,
   "id": "1f7ab123",
   "metadata": {},
   "outputs": [
    {
     "name": "stdout",
     "output_type": "stream",
     "text": [
      "120\n"
     ]
    }
   ],
   "source": [
    "user_input = int(input(\"Enter a number: \"))\n",
    "\n",
    "prod = 1\n",
    "while user_input >= 1:\n",
    "    prod *= user_input\n",
    "    user_input -= 1\n",
    "\n",
    "print(prod)"
   ]
  },
  {
   "cell_type": "markdown",
   "id": "dfb629ee",
   "metadata": {},
   "source": [
    "### Assignment 13: Sum of Digits\n",
    "\n",
    "Write a program that calculates the sum of the digits of a number input by the user using a while loop."
   ]
  },
  {
   "cell_type": "code",
   "execution_count": 28,
   "id": "51dfd757",
   "metadata": {},
   "outputs": [
    {
     "name": "stdout",
     "output_type": "stream",
     "text": [
      "21\n"
     ]
    }
   ],
   "source": [
    "user_input = int(input(\"Enter a number: \"))\n",
    "sum = 0\n",
    "\n",
    "while user_input > 0:\n",
    "    last_digit = user_input % 10\n",
    "    sum = sum + last_digit\n",
    "    user_input = user_input // 10\n",
    "    \n",
    "print(sum)"
   ]
  },
  {
   "cell_type": "markdown",
   "id": "f6c4687b",
   "metadata": {},
   "source": [
    "### Assignment 14: Prime Number Check\n",
    "\n",
    "Write a program that checks if a number input by the user is a prime number using a for loop."
   ]
  },
  {
   "cell_type": "code",
   "execution_count": 33,
   "id": "5a793f24",
   "metadata": {},
   "outputs": [
    {
     "name": "stdout",
     "output_type": "stream",
     "text": [
      "A prime number.\n"
     ]
    }
   ],
   "source": [
    "import math\n",
    "\n",
    "user_input = int(input(\"Enter a number: \"))\n",
    "isPrime = True\n",
    "\n",
    "for i in range(2, int(math.sqrt(user_input))+1):\n",
    "    if user_input%i==0:\n",
    "        isPrime = False\n",
    "        break\n",
    "    \n",
    "if isPrime:\n",
    "    print(\"A prime number.\")\n",
    "else:\n",
    "    print(\"Not a prime number.\")"
   ]
  },
  {
   "cell_type": "markdown",
   "id": "86c07871",
   "metadata": {},
   "source": [
    "### Assignment 15: Fibonacci Sequence\n",
    "\n",
    "Write a program that prints the first n Fibonacci numbers, where n is input by the user."
   ]
  },
  {
   "cell_type": "code",
   "execution_count": 37,
   "id": "82ff1f6d",
   "metadata": {},
   "outputs": [
    {
     "name": "stdout",
     "output_type": "stream",
     "text": [
      "0 1 1 2 3 5 8 13 21 34 55 "
     ]
    }
   ],
   "source": [
    "user_input = int(input(\"Enter a number: \"))\n",
    "\n",
    "a = 0\n",
    "b = 1\n",
    "\n",
    "print(a, b, end=\" \")\n",
    "\n",
    "for i in range(user_input - 1):\n",
    "    c = a + b\n",
    "    a = b\n",
    "    b = c\n",
    "    print(c, end=\" \")"
   ]
  },
  {
   "cell_type": "code",
   "execution_count": null,
   "id": "d74975a2",
   "metadata": {},
   "outputs": [],
   "source": []
  }
 ],
 "metadata": {
  "kernelspec": {
   "display_name": "venv",
   "language": "python",
   "name": "python3"
  },
  "language_info": {
   "codemirror_mode": {
    "name": "ipython",
    "version": 3
   },
   "file_extension": ".py",
   "mimetype": "text/x-python",
   "name": "python",
   "nbconvert_exporter": "python",
   "pygments_lexer": "ipython3",
   "version": "3.12.8"
  }
 },
 "nbformat": 4,
 "nbformat_minor": 5
}
