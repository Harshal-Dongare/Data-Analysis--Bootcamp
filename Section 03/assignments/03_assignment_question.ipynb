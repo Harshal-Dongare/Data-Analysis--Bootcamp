{
 "cells": [
  {
   "cell_type": "markdown",
   "metadata": {},
   "source": [
    "# Module 3: Data Structures Assignments\n"
   ]
  },
  {
   "cell_type": "markdown",
   "id": "9c5594ee",
   "metadata": {},
   "source": [
    "### Assignment 1: Creating and Accessing Lists\n",
    "\n",
    "Create a list of the first 20 positive integers. Print the list."
   ]
  },
  {
   "cell_type": "code",
   "execution_count": 2,
   "id": "8f96e7be",
   "metadata": {},
   "outputs": [
    {
     "name": "stdout",
     "output_type": "stream",
     "text": [
      "[1, 2, 3, 4, 5, 6, 7, 8, 9, 10, 11, 12, 13, 14, 15, 16, 17, 18, 19, 20]\n"
     ]
    }
   ],
   "source": [
    "lst = [i for i in range(1, 21)]\n",
    "print(lst)"
   ]
  },
  {
   "cell_type": "markdown",
   "id": "27baee1e",
   "metadata": {},
   "source": [
    "### Assignment 2: Accessing List Elements\n",
    "\n",
    "Print the first, middle, and last elements of the list created in Assignment 1."
   ]
  },
  {
   "cell_type": "code",
   "execution_count": 11,
   "id": "ea88471e",
   "metadata": {},
   "outputs": [
    {
     "name": "stdout",
     "output_type": "stream",
     "text": [
      "1\n",
      "20\n",
      "11\n"
     ]
    }
   ],
   "source": [
    "print(lst[0])           # first element\n",
    "print(lst[-1])\n",
    "print(lst[len(lst)//2])"
   ]
  },
  {
   "cell_type": "markdown",
   "id": "e6929808",
   "metadata": {},
   "source": [
    "### Assignment 3: List Slicing\n",
    "\n",
    "Print the first five elements, the last five elements, and the elements from index 5 to 15 of the list created in Assignment 1."
   ]
  },
  {
   "cell_type": "code",
   "execution_count": 15,
   "id": "c4f756c2",
   "metadata": {},
   "outputs": [
    {
     "name": "stdout",
     "output_type": "stream",
     "text": [
      "[1, 2, 3, 4, 5]\n",
      "[16, 17, 18, 19, 20]\n",
      "[6, 7, 8, 9, 10, 11, 12, 13, 14, 15, 16]\n"
     ]
    }
   ],
   "source": [
    "print(lst[0:5])         # first five elements\n",
    "print(lst[-5:])         # last five elements\n",
    "print(lst[5:16])        # elements from index 5 to 15"
   ]
  },
  {
   "cell_type": "markdown",
   "id": "e289c087",
   "metadata": {},
   "source": [
    "### Assignment 4: List Comprehensions\n",
    "\n",
    "Create a new list containing the squares of the first 10 positive integers using a list comprehension. Print the new list."
   ]
  },
  {
   "cell_type": "code",
   "execution_count": 18,
   "id": "83fc15a7",
   "metadata": {},
   "outputs": [
    {
     "name": "stdout",
     "output_type": "stream",
     "text": [
      "[1, 4, 9, 16, 25, 36, 49, 64, 81, 100]\n"
     ]
    }
   ],
   "source": [
    "lst2 = [ i*i for i in range(1,11)]\n",
    "print(lst2)"
   ]
  },
  {
   "cell_type": "markdown",
   "id": "6ccfc7f5",
   "metadata": {},
   "source": [
    "### Assignment 5: Filtering Lists\n",
    "\n",
    "Create a new list containing only the even numbers from the list created in Assignment 1 using a list comprehension. Print the new list."
   ]
  },
  {
   "cell_type": "code",
   "execution_count": 20,
   "id": "aa6b47e9",
   "metadata": {},
   "outputs": [
    {
     "name": "stdout",
     "output_type": "stream",
     "text": [
      "[2, 4, 6, 8, 10, 12, 14, 16, 18, 20]\n"
     ]
    }
   ],
   "source": [
    "lst3 = [ i for i in lst if i%2==0]\n",
    "\n",
    "print(lst3)"
   ]
  },
  {
   "cell_type": "markdown",
   "id": "e9511379",
   "metadata": {},
   "source": [
    "### Assignment 6: List Methods\n",
    "\n",
    "Create a list of random numbers and sort it in ascending and descending order. Remove the duplicates from the list and print the modified list."
   ]
  },
  {
   "cell_type": "code",
   "execution_count": 26,
   "id": "db099473",
   "metadata": {},
   "outputs": [
    {
     "name": "stdout",
     "output_type": "stream",
     "text": [
      "[97, 89, 77, 69, 45, 42, 31, 31, 23, 8, 4]\n",
      "[97, 4, 69, 8, 42, 45, 77, 23, 89, 31]\n"
     ]
    }
   ],
   "source": [
    "lst4 = [ 45, 23, 4, 97, 8, 31, 31, 69, 42, 77, 89]\n",
    "lst4.sort()\n",
    "lst4.sort(reverse=True)\n",
    "\n",
    "no_duplicates = list(set(lst4))\n",
    "\n",
    "print(lst4)\n",
    "print(no_duplicates)"
   ]
  },
  {
   "cell_type": "markdown",
   "id": "6e6b45e5",
   "metadata": {},
   "source": [
    "### Assignment 7: Nested Lists\n",
    "\n",
    "Create a nested list representing a 3x3 matrix and print the matrix. Access and print the element at the second row and third column."
   ]
  },
  {
   "cell_type": "code",
   "execution_count": 28,
   "id": "d0105832",
   "metadata": {},
   "outputs": [
    {
     "name": "stdout",
     "output_type": "stream",
     "text": [
      "[[1, 2, 3], [4, 5, 6], [7, 8, 9]]\n",
      "6\n"
     ]
    }
   ],
   "source": [
    "matrix = [\n",
    "    [1, 2, 3],\n",
    "    [4, 5, 6],\n",
    "    [7, 8, 9]\n",
    "]\n",
    "\n",
    "print(matrix)\n",
    "print(matrix[1][2])"
   ]
  },
  {
   "cell_type": "markdown",
   "id": "996785f0",
   "metadata": {},
   "source": [
    "### Assignment 8: List of Dictionaries\n",
    "\n",
    "Create a list of dictionaries where each dictionary represents a student with keys 'name' and 'score'. Sort the list of dictionaries by the 'score' in descending order and print the sorted list."
   ]
  },
  {
   "cell_type": "code",
   "execution_count": 31,
   "id": "a810e3e0",
   "metadata": {},
   "outputs": [
    {
     "name": "stdout",
     "output_type": "stream",
     "text": [
      "[{'name': 'Praju', 'score': 45}, {'name': 'Harsh', 'score': 40}, {'name': 'Joe', 'score': 35}, {'name': 'Preeti', 'score': 15}]\n"
     ]
    }
   ],
   "source": [
    "user_data = [\n",
    "    {\"name\": 'Harsh', \"score\": 40},\n",
    "    {\"name\": 'Praju', \"score\": 45},\n",
    "    {\"name\": 'Preeti', \"score\": 15},\n",
    "    {\"name\": 'Joe', \"score\": 35}\n",
    "    ]\n",
    "\n",
    "user_data.sort(key=lambda x: x['score'], reverse=True)\n",
    "print(user_data)"
   ]
  },
  {
   "cell_type": "markdown",
   "id": "27c158e6",
   "metadata": {},
   "source": [
    "### Assignment 9: Matrix Transposition\n",
    "\n",
    "Write a function that takes a 3x3 matrix (nested list) as input and returns its transpose. Print the original and transposed matrices."
   ]
  },
  {
   "cell_type": "code",
   "execution_count": 36,
   "id": "6a3eb83f",
   "metadata": {},
   "outputs": [
    {
     "name": "stdout",
     "output_type": "stream",
     "text": [
      "[[1, 2, 3], [4, 5, 6], [7, 8, 9]]\n",
      "[[1, 4, 7], [2, 5, 8], [3, 6, 9]]\n"
     ]
    }
   ],
   "source": [
    "matrix = [\n",
    "    [1, 2, 3],\n",
    "    [4, 5, 6],\n",
    "    [7, 8, 9]\n",
    "]\n",
    "\n",
    "def tMatrix(matrix):\n",
    "    new_matrix = [[matrix[j][i] for j in range(len(matrix))] for i in range(len(matrix[0]))]\n",
    "    return new_matrix\n",
    "            \n",
    "transposed = tMatrix(matrix)\n",
    "\n",
    "print(matrix)\n",
    "print(transposed)"
   ]
  },
  {
   "cell_type": "markdown",
   "id": "25028ebd",
   "metadata": {},
   "source": [
    "### Assignment 10: Flattening a Nested List\n",
    "\n",
    "Write a function that takes a nested list and flattens it into a single list. Print the original and flattened lists."
   ]
  },
  {
   "cell_type": "code",
   "execution_count": 39,
   "id": "d4c7ea3d",
   "metadata": {},
   "outputs": [
    {
     "name": "stdout",
     "output_type": "stream",
     "text": [
      "[1, 2, 3, 4, 5, 6, 7, 8, 9]\n"
     ]
    }
   ],
   "source": [
    "nested_list = [\n",
    "    [1, 2, 3],   # First sublist\n",
    "    [4, 5, 6],   # Second sublist\n",
    "    [7, 8, 9]    # Third sublist\n",
    "]\n",
    "\n",
    "flattenList = [nested_list[j][i] for j in range(len(nested_list)) for i in range(len(nested_list[0]))]\n",
    "\n",
    "print(flattenList)"
   ]
  },
  {
   "cell_type": "markdown",
   "id": "8a929b28",
   "metadata": {},
   "source": [
    "### Assignment 11: List Manipulation\n",
    "\n",
    "Create a list of the first 10 positive integers. Remove the elements at indices 2, 4, and 6, and insert the element '99' at index 5. Print the modified list."
   ]
  },
  {
   "cell_type": "code",
   "execution_count": 42,
   "id": "db58b673",
   "metadata": {},
   "outputs": [
    {
     "name": "stdout",
     "output_type": "stream",
     "text": [
      "[1, 2, 4, 5, 7, '99', 8, 10]\n"
     ]
    }
   ],
   "source": [
    "list_int = [i for i in range(1, 11)]\n",
    "\n",
    "del list_int[2]\n",
    "del list_int[4]\n",
    "del list_int[6]\n",
    "\n",
    "list_int.insert(5, '99')\n",
    "\n",
    "print(list_int)"
   ]
  },
  {
   "cell_type": "markdown",
   "id": "98884345",
   "metadata": {},
   "source": [
    "### Assignment 12: List Zipping\n",
    "\n",
    "Create two lists of the same length. Use the `zip` function to combine these lists into a list of tuples and print the result."
   ]
  },
  {
   "cell_type": "code",
   "execution_count": 45,
   "id": "b38b26cf",
   "metadata": {},
   "outputs": [
    {
     "name": "stdout",
     "output_type": "stream",
     "text": [
      "[[('Harsha', 45), ('Deepu', 98), ('Priya', 75), ('Nick', 23)]]\n"
     ]
    }
   ],
   "source": [
    "name = ['Harsha', 'Deepu', 'Priya', 'Nick']\n",
    "age = [45, 98, 75, 23]\n",
    "\n",
    "combined_list = [list(zip(name, age))] \n",
    "print(combined_list)"
   ]
  },
  {
   "cell_type": "markdown",
   "id": "c10ecec9",
   "metadata": {},
   "source": [
    "### Assignment 13: List Reversal\n",
    "\n",
    "Write a function that takes a list and returns a new list with the elements in reverse order. Print the original and reversed lists."
   ]
  },
  {
   "cell_type": "code",
   "execution_count": 49,
   "id": "66fef58c",
   "metadata": {},
   "outputs": [
    {
     "name": "stdout",
     "output_type": "stream",
     "text": [
      "[75, 23, 96, 45]\n",
      "[791, 27, 9, 55]\n"
     ]
    }
   ],
   "source": [
    "def reversedList(a, b):\n",
    "    a1 = list(reversed(a))\n",
    "    b2 = list(reversed(b))\n",
    "    return a1, b2\n",
    "\n",
    "list1 = [45, 96, 23, 75]\n",
    "list2 = [55, 9, 27, 791]\n",
    "\n",
    "new_list1, new_list2 = reversedList(list1, list2)\n",
    "\n",
    "print(new_list1)\n",
    "print(new_list2)"
   ]
  },
  {
   "cell_type": "markdown",
   "id": "6918b73a",
   "metadata": {},
   "source": [
    "### Assignment 14: List Rotation\n",
    "\n",
    "Write a function that rotates a list by n positions. Print the original and rotated lists."
   ]
  },
  {
   "cell_type": "code",
   "execution_count": 50,
   "id": "2e92b7ee",
   "metadata": {},
   "outputs": [
    {
     "name": "stdout",
     "output_type": "stream",
     "text": [
      "[5, 6, 7, 1, 2, 3, 4]\n"
     ]
    }
   ],
   "source": [
    "def rotate_list(lst, n):\n",
    "    n = n % len(list)\n",
    "    \n",
    "    rotated_list = lst[-n:] + lst[:-n]\n",
    "    return rotated_list\n",
    "    \n",
    "list = [1, 2, 3, 4, 5, 6, 7]\n",
    "\n",
    "rotated_list = rotate_list(list, 3)\n",
    "\n",
    "print(rotated_list)"
   ]
  },
  {
   "cell_type": "markdown",
   "id": "ff8160f0",
   "metadata": {},
   "source": [
    "### Assignment 15: List Intersection\n",
    "\n",
    "Write a function that takes two lists and returns a new list containing only the elements that are present in both lists. Print the intersected list."
   ]
  },
  {
   "cell_type": "code",
   "execution_count": 51,
   "id": "1423228a",
   "metadata": {},
   "outputs": [
    {
     "name": "stdout",
     "output_type": "stream",
     "text": [
      "[2, 3]\n"
     ]
    }
   ],
   "source": [
    "def intersect_list(a, b):\n",
    "    intersectedList = [element for element in a if element in list2]\n",
    "    return intersectedList\n",
    "\n",
    "list1 = [1, 2, 3, 4]\n",
    "list2 = [5, 2, 3, 6]\n",
    "\n",
    "result = intersect_list(list1, list2)\n",
    "\n",
    "print(result)"
   ]
  }
 ],
 "metadata": {
  "kernelspec": {
   "display_name": "venv",
   "language": "python",
   "name": "python3"
  },
  "language_info": {
   "codemirror_mode": {
    "name": "ipython",
    "version": 3
   },
   "file_extension": ".py",
   "mimetype": "text/x-python",
   "name": "python",
   "nbconvert_exporter": "python",
   "pygments_lexer": "ipython3",
   "version": "3.12.8"
  }
 },
 "nbformat": 4,
 "nbformat_minor": 5
}
