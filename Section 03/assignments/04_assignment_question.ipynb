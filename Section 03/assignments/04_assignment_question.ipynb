{
 "cells": [
  {
   "cell_type": "markdown",
   "id": "6cade624",
   "metadata": {},
   "source": [
    "# Module 3: Data Structures Assignments"
   ]
  },
  {
   "cell_type": "markdown",
   "id": "cd637a68",
   "metadata": {},
   "source": [
    "### Assignment 1: Creating and Accessing Tuples\n",
    "\n",
    "Create a tuple with the first 10 positive integers. Print the tuple.\n"
   ]
  },
  {
   "cell_type": "code",
   "execution_count": 4,
   "id": "f3a5c968",
   "metadata": {},
   "outputs": [
    {
     "name": "stdout",
     "output_type": "stream",
     "text": [
      "(1, 2, 3, 4, 5, 6, 7, 8, 9, 10)\n"
     ]
    }
   ],
   "source": [
    "tuple_int = tuple(range(1, 11))\n",
    "\n",
    "print(tuple_int)"
   ]
  },
  {
   "cell_type": "markdown",
   "id": "84bdb16b",
   "metadata": {},
   "source": [
    "### Assignment 2: Accessing Tuple Elements\n",
    "\n",
    "Print the first, middle, and last elements of the tuple created in Assignment 1."
   ]
  },
  {
   "cell_type": "code",
   "execution_count": 5,
   "id": "fabe2cda",
   "metadata": {},
   "outputs": [
    {
     "name": "stdout",
     "output_type": "stream",
     "text": [
      "1 6 10\n"
     ]
    }
   ],
   "source": [
    "print(tuple_int[0], tuple_int[len(tuple_int)//2], tuple_int[-1])"
   ]
  },
  {
   "cell_type": "markdown",
   "id": "ecca2d7d",
   "metadata": {},
   "source": [
    "### Assignment 3: Tuple Slicing\n",
    "\n",
    "Print the first three elements, the last three elements, and the elements from index 2 to 5 of the tuple created in Assignment 1."
   ]
  },
  {
   "cell_type": "code",
   "execution_count": 7,
   "id": "16911a26",
   "metadata": {},
   "outputs": [
    {
     "name": "stdout",
     "output_type": "stream",
     "text": [
      "(1, 2, 3)\n",
      "(8, 9, 10)\n",
      "(3, 4, 5, 6)\n"
     ]
    }
   ],
   "source": [
    "print(tuple_int[:3])            # first three elements\n",
    "print(tuple_int[-3:])           # last three elements\n",
    "print(tuple_int[2:6])           # from index 2 to 5"
   ]
  },
  {
   "cell_type": "markdown",
   "id": "9bc9ef63",
   "metadata": {},
   "source": [
    "### Assignment 4: Nested Tuples\n",
    "\n",
    "Create a nested tuple representing a 3x3 matrix and print the matrix. Access and print the element at the second row and third column."
   ]
  },
  {
   "cell_type": "code",
   "execution_count": 8,
   "id": "73771321",
   "metadata": {},
   "outputs": [
    {
     "name": "stdout",
     "output_type": "stream",
     "text": [
      "6\n"
     ]
    }
   ],
   "source": [
    "tuple_matrix = ((1, 2, 3),(4, 5, 6),(7, 8, 9))\n",
    "\n",
    "print(tuple_matrix[1][2])"
   ]
  },
  {
   "cell_type": "markdown",
   "id": "b4b2622c",
   "metadata": {},
   "source": [
    "### Assignment 5: Tuple Concatenation\n",
    "\n",
    "Concatenate two tuples: (1, 2, 3) and (4, 5, 6). Print the resulting tuple."
   ]
  },
  {
   "cell_type": "code",
   "execution_count": 10,
   "id": "f922e07b",
   "metadata": {},
   "outputs": [
    {
     "name": "stdout",
     "output_type": "stream",
     "text": [
      "(1, 2, 3, 4, 5, 6)\n"
     ]
    }
   ],
   "source": [
    "tuple1 = (1, 2, 3)\n",
    "tuple2 = (4, 5, 6)\n",
    "\n",
    "result = tuple1 + tuple2\n",
    "print(result)"
   ]
  },
  {
   "cell_type": "markdown",
   "id": "116e4854",
   "metadata": {},
   "source": [
    "### Assignment 6: Tuple Methods\n",
    "\n",
    "Create a tuple with duplicate elements and count the occurrences of an element. Find the index of the first occurrence of an element in the tuple."
   ]
  },
  {
   "cell_type": "code",
   "execution_count": 13,
   "id": "a52d45bc",
   "metadata": {},
   "outputs": [
    {
     "name": "stdout",
     "output_type": "stream",
     "text": [
      "3\n",
      "5\n"
     ]
    }
   ],
   "source": [
    "tuple_duplicates = (1, 1, 3, 2, 3, 4, 3 ,4, 6, 5, 7)\n",
    "\n",
    "print(tuple_duplicates.count(3))\n",
    "print(tuple_duplicates.index(4))"
   ]
  },
  {
   "cell_type": "markdown",
   "id": "d74da2d4",
   "metadata": {},
   "source": [
    "### Assignment 7: Unpacking Tuples\n",
    "\n",
    "Create a tuple with 5 elements and unpack it into 5 variables. Print the variables."
   ]
  },
  {
   "cell_type": "code",
   "execution_count": 14,
   "id": "42ba3cc6",
   "metadata": {},
   "outputs": [
    {
     "name": "stdout",
     "output_type": "stream",
     "text": [
      "45 79 69 41 52\n"
     ]
    }
   ],
   "source": [
    "tuple_unpack = (45, 79, 69, 41 ,52)\n",
    "a, b, c, d, e = tuple_unpack\n",
    "\n",
    "print(a, b, c, d, e)"
   ]
  },
  {
   "cell_type": "markdown",
   "id": "fbde38b7",
   "metadata": {},
   "source": [
    "### Assignment 8: Tuple Conversion\n",
    "\n",
    "Convert a list of the first 5 positive integers to a tuple. Print the tuple."
   ]
  },
  {
   "cell_type": "code",
   "execution_count": 19,
   "id": "eda3e756",
   "metadata": {},
   "outputs": [
    {
     "name": "stdout",
     "output_type": "stream",
     "text": [
      "(1, 2, 3, 4, 5)\n"
     ]
    }
   ],
   "source": [
    "list_int = [1, 2, 3, 4, 5]\n",
    "\n",
    "listToTuple = tuple(list_int)\n",
    "print(listToTuple)"
   ]
  },
  {
   "cell_type": "markdown",
   "id": "e30185df",
   "metadata": {},
   "source": [
    "### Assignment 9: Tuple of Tuples\n",
    "\n",
    "Create a tuple containing 3 tuples, each with 3 elements. Print the tuple of tuples."
   ]
  },
  {
   "cell_type": "code",
   "execution_count": 20,
   "id": "331deadb",
   "metadata": {},
   "outputs": [
    {
     "name": "stdout",
     "output_type": "stream",
     "text": [
      "(1, 2, 3)\n",
      "(4, 5, 6)\n",
      "(7, 8, 9)\n"
     ]
    }
   ],
   "source": [
    "tuple_matrix = ((1, 2, 3),(4, 5, 6),(7, 8, 9))\n",
    "\n",
    "for i in tuple_matrix:\n",
    "    print(i)"
   ]
  },
  {
   "cell_type": "markdown",
   "id": "042c5dda",
   "metadata": {},
   "source": [
    "### Assignment 10: Tuple and List\n",
    "\n",
    "Create a tuple with the first 5 positive integers. Convert it to a list, append the number 6, and convert it back to a tuple. Print the resulting tuple."
   ]
  },
  {
   "cell_type": "code",
   "execution_count": 22,
   "id": "c1efaac2",
   "metadata": {},
   "outputs": [
    {
     "name": "stdout",
     "output_type": "stream",
     "text": [
      "(1, 2, 3, 4, 5, 6)\n"
     ]
    }
   ],
   "source": [
    "tuple_int = tuple(range(1, 6))\n",
    "\n",
    "tuple_to_list = list(tuple_int)\n",
    "\n",
    "tuple_to_list.append(6)\n",
    "\n",
    "tuple_int = tuple(tuple_to_list)\n",
    "\n",
    "print(tuple_int)"
   ]
  },
  {
   "cell_type": "markdown",
   "id": "9e5fac34",
   "metadata": {},
   "source": [
    "### Assignment 11: Tuple and String\n",
    "\n",
    "Create a tuple with the characters of a string. Join the tuple elements into a single string. Print the string."
   ]
  },
  {
   "cell_type": "code",
   "execution_count": 25,
   "id": "768b5515",
   "metadata": {},
   "outputs": [
    {
     "name": "stdout",
     "output_type": "stream",
     "text": [
      "Harshal\n"
     ]
    }
   ],
   "source": [
    "string = \"Harshal\"\n",
    "tuple_chars = tuple(string)\n",
    "\n",
    "joined_string = ''.join(tuple_chars)\n",
    "print(joined_string)"
   ]
  },
  {
   "cell_type": "markdown",
   "id": "dca6e807",
   "metadata": {},
   "source": [
    "### Assignment 12: Tuple and Dictionary\n",
    "\n",
    "Create a dictionary with tuple keys and integer values. Print the dictionary."
   ]
  },
  {
   "cell_type": "code",
   "execution_count": 27,
   "id": "5e180886",
   "metadata": {},
   "outputs": [
    {
     "name": "stdout",
     "output_type": "stream",
     "text": [
      "{(1, 2): 3, (4, 5): 6, (7, 8): 9}\n"
     ]
    }
   ],
   "source": [
    "tple_dict = {\n",
    "    (1, 2) : 3, \n",
    "    (4, 5) : 6,\n",
    "    (7, 8) : 9\n",
    "}\n",
    "\n",
    "print(tple_dict)"
   ]
  },
  {
   "cell_type": "markdown",
   "id": "71b17b83",
   "metadata": {},
   "source": [
    "### Assignment 13: Nested Tuple Iteration\n",
    "\n",
    "Create a nested tuple and iterate over the elements, printing each element."
   ]
  },
  {
   "cell_type": "code",
   "execution_count": 30,
   "id": "1c17a1e5",
   "metadata": {},
   "outputs": [
    {
     "name": "stdout",
     "output_type": "stream",
     "text": [
      "1 2 3 4 5 6 7 8 9 "
     ]
    }
   ],
   "source": [
    "tple_nested = ((1, 2, 3), (4, 5, 6), (7, 8, 9))\n",
    "\n",
    "for tple in tple_nested:\n",
    "    for element in tple:\n",
    "        print(element, end=\" \")"
   ]
  },
  {
   "cell_type": "markdown",
   "id": "4ec6b85b",
   "metadata": {},
   "source": [
    "### Assignment 14: Tuple and Set\n",
    "\n",
    "Create a tuple with duplicate elements. Convert it to a set to remove duplicates and print the resulting set."
   ]
  },
  {
   "cell_type": "code",
   "execution_count": 31,
   "metadata": {},
   "outputs": [
    {
     "name": "stdout",
     "output_type": "stream",
     "text": [
      "{1, 2, 4, 6, 7, 8}\n"
     ]
    }
   ],
   "source": [
    "tuple_dup = (1, 1, 2 ,8, 7, 7, 6 ,7 ,4 ,2)\n",
    "\n",
    "tuple_to_set = set(tuple_dup)\n",
    "\n",
    "print(tuple_to_set)"
   ]
  },
  {
   "cell_type": "markdown",
   "id": "602d4b89",
   "metadata": {},
   "source": [
    "### Assignment 15: Tuple Functions\n",
    "\n",
    "Write functions that take a tuple and return the minimum, maximum, and sum of the elements. Print the results for a sample tuple."
   ]
  },
  {
   "cell_type": "code",
   "execution_count": 34,
   "id": "ce599f9a",
   "metadata": {},
   "outputs": [
    {
     "name": "stdout",
     "output_type": "stream",
     "text": [
      "Minimum number: 3\n",
      "Maximum number: 979\n",
      "Sum of numbers: 1238\n"
     ]
    }
   ],
   "source": [
    "def calc(a):\n",
    "    minVal = min(a)\n",
    "    maxVal = max(a)\n",
    "    sumOfEle = sum(a)\n",
    "    return minVal, maxVal, sumOfEle\n",
    "\n",
    "tuple_int = (5, 4, 979, 9 ,97 ,87 ,54 ,3)\n",
    "\n",
    "result = calc(tuple_int)\n",
    "print(f\"Minimum number: {result[0]}\")\n",
    "print(f\"Maximum number: {result[1]}\")\n",
    "print(f\"Sum of numbers: {result[2]}\")"
   ]
  },
  {
   "cell_type": "code",
   "execution_count": null,
   "id": "a3887052",
   "metadata": {},
   "outputs": [],
   "source": []
  }
 ],
 "metadata": {
  "kernelspec": {
   "display_name": "venv",
   "language": "python",
   "name": "python3"
  },
  "language_info": {
   "codemirror_mode": {
    "name": "ipython",
    "version": 3
   },
   "file_extension": ".py",
   "mimetype": "text/x-python",
   "name": "python",
   "nbconvert_exporter": "python",
   "pygments_lexer": "ipython3",
   "version": "3.12.8"
  }
 },
 "nbformat": 4,
 "nbformat_minor": 5
}
