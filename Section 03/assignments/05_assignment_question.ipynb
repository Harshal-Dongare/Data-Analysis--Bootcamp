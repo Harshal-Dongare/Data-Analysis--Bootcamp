{
 "cells": [
  {
   "cell_type": "markdown",
   "metadata": {},
   "source": [
    "# Module 3: Data Structures Assignments\n",
    "## Lesson 3.3: Sets\n"
   ]
  },
  {
   "cell_type": "markdown",
   "id": "27c180c4",
   "metadata": {},
   "source": [
    "### Assignment 1: Creating and Accessing Sets\n",
    "\n",
    "Create a set with the first 10 positive integers. Print the set."
   ]
  },
  {
   "cell_type": "code",
   "execution_count": 3,
   "id": "06021e86",
   "metadata": {},
   "outputs": [
    {
     "name": "stdout",
     "output_type": "stream",
     "text": [
      "{1, 2, 3, 4, 5, 6, 7, 8, 9, 10}\n"
     ]
    }
   ],
   "source": [
    "# set_int = {i for i in range(1, 11)}\n",
    "set_int = set(range(1, 11))\n",
    "print(set_int)"
   ]
  },
  {
   "cell_type": "markdown",
   "id": "90a70545",
   "metadata": {},
   "source": [
    "### Assignment 2: Adding and Removing Elements\n",
    "\n",
    "Add the number 11 to the set created in Assignment 1. Then remove the number 1 from the set. Print the modified set."
   ]
  },
  {
   "cell_type": "code",
   "execution_count": 4,
   "id": "cc344c49",
   "metadata": {},
   "outputs": [
    {
     "name": "stdout",
     "output_type": "stream",
     "text": [
      "{2, 3, 4, 5, 6, 7, 8, 9, 10, 11}\n"
     ]
    }
   ],
   "source": [
    "set_int.add(11)         # add 11\n",
    "set_int.remove(1)\n",
    "\n",
    "print(set_int)"
   ]
  },
  {
   "cell_type": "markdown",
   "id": "0a087cf1",
   "metadata": {},
   "source": [
    "### Assignment 3: Set Operations\n",
    "\n",
    "Create two sets: one with the first 5 positive integers and another with the first 5 even integers. Perform and print the results of union, intersection, difference, and symmetric difference operations on these sets."
   ]
  },
  {
   "cell_type": "code",
   "execution_count": 9,
   "id": "a6bc26f0",
   "metadata": {},
   "outputs": [
    {
     "name": "stdout",
     "output_type": "stream",
     "text": [
      "Set 1: {1, 2, 3, 4, 5}\n",
      "Set 2: {2, 4, 6, 8, 10, 12}\n",
      "{1, 2, 3, 4, 5, 6, 8, 10, 12}\n",
      "{2, 4}\n",
      "{1, 3, 5}\n",
      "{1, 3, 5, 6, 8, 10, 12}\n"
     ]
    }
   ],
   "source": [
    "set1 = set(range(1, 6))\n",
    "set2 = set(range(2, 13, 2))\n",
    "\n",
    "print(\"Set 1:\",set1)\n",
    "print(\"Set 2:\",set2)\n",
    "\n",
    "union_op = set1.union(set2)\n",
    "intersect_op = set1.intersection(set2)\n",
    "diff_op = set1.difference(set2)\n",
    "symm_diff = set1.symmetric_difference(set2)\n",
    "\n",
    "print(union_op)\n",
    "print(intersect_op)\n",
    "print(diff_op)\n",
    "print(symm_diff)"
   ]
  },
  {
   "cell_type": "markdown",
   "id": "4962542b",
   "metadata": {},
   "source": [
    "### Assignment 4: Set Comprehensions\n",
    "\n",
    "Create a new set containing the squares of the first 10 positive integers using a set comprehension. Print the new set."
   ]
  },
  {
   "cell_type": "code",
   "execution_count": 10,
   "id": "84256977",
   "metadata": {},
   "outputs": [
    {
     "name": "stdout",
     "output_type": "stream",
     "text": [
      "{64, 1, 4, 36, 100, 9, 16, 49, 81, 25}\n"
     ]
    }
   ],
   "source": [
    "set_sqre = {i*i for i in range(1, 11)}\n",
    "\n",
    "print(set_sqre)"
   ]
  },
  {
   "cell_type": "markdown",
   "id": "20c1a7f9",
   "metadata": {},
   "source": [
    "### Assignment 5: Filtering Sets\n",
    "\n",
    "Create a new set containing only the even numbers from the set created in Assignment 1 using a set comprehension. Print the new set."
   ]
  },
  {
   "cell_type": "code",
   "execution_count": 11,
   "id": "f5e1be83",
   "metadata": {},
   "outputs": [
    {
     "name": "stdout",
     "output_type": "stream",
     "text": [
      "{2, 4, 6, 8, 10}\n"
     ]
    }
   ],
   "source": [
    "set_even = {i for i in set_int if i%2==0}\n",
    "\n",
    "print(set_even)"
   ]
  },
  {
   "cell_type": "markdown",
   "id": "2c4e09f8",
   "metadata": {},
   "source": [
    "### Assignment 6: Set Methods\n",
    "\n",
    "Create a set with duplicate elements and remove the duplicates using set methods. Print the modified set."
   ]
  },
  {
   "cell_type": "code",
   "execution_count": 14,
   "id": "08f74c23",
   "metadata": {},
   "outputs": [
    {
     "name": "stdout",
     "output_type": "stream",
     "text": [
      "{1, 2, 4, 5, 8, 9}\n"
     ]
    }
   ],
   "source": [
    "s = {1, 1, 2, 4, 8, 9, 5, 4}\n",
    "s_unique = set(s)\n",
    "print(s_unique)"
   ]
  },
  {
   "cell_type": "markdown",
   "id": "2808903b",
   "metadata": {},
   "source": [
    "### Assignment 7: Subsets and Supersets\n",
    "\n",
    "Create two sets: one with the first 5 positive integers and another with the first 3 positive integers. Check if the second set is a subset of the first set and if the first set is a superset of the second set. Print the results."
   ]
  },
  {
   "cell_type": "code",
   "execution_count": 23,
   "id": "2476a495",
   "metadata": {},
   "outputs": [
    {
     "name": "stdout",
     "output_type": "stream",
     "text": [
      "Set 1: {1, 2, 3, 4, 5}\n",
      "Set 2: {1, 2, 3}\n",
      "Is set2 subset of set1: True\n",
      "Is set1 superset of set2: True\n"
     ]
    }
   ],
   "source": [
    "set_int1 = set(range(1, 6))\n",
    "set_int2 = set(range(1, 4))\n",
    "\n",
    "print(\"Set 1:\", set_int1)\n",
    "print(\"Set 2:\", set_int2)\n",
    "\n",
    "print(\"Is set2 subset of set1:\", set_int2.issubset(set_int1))\n",
    "print(\"Is set1 superset of set2:\", set_int1.issuperset(set_int2))"
   ]
  },
  {
   "cell_type": "markdown",
   "id": "9d81b27c",
   "metadata": {},
   "source": [
    "### Assignment 8: Frozenset\n",
    "\n",
    "Create a frozenset with the first 5 positive integers. Print the frozenset."
   ]
  },
  {
   "cell_type": "code",
   "execution_count": 24,
   "id": "f846a3cd",
   "metadata": {},
   "outputs": [
    {
     "name": "stdout",
     "output_type": "stream",
     "text": [
      "frozenset({1, 2, 3, 4, 5})\n"
     ]
    }
   ],
   "source": [
    "fs = frozenset(range(1, 6))\n",
    "print(fs)"
   ]
  },
  {
   "cell_type": "markdown",
   "id": "a6c8874d",
   "metadata": {},
   "source": [
    "### Assignment 9: Set and List Conversion\n",
    "\n",
    "Create a set with the first 5 positive integers. Convert it to a list, append the number 6, and convert it back to a set. Print the resulting set."
   ]
  },
  {
   "cell_type": "code",
   "execution_count": 25,
   "id": "2fe346a7",
   "metadata": {},
   "outputs": [
    {
     "name": "stdout",
     "output_type": "stream",
     "text": [
      "{1, 2, 3, 4, 5, 6}\n"
     ]
    }
   ],
   "source": [
    "set1 = set(range(1, 6))\n",
    "\n",
    "set_to_list = list(set1)\n",
    "\n",
    "set_to_list.append(6)\n",
    "\n",
    "set1 = set(set_to_list)\n",
    "print(set1)"
   ]
  },
  {
   "cell_type": "markdown",
   "id": "5e7f21d0",
   "metadata": {},
   "source": [
    "### Assignment 10: Set and Dictionary\n",
    "\n",
    "Create a dictionary with set keys and integer values. Print the dictionary."
   ]
  },
  {
   "cell_type": "code",
   "execution_count": 26,
   "id": "c473f53d",
   "metadata": {},
   "outputs": [
    {
     "name": "stdout",
     "output_type": "stream",
     "text": [
      "{frozenset({1, 2}): 3, frozenset({4, 5}): 6, frozenset({8, 7}): 9}\n"
     ]
    }
   ],
   "source": [
    "dict_data = {\n",
    "    frozenset({1, 2}): 3,\n",
    "    frozenset({4, 5}): 6,\n",
    "    frozenset({7, 8}): 9,\n",
    "}\n",
    "\n",
    "print(dict_data)"
   ]
  },
  {
   "cell_type": "markdown",
   "id": "ec54d76d",
   "metadata": {},
   "source": [
    "### Assignment 11: Iterating Over Sets\n",
    "\n",
    "Create a set and iterate over the elements, printing each element."
   ]
  },
  {
   "cell_type": "code",
   "execution_count": 27,
   "id": "6ea2f83d",
   "metadata": {},
   "outputs": [
    {
     "name": "stdout",
     "output_type": "stream",
     "text": [
      "17 2 3 83 74 12 45 "
     ]
    }
   ],
   "source": [
    "set_elements = {45, 74, 83, 12, 17, 2, 3}\n",
    "\n",
    "for i in set_elements:\n",
    "    print(i, end=\" \")"
   ]
  },
  {
   "cell_type": "markdown",
   "id": "6b25939b",
   "metadata": {},
   "source": [
    "### Assignment 12: Removing Elements from Sets\n",
    "\n",
    "Create a set and remove elements from it until it is empty. Print the set after each removal.\n"
   ]
  },
  {
   "cell_type": "code",
   "execution_count": 29,
   "id": "5d71d598",
   "metadata": {},
   "outputs": [
    {
     "name": "stdout",
     "output_type": "stream",
     "text": [
      "Set after removing 1: {2, 3, 4, 5, 6, 7}\n",
      "Set after removing 2: {3, 4, 5, 6, 7}\n",
      "Set after removing 3: {4, 5, 6, 7}\n",
      "Set after removing 4: {5, 6, 7}\n",
      "Set after removing 5: {6, 7}\n",
      "Set after removing 6: {7}\n",
      "Set after removing 7: set()\n"
     ]
    }
   ],
   "source": [
    "set_num = set(range(1, 8))\n",
    "\n",
    "while set_num:\n",
    "    removed_ele = set_num.pop()\n",
    "    print(f\"Set after removing {removed_ele}: {set_num}\")"
   ]
  },
  {
   "cell_type": "markdown",
   "id": "181af549",
   "metadata": {},
   "source": [
    "### Assignment 13: Set Symmetric Difference Update\n",
    "\n",
    "Create two sets and update the first set with the symmetric difference of the two sets. Print the modified first set."
   ]
  },
  {
   "cell_type": "code",
   "execution_count": 31,
   "id": "ac065ac5",
   "metadata": {},
   "outputs": [
    {
     "name": "stdout",
     "output_type": "stream",
     "text": [
      "{1, 3, 5, 6, 9}\n"
     ]
    }
   ],
   "source": [
    "set1 = {1, 5, 6, 7, 8}\n",
    "set2 = {9, 7, 8, 9, 3}\n",
    "\n",
    "set1.symmetric_difference_update(set2)\n",
    "print(set1)"
   ]
  },
  {
   "cell_type": "markdown",
   "id": "f10f9329",
   "metadata": {},
   "source": [
    "### Assignment 14: Set Membership Testing\n",
    "\n",
    "Create a set and test if certain elements are present in the set. Print the results."
   ]
  },
  {
   "cell_type": "code",
   "execution_count": 33,
   "id": "b50d2b6f",
   "metadata": {},
   "outputs": [
    {
     "name": "stdout",
     "output_type": "stream",
     "text": [
      "True\n",
      "False\n"
     ]
    }
   ],
   "source": [
    "set_ele = {45, 98, 33, 457, 11, 223}\n",
    "\n",
    "print(45 in set_ele)\n",
    "print(69 in set_ele)"
   ]
  },
  {
   "cell_type": "markdown",
   "id": "0c7bf346",
   "metadata": {},
   "source": [
    "### Assignment 15: Set of Tuples\n",
    "\n",
    "Create a set containing tuples, where each tuple contains two elements. Print the set."
   ]
  },
  {
   "cell_type": "code",
   "execution_count": 37,
   "id": "6e2744b6",
   "metadata": {},
   "outputs": [
    {
     "name": "stdout",
     "output_type": "stream",
     "text": [
      "(4, 9)\n",
      "(3, 7)\n",
      "(4, 6)\n",
      "(5, 7)\n",
      "(1, 6)\n",
      "(1, 9)\n",
      "(2, 8)\n",
      "(3, 9)\n",
      "(5, 6)\n",
      "(4, 8)\n",
      "(3, 6)\n",
      "(5, 9)\n",
      "(2, 7)\n",
      "(1, 8)\n",
      "(4, 7)\n",
      "(3, 8)\n",
      "(5, 8)\n",
      "(2, 9)\n",
      "(1, 7)\n",
      "(2, 6)\n"
     ]
    }
   ],
   "source": [
    "set_tuples = {(i,j) for i in range(1, 6) for j in range(6, 10)}\n",
    "\n",
    "for tple in set_tuples:\n",
    "        print(tple)"
   ]
  }
 ],
 "metadata": {
  "kernelspec": {
   "display_name": "venv",
   "language": "python",
   "name": "python3"
  },
  "language_info": {
   "codemirror_mode": {
    "name": "ipython",
    "version": 3
   },
   "file_extension": ".py",
   "mimetype": "text/x-python",
   "name": "python",
   "nbconvert_exporter": "python",
   "pygments_lexer": "ipython3",
   "version": "3.12.8"
  }
 },
 "nbformat": 4,
 "nbformat_minor": 5
}
